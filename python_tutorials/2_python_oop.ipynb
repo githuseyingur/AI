{
 "cells": [
  {
   "cell_type": "markdown",
   "id": "d287e8b7-ca36-4d14-b6f9-2795a1d5ec44",
   "metadata": {},
   "source": [
    "## CLASS"
   ]
  },
  {
   "cell_type": "code",
   "execution_count": 113,
   "id": "75ddc002-b80e-4741-90eb-421204ca3b69",
   "metadata": {},
   "outputs": [],
   "source": [
    "class User:\n",
    "    \n",
    "    phone = \"+905062691416\"\n",
    "    \n",
    "    def __init__(self,name = \"...\",surname = \"...\", age = 0 ,email =\"...\",graduatedSchool=\"...\"):\n",
    "        self.name = name\n",
    "        self.surname = surname\n",
    "        self.age = age\n",
    "        self.email = email\n",
    "        self.graduatedSchool = graduatedSchool\n",
    "        \n",
    "    def introduceYourself(self):\n",
    "          print(f'I am {self.name} {self.surname} and I am a user. I am {self.age} years old. I graduated from {self.graduatedSchool}. Contact me: {self.email}\\n{self.phone}')\n",
    "        "
   ]
  },
  {
   "cell_type": "code",
   "execution_count": 115,
   "id": "d177b644-4825-4519-af9e-4f944f65334f",
   "metadata": {},
   "outputs": [],
   "source": [
    "huseyin = User(\"Hüseyin\",\"Gür\",30,\"huseyingur_ceng@gmail.com\",\"KTUN\")\n",
    "huseyin.phone = \"+905345429857\""
   ]
  },
  {
   "cell_type": "code",
   "execution_count": 117,
   "id": "8950a7e6-afaf-42bc-8e28-e0aa47010d07",
   "metadata": {},
   "outputs": [
    {
     "name": "stdout",
     "output_type": "stream",
     "text": [
      "I am Hüseyin Gür and I am a user. I am 30 years old. I graduated from KTUN. Contact me: huseyingur_ceng@gmail.com\n",
      "+905345429857\n"
     ]
    }
   ],
   "source": [
    "huseyin.introduceYourself()"
   ]
  },
  {
   "cell_type": "code",
   "execution_count": 119,
   "id": "21931ed3-1e56-41bd-888d-fdb29d555b9c",
   "metadata": {},
   "outputs": [],
   "source": [
    "unknown = User()"
   ]
  },
  {
   "cell_type": "code",
   "execution_count": 121,
   "id": "f5da4ec5-a13f-4d6b-b741-acf96c2eae2f",
   "metadata": {},
   "outputs": [
    {
     "name": "stdout",
     "output_type": "stream",
     "text": [
      "I am ... ... and I am a user. I am 0 years old. I graduated from .... Contact me: ...\n",
      "+905062691416\n"
     ]
    }
   ],
   "source": [
    "unknown.introduceYourself()"
   ]
  },
  {
   "cell_type": "markdown",
   "id": "86365f59-f9d0-4137-b828-45f46ed497b0",
   "metadata": {},
   "source": [
    "## INHERITANCE"
   ]
  },
  {
   "cell_type": "code",
   "execution_count": 183,
   "id": "5ad1a062-a5b9-4175-a7c7-5857a63483e7",
   "metadata": {},
   "outputs": [],
   "source": [
    "class Computer:\n",
    "    def __init__(self, os=\"no os\", brand = \"no brand\", ram = 0, storage = 0, model = 0):\n",
    "        self.os = os\n",
    "        self.brand = brand\n",
    "        self.ram = ram\n",
    "        self.storage = storage\n",
    "        self.model = model\n",
    "        print(\"Computer Initialized!\\ntype:\",self.os,\"\\nbrand:\",self.brand,\"\\nram:\",self.ram,\"\\nstorage:\",self.storage, \"\\nmodel:\",self.model)\n",
    "    \n",
    "    def calculatePrice(self,calculate = True):\n",
    "        price = 0.0\n",
    "        if calculate:\n",
    "             if self.ram>0 and self.storage>0 and self.model>0:\n",
    "                 price += (self.ram * 100) + (self.storage * 4) + self.model * 1000\n",
    "       \n",
    "        return price\n",
    "            "
   ]
  },
  {
   "cell_type": "code",
   "execution_count": 250,
   "id": "8a1b3dcd-c13e-418d-94b6-7dd8005a2e4f",
   "metadata": {},
   "outputs": [
    {
     "name": "stdout",
     "output_type": "stream",
     "text": [
      "Computer Initialized!\n",
      "type: MacOs \n",
      "brand: Macbook \n",
      "ram: 16 \n",
      "storage: 512 \n",
      "model: 2\n"
     ]
    }
   ],
   "source": [
    "mac = Computer(\"MacOs\",\"Macbook\",16,512,2)"
   ]
  },
  {
   "cell_type": "code",
   "execution_count": 252,
   "id": "478cc897-3ffb-49cf-ad1a-e8beeb1fb3bf",
   "metadata": {},
   "outputs": [
    {
     "data": {
      "text/plain": [
       "5648.0"
      ]
     },
     "execution_count": 252,
     "metadata": {},
     "output_type": "execute_result"
    }
   ],
   "source": [
    "mac.calculatePrice(True)"
   ]
  },
  {
   "cell_type": "code",
   "execution_count": 264,
   "id": "18572228-9741-4d10-945d-010a693622cc",
   "metadata": {},
   "outputs": [],
   "source": [
    "# inheritance\n",
    "\n",
    "class Desktop(Computer):\n",
    "    def __init__(self, os=\"no os\", brand=\"no brand\", ram=0, storage=0, model=0):\n",
    "        # Computer sınıfının __init__ metoduna parametreleri geçiriyoruz\n",
    "        Computer.__init__(self, os, brand, ram, storage, model)\n",
    "        print(\"Desktop Initialized!\")"
   ]
  },
  {
   "cell_type": "code",
   "execution_count": 266,
   "id": "0e732b63-7821-4935-876f-d8525f2ddebf",
   "metadata": {},
   "outputs": [
    {
     "name": "stdout",
     "output_type": "stream",
     "text": [
      "Computer Initialized!\n",
      "type: Windows \n",
      "brand: Desktop \n",
      "ram: 16 \n",
      "storage: 256 \n",
      "model: 2\n",
      "Desktop Initialized!\n"
     ]
    }
   ],
   "source": [
    "windowsComputer = Desktop(\"Windows\",\"Desktop\",16,256,2)"
   ]
  },
  {
   "cell_type": "code",
   "execution_count": 268,
   "id": "50286c67-be8a-4366-9c69-1a1b686cc5f1",
   "metadata": {},
   "outputs": [
    {
     "data": {
      "text/plain": [
       "4624.0"
      ]
     },
     "execution_count": 268,
     "metadata": {},
     "output_type": "execute_result"
    }
   ],
   "source": [
    "windowsComputer.calculatePrice()"
   ]
  },
  {
   "cell_type": "markdown",
   "id": "854d6173-0b62-499d-84ee-b664ce5a04b1",
   "metadata": {},
   "source": [
    "## POLYMORPHISM"
   ]
  },
  {
   "cell_type": "code",
   "execution_count": 276,
   "id": "218f0893-4840-49ba-8dd1-e3148acddd59",
   "metadata": {},
   "outputs": [],
   "source": [
    "class Apple():\n",
    "    def __init__(self,name):\n",
    "        self.name = name\n",
    "    \n",
    "    def getCalorie(self):\n",
    "        return self.name + ' is 148 calorie.'"
   ]
  },
  {
   "cell_type": "code",
   "execution_count": 278,
   "id": "1f5aec8a-b2ea-4bf7-b86f-956a0156aaf3",
   "metadata": {},
   "outputs": [],
   "source": [
    "class Banana():\n",
    "    def __init__(self,name):\n",
    "        self.name = name\n",
    "    \n",
    "    def getCalorie(self):\n",
    "        return self.name + ' is 239 calorie.'"
   ]
  },
  {
   "cell_type": "code",
   "execution_count": 280,
   "id": "7159b510-d8dc-4116-b0b8-95739e001e05",
   "metadata": {},
   "outputs": [
    {
     "name": "stdout",
     "output_type": "stream",
     "text": [
      "apple is 148 calorie.\n",
      "banana is 239 calorie.\n",
      "\n",
      "\n",
      "apple is 148 calorie.\n",
      "banana is 239 calorie.\n"
     ]
    }
   ],
   "source": [
    "apple = Apple('apple')\n",
    "banana = Banana('banana')\n",
    "\n",
    "fruitList = [apple,banana]\n",
    "\n",
    "for fruit in fruitList:\n",
    "    print(fruit.getCalorie())\n",
    "    \n",
    "print('\\n')\n",
    "    \n",
    "def getCalorieDef(fruit):\n",
    "    print(fruit.getCalorie())  # POLYMORPHISM : aynı method nesnenin kendi methodunu çalıştırıyor.\n",
    "\n",
    "getCalorieDef(apple)\n",
    "getCalorieDef(banana)"
   ]
  },
  {
   "cell_type": "markdown",
   "id": "91f38b88-9742-4b4c-93cf-db7cd6fc638d",
   "metadata": {},
   "source": [
    "## SPECIAL METHODS"
   ]
  },
  {
   "cell_type": "code",
   "execution_count": 282,
   "id": "22f09353-b34a-46b4-b200-593233510099",
   "metadata": {},
   "outputs": [
    {
     "name": "stdout",
     "output_type": "stream",
     "text": [
      "Banana is 249 calorie.\n"
     ]
    },
    {
     "data": {
      "text/plain": [
       "249"
      ]
     },
     "execution_count": 282,
     "metadata": {},
     "output_type": "execute_result"
    }
   ],
   "source": [
    "class Fruit():\n",
    "    def __init__(self, name, calorie):\n",
    "        self.name = name\n",
    "        self.calorie = calorie\n",
    "    \n",
    "    def __str__(self):  # *\n",
    "        return f'{self.name} is {self.calorie} calorie.'\n",
    "    \n",
    "    def __len__(self):  # *\n",
    "        return self.calorie\n",
    "\n",
    "fruit = Fruit('Banana', 249)\n",
    "print(fruit)   # __str__ fonksiyonu olmazsa print hata verir!!!!\n",
    "len(fruit)     # __len__ fonksiyonu olmazsa hata verir !!!"
   ]
  },
  {
   "cell_type": "code",
   "execution_count": null,
   "id": "86b858fa-95da-44af-9f61-067cff4eee25",
   "metadata": {},
   "outputs": [],
   "source": []
  }
 ],
 "metadata": {
  "kernelspec": {
   "display_name": "Python [conda env:base] *",
   "language": "python",
   "name": "conda-base-py"
  },
  "language_info": {
   "codemirror_mode": {
    "name": "ipython",
    "version": 3
   },
   "file_extension": ".py",
   "mimetype": "text/x-python",
   "name": "python",
   "nbconvert_exporter": "python",
   "pygments_lexer": "ipython3",
   "version": "3.12.7"
  }
 },
 "nbformat": 4,
 "nbformat_minor": 5
}
