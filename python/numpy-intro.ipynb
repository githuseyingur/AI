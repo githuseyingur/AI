{
 "cells": [
  {
   "cell_type": "code",
   "execution_count": 1,
   "id": "547df382",
   "metadata": {
    "execution": {
     "iopub.execute_input": "2024-01-22T14:21:53.184379Z",
     "iopub.status.busy": "2024-01-22T14:21:53.183526Z",
     "iopub.status.idle": "2024-01-22T14:21:53.189831Z",
     "shell.execute_reply": "2024-01-22T14:21:53.188077Z"
    },
    "papermill": {
     "duration": 0.022697,
     "end_time": "2024-01-22T14:21:53.192551",
     "exception": false,
     "start_time": "2024-01-22T14:21:53.169854",
     "status": "completed"
    },
    "tags": []
   },
   "outputs": [],
   "source": [
    "## NUMPY"
   ]
  },
  {
   "cell_type": "code",
   "execution_count": 2,
   "id": "f7072ffa",
   "metadata": {
    "_cell_guid": "b1076dfc-b9ad-4769-8c92-a6c4dae69d19",
    "_uuid": "8f2839f25d086af736a60e9eeb907d3b93b6e0e5",
    "execution": {
     "iopub.execute_input": "2024-01-22T14:21:53.218138Z",
     "iopub.status.busy": "2024-01-22T14:21:53.216860Z",
     "iopub.status.idle": "2024-01-22T14:21:53.229915Z",
     "shell.execute_reply": "2024-01-22T14:21:53.228680Z"
    },
    "papermill": {
     "duration": 0.028627,
     "end_time": "2024-01-22T14:21:53.232589",
     "exception": false,
     "start_time": "2024-01-22T14:21:53.203962",
     "status": "completed"
    },
    "tags": []
   },
   "outputs": [],
   "source": [
    "import numpy as np"
   ]
  },
  {
   "cell_type": "code",
   "execution_count": 3,
   "id": "107e9945",
   "metadata": {
    "execution": {
     "iopub.execute_input": "2024-01-22T14:21:53.257179Z",
     "iopub.status.busy": "2024-01-22T14:21:53.256706Z",
     "iopub.status.idle": "2024-01-22T14:21:53.268531Z",
     "shell.execute_reply": "2024-01-22T14:21:53.267303Z"
    },
    "papermill": {
     "duration": 0.027347,
     "end_time": "2024-01-22T14:21:53.271224",
     "exception": false,
     "start_time": "2024-01-22T14:21:53.243877",
     "status": "completed"
    },
    "tags": []
   },
   "outputs": [
    {
     "data": {
      "text/plain": [
       "array([10, 20, 30])"
      ]
     },
     "execution_count": 3,
     "metadata": {},
     "output_type": "execute_result"
    }
   ],
   "source": [
    "my_list = [10,20,30]\n",
    "\n",
    "np.array(my_list)"
   ]
  },
  {
   "cell_type": "code",
   "execution_count": 4,
   "id": "b4c912ae",
   "metadata": {
    "execution": {
     "iopub.execute_input": "2024-01-22T14:21:53.296954Z",
     "iopub.status.busy": "2024-01-22T14:21:53.296449Z",
     "iopub.status.idle": "2024-01-22T14:21:53.305683Z",
     "shell.execute_reply": "2024-01-22T14:21:53.304415Z"
    },
    "papermill": {
     "duration": 0.025273,
     "end_time": "2024-01-22T14:21:53.308205",
     "exception": false,
     "start_time": "2024-01-22T14:21:53.282932",
     "status": "completed"
    },
    "tags": []
   },
   "outputs": [
    {
     "data": {
      "text/plain": [
       "array([[1, 2, 3],\n",
       "       [4, 5, 6],\n",
       "       [7, 8, 9]])"
      ]
     },
     "execution_count": 4,
     "metadata": {},
     "output_type": "execute_result"
    }
   ],
   "source": [
    "my_list = [[1,2,3],[4,5,6],[7,8,9]]\n",
    "\n",
    "np.array(my_list)"
   ]
  },
  {
   "cell_type": "markdown",
   "id": "baa3dea3",
   "metadata": {
    "papermill": {
     "duration": 0.011473,
     "end_time": "2024-01-22T14:21:53.331572",
     "exception": false,
     "start_time": "2024-01-22T14:21:53.320099",
     "status": "completed"
    },
    "tags": []
   },
   "source": [
    "### NUMPY METHODLAR"
   ]
  },
  {
   "cell_type": "code",
   "execution_count": 5,
   "id": "9a30663e",
   "metadata": {
    "execution": {
     "iopub.execute_input": "2024-01-22T14:21:53.357012Z",
     "iopub.status.busy": "2024-01-22T14:21:53.356643Z",
     "iopub.status.idle": "2024-01-22T14:21:53.364802Z",
     "shell.execute_reply": "2024-01-22T14:21:53.363541Z"
    },
    "papermill": {
     "duration": 0.023684,
     "end_time": "2024-01-22T14:21:53.367073",
     "exception": false,
     "start_time": "2024-01-22T14:21:53.343389",
     "status": "completed"
    },
    "tags": []
   },
   "outputs": [
    {
     "data": {
      "text/plain": [
       "array([ 4,  7, 10, 13, 16, 19, 22, 25, 28])"
      ]
     },
     "execution_count": 5,
     "metadata": {},
     "output_type": "execute_result"
    }
   ],
   "source": [
    "# arange\n",
    "np.arange(0,10)             # array([0, 1, 2, 3, 4, 5, 6, 7, 8, 9])\n",
    "np.arange(4,29,3)"
   ]
  },
  {
   "cell_type": "code",
   "execution_count": 6,
   "id": "f03e2d3b",
   "metadata": {
    "execution": {
     "iopub.execute_input": "2024-01-22T14:21:53.392863Z",
     "iopub.status.busy": "2024-01-22T14:21:53.392429Z",
     "iopub.status.idle": "2024-01-22T14:21:53.400367Z",
     "shell.execute_reply": "2024-01-22T14:21:53.399150Z"
    },
    "papermill": {
     "duration": 0.023732,
     "end_time": "2024-01-22T14:21:53.402799",
     "exception": false,
     "start_time": "2024-01-22T14:21:53.379067",
     "status": "completed"
    },
    "tags": []
   },
   "outputs": [
    {
     "data": {
      "text/plain": [
       "array([[0., 0., 0., 0., 0., 0., 0.],\n",
       "       [0., 0., 0., 0., 0., 0., 0.],\n",
       "       [0., 0., 0., 0., 0., 0., 0.]])"
      ]
     },
     "execution_count": 6,
     "metadata": {},
     "output_type": "execute_result"
    }
   ],
   "source": [
    "# zeros\n",
    "np.zeros(7)        # array([0., 0., 0., 0., 0., 0., 0.])\n",
    "np.zeros((3,7))"
   ]
  },
  {
   "cell_type": "code",
   "execution_count": 7,
   "id": "f6f00113",
   "metadata": {
    "execution": {
     "iopub.execute_input": "2024-01-22T14:21:53.428967Z",
     "iopub.status.busy": "2024-01-22T14:21:53.428538Z",
     "iopub.status.idle": "2024-01-22T14:21:53.436752Z",
     "shell.execute_reply": "2024-01-22T14:21:53.435816Z"
    },
    "papermill": {
     "duration": 0.024484,
     "end_time": "2024-01-22T14:21:53.439259",
     "exception": false,
     "start_time": "2024-01-22T14:21:53.414775",
     "status": "completed"
    },
    "tags": []
   },
   "outputs": [
    {
     "data": {
      "text/plain": [
       "array([[1., 1., 1., 1., 1., 1., 1.],\n",
       "       [1., 1., 1., 1., 1., 1., 1.],\n",
       "       [1., 1., 1., 1., 1., 1., 1.]])"
      ]
     },
     "execution_count": 7,
     "metadata": {},
     "output_type": "execute_result"
    }
   ],
   "source": [
    "# ones\n",
    "np.ones(7)\n",
    "np.ones((3,7))"
   ]
  },
  {
   "cell_type": "code",
   "execution_count": 8,
   "id": "2a213089",
   "metadata": {
    "execution": {
     "iopub.execute_input": "2024-01-22T14:21:53.466019Z",
     "iopub.status.busy": "2024-01-22T14:21:53.465556Z",
     "iopub.status.idle": "2024-01-22T14:21:53.473736Z",
     "shell.execute_reply": "2024-01-22T14:21:53.472488Z"
    },
    "papermill": {
     "duration": 0.024381,
     "end_time": "2024-01-22T14:21:53.476123",
     "exception": false,
     "start_time": "2024-01-22T14:21:53.451742",
     "status": "completed"
    },
    "tags": []
   },
   "outputs": [
    {
     "data": {
      "text/plain": [
       "array([ 6. , 10.2, 14.4, 18.6, 22.8, 27. ])"
      ]
     },
     "execution_count": 8,
     "metadata": {},
     "output_type": "execute_result"
    }
   ],
   "source": [
    "# linspace\n",
    "np.linspace(6,27,6)  # 5-27 arasını 6'ya böl."
   ]
  },
  {
   "cell_type": "code",
   "execution_count": 9,
   "id": "af69054d",
   "metadata": {
    "execution": {
     "iopub.execute_input": "2024-01-22T14:21:53.503630Z",
     "iopub.status.busy": "2024-01-22T14:21:53.503220Z",
     "iopub.status.idle": "2024-01-22T14:21:53.511214Z",
     "shell.execute_reply": "2024-01-22T14:21:53.509691Z"
    },
    "papermill": {
     "duration": 0.024663,
     "end_time": "2024-01-22T14:21:53.513710",
     "exception": false,
     "start_time": "2024-01-22T14:21:53.489047",
     "status": "completed"
    },
    "tags": []
   },
   "outputs": [
    {
     "data": {
      "text/plain": [
       "array([[1., 0., 0.],\n",
       "       [0., 1., 0.],\n",
       "       [0., 0., 1.]])"
      ]
     },
     "execution_count": 9,
     "metadata": {},
     "output_type": "execute_result"
    }
   ],
   "source": [
    "# eye\n",
    "np.eye(3)  # birim matris"
   ]
  },
  {
   "cell_type": "code",
   "execution_count": 10,
   "id": "adcf4ec1",
   "metadata": {
    "execution": {
     "iopub.execute_input": "2024-01-22T14:21:53.540936Z",
     "iopub.status.busy": "2024-01-22T14:21:53.540442Z",
     "iopub.status.idle": "2024-01-22T14:21:53.549322Z",
     "shell.execute_reply": "2024-01-22T14:21:53.548145Z"
    },
    "papermill": {
     "duration": 0.025435,
     "end_time": "2024-01-22T14:21:53.551705",
     "exception": false,
     "start_time": "2024-01-22T14:21:53.526270",
     "status": "completed"
    },
    "tags": []
   },
   "outputs": [
    {
     "data": {
      "text/plain": [
       "array([[-0.28055294,  0.1326948 , -2.01323225,  1.95018649,  1.0066267 ],\n",
       "       [-0.93133555,  0.98881377, -1.13491525, -0.55955127, -1.39659376]])"
      ]
     },
     "execution_count": 10,
     "metadata": {},
     "output_type": "execute_result"
    }
   ],
   "source": [
    "# random\n",
    "np.random.randn(4)        # array([-0.45561682, -1.87726694,  0.95933431, -0.2951708 ])\n",
    "np.random.randn(2,5)     # ekstra :  np.random.randint(1,20)"
   ]
  },
  {
   "cell_type": "code",
   "execution_count": 11,
   "id": "fceec450",
   "metadata": {
    "execution": {
     "iopub.execute_input": "2024-01-22T14:21:53.578948Z",
     "iopub.status.busy": "2024-01-22T14:21:53.578570Z",
     "iopub.status.idle": "2024-01-22T14:21:53.590191Z",
     "shell.execute_reply": "2024-01-22T14:21:53.588857Z"
    },
    "papermill": {
     "duration": 0.028275,
     "end_time": "2024-01-22T14:21:53.592593",
     "exception": false,
     "start_time": "2024-01-22T14:21:53.564318",
     "status": "completed"
    },
    "tags": []
   },
   "outputs": [
    {
     "data": {
      "text/plain": [
       "array([80, 64, 36, 52, 61, 56, 76, 26, 83, 15, 65,  2, 41, 37,  4, 11, 90,\n",
       "       18, 44, 68, 87, 94, 97, 58, 58, 77, 76])"
      ]
     },
     "execution_count": 11,
     "metadata": {},
     "output_type": "execute_result"
    }
   ],
   "source": [
    "randomArray = np.random.randint(0,100,27)     # 0-100 arasında 27 adet rasgele sayı\n",
    "randomArray"
   ]
  },
  {
   "cell_type": "markdown",
   "id": "e0234f19",
   "metadata": {
    "papermill": {
     "duration": 0.012488,
     "end_time": "2024-01-22T14:21:53.618168",
     "exception": false,
     "start_time": "2024-01-22T14:21:53.605680",
     "status": "completed"
    },
    "tags": []
   },
   "source": [
    "### NUMPY DİZİ METHODLARI"
   ]
  },
  {
   "cell_type": "code",
   "execution_count": 12,
   "id": "3e0315c8",
   "metadata": {
    "execution": {
     "iopub.execute_input": "2024-01-22T14:21:53.645848Z",
     "iopub.status.busy": "2024-01-22T14:21:53.645394Z",
     "iopub.status.idle": "2024-01-22T14:21:53.652550Z",
     "shell.execute_reply": "2024-01-22T14:21:53.651658Z"
    },
    "papermill": {
     "duration": 0.023724,
     "end_time": "2024-01-22T14:21:53.654722",
     "exception": false,
     "start_time": "2024-01-22T14:21:53.630998",
     "status": "completed"
    },
    "tags": []
   },
   "outputs": [
    {
     "data": {
      "text/plain": [
       "array([[80, 64, 36, 52, 61, 56, 76, 26, 83],\n",
       "       [15, 65,  2, 41, 37,  4, 11, 90, 18],\n",
       "       [44, 68, 87, 94, 97, 58, 58, 77, 76]])"
      ]
     },
     "execution_count": 12,
     "metadata": {},
     "output_type": "execute_result"
    }
   ],
   "source": [
    "randomArray.reshape(3,9)"
   ]
  },
  {
   "cell_type": "code",
   "execution_count": 13,
   "id": "52f256aa",
   "metadata": {
    "execution": {
     "iopub.execute_input": "2024-01-22T14:21:53.683272Z",
     "iopub.status.busy": "2024-01-22T14:21:53.682744Z",
     "iopub.status.idle": "2024-01-22T14:21:53.691085Z",
     "shell.execute_reply": "2024-01-22T14:21:53.689901Z"
    },
    "papermill": {
     "duration": 0.025504,
     "end_time": "2024-01-22T14:21:53.693529",
     "exception": false,
     "start_time": "2024-01-22T14:21:53.668025",
     "status": "completed"
    },
    "tags": []
   },
   "outputs": [
    {
     "data": {
      "text/plain": [
       "2"
      ]
     },
     "execution_count": 13,
     "metadata": {},
     "output_type": "execute_result"
    }
   ],
   "source": [
    "randomArray.max()\n",
    "randomArray.min()"
   ]
  },
  {
   "cell_type": "code",
   "execution_count": 14,
   "id": "57f62545",
   "metadata": {
    "execution": {
     "iopub.execute_input": "2024-01-22T14:21:53.722342Z",
     "iopub.status.busy": "2024-01-22T14:21:53.721779Z",
     "iopub.status.idle": "2024-01-22T14:21:53.729381Z",
     "shell.execute_reply": "2024-01-22T14:21:53.728201Z"
    },
    "papermill": {
     "duration": 0.025148,
     "end_time": "2024-01-22T14:21:53.731788",
     "exception": false,
     "start_time": "2024-01-22T14:21:53.706640",
     "status": "completed"
    },
    "tags": []
   },
   "outputs": [
    {
     "data": {
      "text/plain": [
       "11"
      ]
     },
     "execution_count": 14,
     "metadata": {},
     "output_type": "execute_result"
    }
   ],
   "source": [
    "randomArray.argmax()    # max elemanın indexi : 17\n",
    "randomArray.argmin()    # min elemanın indexi : 16"
   ]
  },
  {
   "cell_type": "code",
   "execution_count": 15,
   "id": "4bbc4700",
   "metadata": {
    "execution": {
     "iopub.execute_input": "2024-01-22T14:21:53.761727Z",
     "iopub.status.busy": "2024-01-22T14:21:53.761253Z",
     "iopub.status.idle": "2024-01-22T14:21:53.769326Z",
     "shell.execute_reply": "2024-01-22T14:21:53.767986Z"
    },
    "papermill": {
     "duration": 0.026365,
     "end_time": "2024-01-22T14:21:53.771890",
     "exception": false,
     "start_time": "2024-01-22T14:21:53.745525",
     "status": "completed"
    },
    "tags": []
   },
   "outputs": [
    {
     "data": {
      "text/plain": [
       "(27,)"
      ]
     },
     "execution_count": 15,
     "metadata": {},
     "output_type": "execute_result"
    }
   ],
   "source": [
    "randomArray.shape"
   ]
  },
  {
   "cell_type": "code",
   "execution_count": 16,
   "id": "e7f3e3ef",
   "metadata": {
    "execution": {
     "iopub.execute_input": "2024-01-22T14:21:53.801162Z",
     "iopub.status.busy": "2024-01-22T14:21:53.800648Z",
     "iopub.status.idle": "2024-01-22T14:21:53.807980Z",
     "shell.execute_reply": "2024-01-22T14:21:53.806922Z"
    },
    "papermill": {
     "duration": 0.024956,
     "end_time": "2024-01-22T14:21:53.810399",
     "exception": false,
     "start_time": "2024-01-22T14:21:53.785443",
     "status": "completed"
    },
    "tags": []
   },
   "outputs": [
    {
     "data": {
      "text/plain": [
       "array([80, 64, 36, 52, 61, 56, 76, 26, 83, 15, 65,  2, 41, 37,  4, 11, 90,\n",
       "       18, 44, 68, 87, 94, 97, 58, 58, 77, 76])"
      ]
     },
     "execution_count": 16,
     "metadata": {},
     "output_type": "execute_result"
    }
   ],
   "source": [
    "randomArray"
   ]
  },
  {
   "cell_type": "markdown",
   "id": "b2c09962",
   "metadata": {
    "papermill": {
     "duration": 0.013222,
     "end_time": "2024-01-22T14:21:53.837147",
     "exception": false,
     "start_time": "2024-01-22T14:21:53.823925",
     "status": "completed"
    },
    "tags": []
   },
   "source": [
    "### NUMPY INDEKSLER"
   ]
  },
  {
   "cell_type": "code",
   "execution_count": 17,
   "id": "b754e3b3",
   "metadata": {
    "execution": {
     "iopub.execute_input": "2024-01-22T14:21:53.866598Z",
     "iopub.status.busy": "2024-01-22T14:21:53.866121Z",
     "iopub.status.idle": "2024-01-22T14:21:53.874613Z",
     "shell.execute_reply": "2024-01-22T14:21:53.873074Z"
    },
    "papermill": {
     "duration": 0.026257,
     "end_time": "2024-01-22T14:21:53.877155",
     "exception": false,
     "start_time": "2024-01-22T14:21:53.850898",
     "status": "completed"
    },
    "tags": []
   },
   "outputs": [
    {
     "data": {
      "text/plain": [
       "array([52, 61, 56, 76, 26, 83, 15, 65])"
      ]
     },
     "execution_count": 17,
     "metadata": {},
     "output_type": "execute_result"
    }
   ],
   "source": [
    "randomArray[3:11]"
   ]
  },
  {
   "cell_type": "code",
   "execution_count": 18,
   "id": "542fdd6e",
   "metadata": {
    "execution": {
     "iopub.execute_input": "2024-01-22T14:21:53.906820Z",
     "iopub.status.busy": "2024-01-22T14:21:53.906354Z",
     "iopub.status.idle": "2024-01-22T14:21:53.914236Z",
     "shell.execute_reply": "2024-01-22T14:21:53.913042Z"
    },
    "papermill": {
     "duration": 0.026155,
     "end_time": "2024-01-22T14:21:53.917089",
     "exception": false,
     "start_time": "2024-01-22T14:21:53.890934",
     "status": "completed"
    },
    "tags": []
   },
   "outputs": [
    {
     "data": {
      "text/plain": [
       "array([80, 64, 36, -1, -1, -1, -1, -1, -1, -1, -1,  2, 41, 37,  4, 11, 90,\n",
       "       18, 44, 68, 87, 94, 97, 58, 58, 77, 76])"
      ]
     },
     "execution_count": 18,
     "metadata": {},
     "output_type": "execute_result"
    }
   ],
   "source": [
    "randomArray[3:11] = -1    # 3-11 index aralığını -1 yap.\n",
    "randomArray"
   ]
  },
  {
   "cell_type": "code",
   "execution_count": 19,
   "id": "cf673992",
   "metadata": {
    "execution": {
     "iopub.execute_input": "2024-01-22T14:21:53.948222Z",
     "iopub.status.busy": "2024-01-22T14:21:53.947721Z",
     "iopub.status.idle": "2024-01-22T14:21:53.955740Z",
     "shell.execute_reply": "2024-01-22T14:21:53.954388Z"
    },
    "papermill": {
     "duration": 0.027177,
     "end_time": "2024-01-22T14:21:53.958595",
     "exception": false,
     "start_time": "2024-01-22T14:21:53.931418",
     "status": "completed"
    },
    "tags": []
   },
   "outputs": [
    {
     "data": {
      "text/plain": [
       "array([27, 27, 27, 27, 27, 27, 27, 27, 27, 27, 27, 27, 27, 27, 27, 27, 27,\n",
       "       27, 27, 27, 27, 27, 27, 27, 27, 27, 27])"
      ]
     },
     "execution_count": 19,
     "metadata": {},
     "output_type": "execute_result"
    }
   ],
   "source": [
    "randomArray[:] = 27\n",
    "randomArray"
   ]
  },
  {
   "cell_type": "code",
   "execution_count": 20,
   "id": "c4901df1",
   "metadata": {
    "execution": {
     "iopub.execute_input": "2024-01-22T14:21:54.088934Z",
     "iopub.status.busy": "2024-01-22T14:21:54.088508Z",
     "iopub.status.idle": "2024-01-22T14:21:54.096658Z",
     "shell.execute_reply": "2024-01-22T14:21:54.095285Z"
    },
    "papermill": {
     "duration": 0.028936,
     "end_time": "2024-01-22T14:21:54.099614",
     "exception": false,
     "start_time": "2024-01-22T14:21:54.070678",
     "status": "completed"
    },
    "tags": []
   },
   "outputs": [
    {
     "data": {
      "text/plain": [
       "array([27, 94, 94, 94, 94, 94, 94, 94, 94, 94, 27, 27, 27, 27, 27, 27, 27,\n",
       "       27, 27, 27, 27, 27, 27, 27, 27, 27, 27])"
      ]
     },
     "execution_count": 20,
     "metadata": {},
     "output_type": "execute_result"
    }
   ],
   "source": [
    "slicingArray = randomArray[1:10]\n",
    "slicingArray          # array([27, 27, 27, 27, 27, 27, 27, 27, 27])\n",
    "slicingArray[:] = 94\n",
    "randomArray                  # sol array değişirse sağ array de değişir !!!!!!"
   ]
  },
  {
   "cell_type": "code",
   "execution_count": 21,
   "id": "0a6e0bf3",
   "metadata": {
    "execution": {
     "iopub.execute_input": "2024-01-22T14:21:54.132089Z",
     "iopub.status.busy": "2024-01-22T14:21:54.131657Z",
     "iopub.status.idle": "2024-01-22T14:21:54.140466Z",
     "shell.execute_reply": "2024-01-22T14:21:54.139028Z"
    },
    "papermill": {
     "duration": 0.029109,
     "end_time": "2024-01-22T14:21:54.143920",
     "exception": false,
     "start_time": "2024-01-22T14:21:54.114811",
     "status": "completed"
    },
    "tags": []
   },
   "outputs": [
    {
     "data": {
      "text/plain": [
       "array([27, 94, 94, 94, 94, 94, 94, 94, 94, 94, 27, 27, 27, 27, 27, 27, 27,\n",
       "       27, 27, 27, 27, 27, 27, 27, 27, 27, 27])"
      ]
     },
     "execution_count": 21,
     "metadata": {},
     "output_type": "execute_result"
    }
   ],
   "source": [
    "# !!!!! atanılan kısımdaki değişikliklerin atanan tarafını etkilememesi için:\n",
    "slicingArray = randomArray.copy()\n",
    "slicingArray"
   ]
  },
  {
   "cell_type": "markdown",
   "id": "7b50cd8b",
   "metadata": {
    "papermill": {
     "duration": 0.015782,
     "end_time": "2024-01-22T14:21:54.175245",
     "exception": false,
     "start_time": "2024-01-22T14:21:54.159463",
     "status": "completed"
    },
    "tags": []
   },
   "source": [
    "### MATRIX INDEKSLER"
   ]
  },
  {
   "cell_type": "code",
   "execution_count": 22,
   "id": "796423b9",
   "metadata": {
    "execution": {
     "iopub.execute_input": "2024-01-22T14:21:54.210000Z",
     "iopub.status.busy": "2024-01-22T14:21:54.209567Z",
     "iopub.status.idle": "2024-01-22T14:21:54.218585Z",
     "shell.execute_reply": "2024-01-22T14:21:54.216956Z"
    },
    "papermill": {
     "duration": 0.030698,
     "end_time": "2024-01-22T14:21:54.221370",
     "exception": false,
     "start_time": "2024-01-22T14:21:54.190672",
     "status": "completed"
    },
    "tags": []
   },
   "outputs": [
    {
     "data": {
      "text/plain": [
       "array([[1, 2, 3],\n",
       "       [4, 5, 6],\n",
       "       [7, 8, 9]])"
      ]
     },
     "execution_count": 22,
     "metadata": {},
     "output_type": "execute_result"
    }
   ],
   "source": [
    "matrixList = [[1,2,3],[4,5,6],[7,8,9]]\n",
    "numpyMatrixArray = np.array(matrixList)\n",
    "numpyMatrixArray"
   ]
  },
  {
   "cell_type": "code",
   "execution_count": 23,
   "id": "923cfd9b",
   "metadata": {
    "execution": {
     "iopub.execute_input": "2024-01-22T14:21:54.254734Z",
     "iopub.status.busy": "2024-01-22T14:21:54.254306Z",
     "iopub.status.idle": "2024-01-22T14:21:54.261404Z",
     "shell.execute_reply": "2024-01-22T14:21:54.260201Z"
    },
    "papermill": {
     "duration": 0.027908,
     "end_time": "2024-01-22T14:21:54.264604",
     "exception": false,
     "start_time": "2024-01-22T14:21:54.236696",
     "status": "completed"
    },
    "tags": []
   },
   "outputs": [
    {
     "data": {
      "text/plain": [
       "6"
      ]
     },
     "execution_count": 23,
     "metadata": {},
     "output_type": "execute_result"
    }
   ],
   "source": [
    "numpyMatrixArray[1][2]   # 6\n",
    "numpyMatrixArray[1,2]    # 6"
   ]
  },
  {
   "cell_type": "code",
   "execution_count": 24,
   "id": "ec43afe9",
   "metadata": {
    "execution": {
     "iopub.execute_input": "2024-01-22T14:21:54.297866Z",
     "iopub.status.busy": "2024-01-22T14:21:54.297434Z",
     "iopub.status.idle": "2024-01-22T14:21:54.305698Z",
     "shell.execute_reply": "2024-01-22T14:21:54.304278Z"
    },
    "papermill": {
     "duration": 0.02846,
     "end_time": "2024-01-22T14:21:54.308344",
     "exception": false,
     "start_time": "2024-01-22T14:21:54.279884",
     "status": "completed"
    },
    "tags": []
   },
   "outputs": [
    {
     "data": {
      "text/plain": [
       "array([6, 9])"
      ]
     },
     "execution_count": 24,
     "metadata": {},
     "output_type": "execute_result"
    }
   ],
   "source": [
    "numpyMatrixArray[1:,2] # 1.row ve sonrasının 2. indexini getir. "
   ]
  },
  {
   "cell_type": "code",
   "execution_count": 25,
   "id": "6b5feb09",
   "metadata": {
    "execution": {
     "iopub.execute_input": "2024-01-22T14:21:54.343185Z",
     "iopub.status.busy": "2024-01-22T14:21:54.342712Z",
     "iopub.status.idle": "2024-01-22T14:21:54.350065Z",
     "shell.execute_reply": "2024-01-22T14:21:54.349288Z"
    },
    "papermill": {
     "duration": 0.028499,
     "end_time": "2024-01-22T14:21:54.352440",
     "exception": false,
     "start_time": "2024-01-22T14:21:54.323941",
     "status": "completed"
    },
    "tags": []
   },
   "outputs": [
    {
     "data": {
      "text/plain": [
       "array([[5, 6],\n",
       "       [8, 9]])"
      ]
     },
     "execution_count": 25,
     "metadata": {},
     "output_type": "execute_result"
    }
   ],
   "source": [
    "numpyMatrixArray[1:,1:] # 1.row ve sonrasının 1.index ve sonrasını getir."
   ]
  },
  {
   "cell_type": "code",
   "execution_count": 26,
   "id": "bbbaec10",
   "metadata": {
    "execution": {
     "iopub.execute_input": "2024-01-22T14:21:54.386061Z",
     "iopub.status.busy": "2024-01-22T14:21:54.385638Z",
     "iopub.status.idle": "2024-01-22T14:21:54.394353Z",
     "shell.execute_reply": "2024-01-22T14:21:54.392916Z"
    },
    "papermill": {
     "duration": 0.029039,
     "end_time": "2024-01-22T14:21:54.397387",
     "exception": false,
     "start_time": "2024-01-22T14:21:54.368348",
     "status": "completed"
    },
    "tags": []
   },
   "outputs": [
    {
     "data": {
      "text/plain": [
       "array([[4, 5, 6],\n",
       "       [1, 2, 3]])"
      ]
     },
     "execution_count": 26,
     "metadata": {},
     "output_type": "execute_result"
    }
   ],
   "source": [
    "numpyMatrixArray[[1,0]]  # 1.row ve 0.row'u sırasıyla! getir."
   ]
  },
  {
   "cell_type": "markdown",
   "id": "c597a17b",
   "metadata": {
    "papermill": {
     "duration": 0.016009,
     "end_time": "2024-01-22T14:21:54.429565",
     "exception": false,
     "start_time": "2024-01-22T14:21:54.413556",
     "status": "completed"
    },
    "tags": []
   },
   "source": [
    "### OPERASYONLAR"
   ]
  },
  {
   "cell_type": "code",
   "execution_count": 27,
   "id": "64bb31a5",
   "metadata": {
    "execution": {
     "iopub.execute_input": "2024-01-22T14:21:54.464198Z",
     "iopub.status.busy": "2024-01-22T14:21:54.462932Z",
     "iopub.status.idle": "2024-01-22T14:21:54.470551Z",
     "shell.execute_reply": "2024-01-22T14:21:54.469308Z"
    },
    "papermill": {
     "duration": 0.027431,
     "end_time": "2024-01-22T14:21:54.473163",
     "exception": false,
     "start_time": "2024-01-22T14:21:54.445732",
     "status": "completed"
    },
    "tags": []
   },
   "outputs": [
    {
     "data": {
      "text/plain": [
       "array([31, 52, 22, 39, 75, 50, 51, 45, 41, 77, 34, 88,  8, 67])"
      ]
     },
     "execution_count": 27,
     "metadata": {},
     "output_type": "execute_result"
    }
   ],
   "source": [
    "newArray = np.random.randint(1,100,14)\n",
    "newArray"
   ]
  },
  {
   "cell_type": "code",
   "execution_count": 28,
   "id": "17ed48c4",
   "metadata": {
    "execution": {
     "iopub.execute_input": "2024-01-22T14:21:54.509979Z",
     "iopub.status.busy": "2024-01-22T14:21:54.508981Z",
     "iopub.status.idle": "2024-01-22T14:21:54.515881Z",
     "shell.execute_reply": "2024-01-22T14:21:54.515088Z"
    },
    "papermill": {
     "duration": 0.027502,
     "end_time": "2024-01-22T14:21:54.518300",
     "exception": false,
     "start_time": "2024-01-22T14:21:54.490798",
     "status": "completed"
    },
    "tags": []
   },
   "outputs": [
    {
     "data": {
      "text/plain": [
       "array([False,  True, False, False,  True,  True,  True,  True, False,\n",
       "        True, False,  True, False,  True])"
      ]
     },
     "execution_count": 28,
     "metadata": {},
     "output_type": "execute_result"
    }
   ],
   "source": [
    "newArray > 41  # Dizi içerisindeki elemanlardan 41'den büyük olanları getir."
   ]
  },
  {
   "cell_type": "code",
   "execution_count": 29,
   "id": "3be71b3f",
   "metadata": {
    "execution": {
     "iopub.execute_input": "2024-01-22T14:21:54.553536Z",
     "iopub.status.busy": "2024-01-22T14:21:54.553149Z",
     "iopub.status.idle": "2024-01-22T14:21:54.560939Z",
     "shell.execute_reply": "2024-01-22T14:21:54.559884Z"
    },
    "papermill": {
     "duration": 0.028138,
     "end_time": "2024-01-22T14:21:54.563649",
     "exception": false,
     "start_time": "2024-01-22T14:21:54.535511",
     "status": "completed"
    },
    "tags": []
   },
   "outputs": [
    {
     "data": {
      "text/plain": [
       "array([52, 75, 50, 51, 45, 77, 88, 67])"
      ]
     },
     "execution_count": 29,
     "metadata": {},
     "output_type": "execute_result"
    }
   ],
   "source": [
    "# 41'den büyük olanları liste olarak getir.\n",
    "resultArray = newArray > 41\n",
    "\n",
    "newArray[resultArray]   # 1. yöntem\n",
    "\n",
    "newArray[newArray > 41]   # 2. yöntem"
   ]
  },
  {
   "cell_type": "code",
   "execution_count": 30,
   "id": "de177c32",
   "metadata": {
    "execution": {
     "iopub.execute_input": "2024-01-22T14:21:54.598179Z",
     "iopub.status.busy": "2024-01-22T14:21:54.597773Z",
     "iopub.status.idle": "2024-01-22T14:21:54.605315Z",
     "shell.execute_reply": "2024-01-22T14:21:54.604363Z"
    },
    "papermill": {
     "duration": 0.027265,
     "end_time": "2024-01-22T14:21:54.607510",
     "exception": false,
     "start_time": "2024-01-22T14:21:54.580245",
     "status": "completed"
    },
    "tags": []
   },
   "outputs": [
    {
     "data": {
      "text/plain": [
       "array([0, 0, 0, 0, 0, 0, 0, 0, 0, 0, 0, 0])"
      ]
     },
     "execution_count": 30,
     "metadata": {},
     "output_type": "execute_result"
    }
   ],
   "source": [
    "sumArray = np.arange(0,12)\n",
    "sumArray + sumArray\n",
    "sumArray * sumArray\n",
    "sumArray - sumArray\n",
    "# sumArray / sumArray   uyarı verir 0/ olduğu için."
   ]
  },
  {
   "cell_type": "code",
   "execution_count": 31,
   "id": "6c18c7b5",
   "metadata": {
    "execution": {
     "iopub.execute_input": "2024-01-22T14:21:54.642278Z",
     "iopub.status.busy": "2024-01-22T14:21:54.641772Z",
     "iopub.status.idle": "2024-01-22T14:21:54.650327Z",
     "shell.execute_reply": "2024-01-22T14:21:54.649017Z"
    },
    "papermill": {
     "duration": 0.029175,
     "end_time": "2024-01-22T14:21:54.652764",
     "exception": false,
     "start_time": "2024-01-22T14:21:54.623589",
     "status": "completed"
    },
    "tags": []
   },
   "outputs": [
    {
     "data": {
      "text/plain": [
       "array([0.        , 1.        , 1.41421356, 1.73205081, 2.        ,\n",
       "       2.23606798, 2.44948974, 2.64575131, 2.82842712, 3.        ,\n",
       "       3.16227766, 3.31662479])"
      ]
     },
     "execution_count": 31,
     "metadata": {},
     "output_type": "execute_result"
    }
   ],
   "source": [
    "# karekök\n",
    "np.sqrt(sumArray)"
   ]
  },
  {
   "cell_type": "code",
   "execution_count": 32,
   "id": "17686ff2",
   "metadata": {
    "execution": {
     "iopub.execute_input": "2024-01-22T14:21:54.686659Z",
     "iopub.status.busy": "2024-01-22T14:21:54.686280Z",
     "iopub.status.idle": "2024-01-22T14:21:54.694340Z",
     "shell.execute_reply": "2024-01-22T14:21:54.693230Z"
    },
    "papermill": {
     "duration": 0.028379,
     "end_time": "2024-01-22T14:21:54.697207",
     "exception": false,
     "start_time": "2024-01-22T14:21:54.668828",
     "status": "completed"
    },
    "tags": []
   },
   "outputs": [
    {
     "data": {
      "text/plain": [
       "0"
      ]
     },
     "execution_count": 32,
     "metadata": {},
     "output_type": "execute_result"
    }
   ],
   "source": [
    "np.max(sumArray)\n",
    "np.min(sumArray)"
   ]
  },
  {
   "cell_type": "code",
   "execution_count": null,
   "id": "b8d34bb7",
   "metadata": {
    "papermill": {
     "duration": 0.016413,
     "end_time": "2024-01-22T14:21:54.730768",
     "exception": false,
     "start_time": "2024-01-22T14:21:54.714355",
     "status": "completed"
    },
    "tags": []
   },
   "outputs": [],
   "source": []
  }
 ],
 "metadata": {
  "kaggle": {
   "accelerator": "none",
   "dataSources": [],
   "isGpuEnabled": false,
   "isInternetEnabled": false,
   "language": "python",
   "sourceType": "notebook"
  },
  "kernelspec": {
   "display_name": "Python 3",
   "language": "python",
   "name": "python3"
  },
  "language_info": {
   "codemirror_mode": {
    "name": "ipython",
    "version": 3
   },
   "file_extension": ".py",
   "mimetype": "text/x-python",
   "name": "python",
   "nbconvert_exporter": "python",
   "pygments_lexer": "ipython3",
   "version": "3.10.12"
  },
  "papermill": {
   "default_parameters": {},
   "duration": 5.637675,
   "end_time": "2024-01-22T14:21:55.270652",
   "environment_variables": {},
   "exception": null,
   "input_path": "__notebook__.ipynb",
   "output_path": "__notebook__.ipynb",
   "parameters": {},
   "start_time": "2024-01-22T14:21:49.632977",
   "version": "2.4.0"
  }
 },
 "nbformat": 4,
 "nbformat_minor": 5
}
