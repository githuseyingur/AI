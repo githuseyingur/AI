{
 "cells": [
  {
   "cell_type": "markdown",
   "id": "54a9038a",
   "metadata": {
    "papermill": {
     "duration": 0.020325,
     "end_time": "2024-01-22T14:20:59.345349",
     "exception": false,
     "start_time": "2024-01-22T14:20:59.325024",
     "status": "completed"
    },
    "tags": []
   },
   "source": [
    "## PANDAS\n",
    "### SERIES\n",
    "Used for <ins>data manipulation</ins> and <ins>analysis</ins>. <br>\n",
    "It provides data structures like <ins>DataFrame and Series</ins> to handle and analyze structured data efficiently."
   ]
  },
  {
   "cell_type": "code",
   "execution_count": 7,
   "id": "a0cfb0a9",
   "metadata": {
    "_cell_guid": "b1076dfc-b9ad-4769-8c92-a6c4dae69d19",
    "_uuid": "8f2839f25d086af736a60e9eeb907d3b93b6e0e5",
    "papermill": {
     "duration": 0.460139,
     "end_time": "2024-01-22T14:20:59.825108",
     "exception": false,
     "start_time": "2024-01-22T14:20:59.364969",
     "status": "completed"
    },
    "tags": []
   },
   "outputs": [],
   "source": [
    "import numpy as np\n",
    "import pandas as pd"
   ]
  },
  {
   "cell_type": "code",
   "execution_count": 2,
   "id": "dd616842",
   "metadata": {
    "papermill": {
     "duration": 0.042329,
     "end_time": "2024-01-22T14:20:59.887128",
     "exception": false,
     "start_time": "2024-01-22T14:20:59.844799",
     "status": "completed"
    },
    "tags": []
   },
   "outputs": [
    {
     "data": {
      "text/plain": [
       "Hüseyin    96\n",
       "Betül      92\n",
       "Demir      76\n",
       "dtype: int64"
      ]
     },
     "execution_count": 2,
     "metadata": {},
     "output_type": "execute_result"
    }
   ],
   "source": [
    "# DICTIONARY TO SERIE\n",
    "\n",
    "my_dict = {'Hüseyin':96, 'Betül':92, 'Demir':76}\n",
    "\n",
    "pd.Series(my_dict)     # (dict)"
   ]
  },
  {
   "cell_type": "code",
   "execution_count": 3,
   "id": "7fa6ebda",
   "metadata": {
    "papermill": {
     "duration": 0.032065,
     "end_time": "2024-01-22T14:20:59.939385",
     "exception": false,
     "start_time": "2024-01-22T14:20:59.907320",
     "status": "completed"
    },
    "tags": []
   },
   "outputs": [
    {
     "data": {
      "text/plain": [
       "Hüseyin    29\n",
       "Betül      28\n",
       "Demir      36\n",
       "dtype: int64"
      ]
     },
     "execution_count": 3,
     "metadata": {},
     "output_type": "execute_result"
    }
   ],
   "source": [
    "# TWO LIST TO DICTIONARY\n",
    "\n",
    "my_ages = [29,28,36]\n",
    "my_names = ['Hüseyin','Betül','Demir']\n",
    "pd.Series(my_ages , my_names)     # (data, index)"
   ]
  },
  {
   "cell_type": "code",
   "execution_count": 7,
   "id": "d0ec8c10",
   "metadata": {
    "papermill": {
     "duration": 0.033024,
     "end_time": "2024-01-22T14:20:59.992719",
     "exception": false,
     "start_time": "2024-01-22T14:20:59.959695",
     "status": "completed"
    },
    "tags": []
   },
   "outputs": [
    {
     "data": {
      "text/plain": [
       "28"
      ]
     },
     "execution_count": 7,
     "metadata": {},
     "output_type": "execute_result"
    }
   ],
   "source": [
    "my_serie = pd.Series(data = my_ages, index = my_names)\n",
    "my_serie['Betül']      # 28"
   ]
  },
  {
   "cell_type": "markdown",
   "id": "027086c6",
   "metadata": {
    "papermill": {
     "duration": 0.021032,
     "end_time": "2024-01-22T14:21:00.034175",
     "exception": false,
     "start_time": "2024-01-22T14:21:00.013143",
     "status": "completed"
    },
    "tags": []
   },
   "source": [
    "### CHARACTERISTIC OF SERIES"
   ]
  },
  {
   "cell_type": "code",
   "execution_count": 10,
   "id": "370d89ba",
   "metadata": {
    "papermill": {
     "duration": 0.037484,
     "end_time": "2024-01-22T14:21:00.091961",
     "exception": false,
     "start_time": "2024-01-22T14:21:00.054477",
     "status": "completed"
    },
    "tags": []
   },
   "outputs": [
    {
     "data": {
      "text/plain": [
       "Hüseyin    52\n",
       "Betül      46\n",
       "Demir      48\n",
       "dtype: int64"
      ]
     },
     "execution_count": 10,
     "metadata": {},
     "output_type": "execute_result"
    }
   ],
   "source": [
    "firstResult = pd.Series([20,18,27],['Hüseyin', 'Betül', 'Demir'])\n",
    "secondResult = pd.Series([32,28,21],['Hüseyin', 'Betül', 'Demir'])\n",
    "\n",
    "result = firstResult + secondResult\n",
    "result"
   ]
  },
  {
   "cell_type": "code",
   "execution_count": 12,
   "id": "bfc716c2",
   "metadata": {
    "papermill": {
     "duration": 0.046167,
     "end_time": "2024-01-22T14:21:00.158290",
     "exception": false,
     "start_time": "2024-01-22T14:21:00.112123",
     "status": "completed"
    },
    "tags": []
   },
   "outputs": [
    {
     "data": {
      "text/plain": [
       "a    45.0\n",
       "b     NaN\n",
       "c     NaN\n",
       "d    14.0\n",
       "g     NaN\n",
       "h     NaN\n",
       "dtype: float64"
      ]
     },
     "execution_count": 12,
     "metadata": {},
     "output_type": "execute_result"
    }
   ],
   "source": [
    "# We can identify differences while exploring the dataset.\n",
    "\n",
    "firstSerie = pd.Series([24,26,4,5], ['a','b','c','d'])\n",
    "secondSerie = pd.Series([21,17,18,9], ['a','g','h','d'])\n",
    "\n",
    "firstSerie + secondSerie"
   ]
  },
  {
   "cell_type": "markdown",
   "id": "c15a6a39",
   "metadata": {
    "papermill": {
     "duration": 0.019874,
     "end_time": "2024-01-22T14:21:00.198673",
     "exception": false,
     "start_time": "2024-01-22T14:21:00.178799",
     "status": "completed"
    },
    "tags": []
   },
   "source": [
    "### DATA FRAME"
   ]
  },
  {
   "cell_type": "code",
   "execution_count": 11,
   "id": "bf3a29a1",
   "metadata": {
    "papermill": {
     "duration": 0.031413,
     "end_time": "2024-01-22T14:21:00.250204",
     "exception": false,
     "start_time": "2024-01-22T14:21:00.218791",
     "status": "completed"
    },
    "tags": []
   },
   "outputs": [
    {
     "data": {
      "text/plain": [
       "array([[ 0.8281115 ,  0.20682808, -2.08947907],\n",
       "       [ 0.53600651,  0.36465413,  0.05694454],\n",
       "       [-0.45108058, -0.84657493,  0.25469976],\n",
       "       [ 0.78524609, -2.43627278, -0.4238296 ]])"
      ]
     },
     "execution_count": 11,
     "metadata": {},
     "output_type": "execute_result"
    }
   ],
   "source": [
    "data = np.random.randn(4,3)\n",
    "data"
   ]
  },
  {
   "cell_type": "code",
   "execution_count": 13,
   "id": "ab5460b9",
   "metadata": {
    "papermill": {
     "duration": 0.039497,
     "end_time": "2024-01-22T14:21:00.371832",
     "exception": false,
     "start_time": "2024-01-22T14:21:00.332335",
     "status": "completed"
    },
    "tags": []
   },
   "outputs": [
    {
     "data": {
      "text/html": [
       "<div>\n",
       "<style scoped>\n",
       "    .dataframe tbody tr th:only-of-type {\n",
       "        vertical-align: middle;\n",
       "    }\n",
       "\n",
       "    .dataframe tbody tr th {\n",
       "        vertical-align: top;\n",
       "    }\n",
       "\n",
       "    .dataframe thead th {\n",
       "        text-align: right;\n",
       "    }\n",
       "</style>\n",
       "<table border=\"1\" class=\"dataframe\">\n",
       "  <thead>\n",
       "    <tr style=\"text-align: right;\">\n",
       "      <th></th>\n",
       "      <th>0</th>\n",
       "      <th>1</th>\n",
       "      <th>2</th>\n",
       "    </tr>\n",
       "  </thead>\n",
       "  <tbody>\n",
       "    <tr>\n",
       "      <th>0</th>\n",
       "      <td>0.828112</td>\n",
       "      <td>0.206828</td>\n",
       "      <td>-2.089479</td>\n",
       "    </tr>\n",
       "    <tr>\n",
       "      <th>1</th>\n",
       "      <td>0.536007</td>\n",
       "      <td>0.364654</td>\n",
       "      <td>0.056945</td>\n",
       "    </tr>\n",
       "    <tr>\n",
       "      <th>2</th>\n",
       "      <td>-0.451081</td>\n",
       "      <td>-0.846575</td>\n",
       "      <td>0.254700</td>\n",
       "    </tr>\n",
       "    <tr>\n",
       "      <th>3</th>\n",
       "      <td>0.785246</td>\n",
       "      <td>-2.436273</td>\n",
       "      <td>-0.423830</td>\n",
       "    </tr>\n",
       "  </tbody>\n",
       "</table>\n",
       "</div>"
      ],
      "text/plain": [
       "          0         1         2\n",
       "0  0.828112  0.206828 -2.089479\n",
       "1  0.536007  0.364654  0.056945\n",
       "2 -0.451081 -0.846575  0.254700\n",
       "3  0.785246 -2.436273 -0.423830"
      ]
     },
     "execution_count": 13,
     "metadata": {},
     "output_type": "execute_result"
    }
   ],
   "source": [
    "dataFrame = pd.DataFrame(data)   # (numpy_array)\n",
    "dataFrame[0]    # first column\n",
    "dataFrame"
   ]
  },
  {
   "cell_type": "markdown",
   "id": "0aafe427",
   "metadata": {
    "papermill": {
     "duration": 0.020469,
     "end_time": "2024-01-22T14:21:00.413122",
     "exception": false,
     "start_time": "2024-01-22T14:21:00.392653",
     "status": "completed"
    },
    "tags": []
   },
   "source": [
    "### INDICES"
   ]
  },
  {
   "cell_type": "code",
   "execution_count": 16,
   "id": "ea14bfc7",
   "metadata": {
    "papermill": {
     "duration": 0.037273,
     "end_time": "2024-01-22T14:21:00.471561",
     "exception": false,
     "start_time": "2024-01-22T14:21:00.434288",
     "status": "completed"
    },
    "tags": []
   },
   "outputs": [
    {
     "data": {
      "text/html": [
       "<div>\n",
       "<style scoped>\n",
       "    .dataframe tbody tr th:only-of-type {\n",
       "        vertical-align: middle;\n",
       "    }\n",
       "\n",
       "    .dataframe tbody tr th {\n",
       "        vertical-align: top;\n",
       "    }\n",
       "\n",
       "    .dataframe thead th {\n",
       "        text-align: right;\n",
       "    }\n",
       "</style>\n",
       "<table border=\"1\" class=\"dataframe\">\n",
       "  <thead>\n",
       "    <tr style=\"text-align: right;\">\n",
       "      <th></th>\n",
       "      <th>S. Performance</th>\n",
       "      <th>Efficiency</th>\n",
       "      <th>Study Hours</th>\n",
       "    </tr>\n",
       "  </thead>\n",
       "  <tbody>\n",
       "    <tr>\n",
       "      <th>Math</th>\n",
       "      <td>0.828112</td>\n",
       "      <td>0.206828</td>\n",
       "      <td>-2.089479</td>\n",
       "    </tr>\n",
       "    <tr>\n",
       "      <th>Physics</th>\n",
       "      <td>0.536007</td>\n",
       "      <td>0.364654</td>\n",
       "      <td>0.056945</td>\n",
       "    </tr>\n",
       "    <tr>\n",
       "      <th>Chemistry</th>\n",
       "      <td>-0.451081</td>\n",
       "      <td>-0.846575</td>\n",
       "      <td>0.254700</td>\n",
       "    </tr>\n",
       "    <tr>\n",
       "      <th>Biology</th>\n",
       "      <td>0.785246</td>\n",
       "      <td>-2.436273</td>\n",
       "      <td>-0.423830</td>\n",
       "    </tr>\n",
       "  </tbody>\n",
       "</table>\n",
       "</div>"
      ],
      "text/plain": [
       "           S. Performance  Efficiency  Study Hours\n",
       "Math             0.828112    0.206828    -2.089479\n",
       "Physics          0.536007    0.364654     0.056945\n",
       "Chemistry       -0.451081   -0.846575     0.254700\n",
       "Biology          0.785246   -2.436273    -0.423830"
      ]
     },
     "execution_count": 16,
     "metadata": {},
     "output_type": "execute_result"
    }
   ],
   "source": [
    "newDataFrame = pd.DataFrame(data, index = ['Math','Physics','Chemistry', 'Biology'], columns = [\"S. Performance\", \"Efficiency\", \"Study Hours\"])\n",
    "newDataFrame"
   ]
  },
  {
   "cell_type": "code",
   "execution_count": 18,
   "id": "4d5fa4f1",
   "metadata": {
    "papermill": {
     "duration": 0.033996,
     "end_time": "2024-01-22T14:21:00.527294",
     "exception": false,
     "start_time": "2024-01-22T14:21:00.493298",
     "status": "completed"
    },
    "tags": []
   },
   "outputs": [
    {
     "data": {
      "text/plain": [
       "Math         0.828112\n",
       "Physics      0.536007\n",
       "Chemistry   -0.451081\n",
       "Biology      0.785246\n",
       "Name: S. Performance, dtype: float64"
      ]
     },
     "execution_count": 18,
     "metadata": {},
     "output_type": "execute_result"
    }
   ],
   "source": [
    "# sütun arama\n",
    "newDataFrame[\"S. Performance\"]"
   ]
  },
  {
   "cell_type": "code",
   "execution_count": 20,
   "id": "a5aaafe7",
   "metadata": {
    "papermill": {
     "duration": 0.039289,
     "end_time": "2024-01-22T14:21:00.588161",
     "exception": false,
     "start_time": "2024-01-22T14:21:00.548872",
     "status": "completed"
    },
    "tags": []
   },
   "outputs": [
    {
     "data": {
      "text/html": [
       "<div>\n",
       "<style scoped>\n",
       "    .dataframe tbody tr th:only-of-type {\n",
       "        vertical-align: middle;\n",
       "    }\n",
       "\n",
       "    .dataframe tbody tr th {\n",
       "        vertical-align: top;\n",
       "    }\n",
       "\n",
       "    .dataframe thead th {\n",
       "        text-align: right;\n",
       "    }\n",
       "</style>\n",
       "<table border=\"1\" class=\"dataframe\">\n",
       "  <thead>\n",
       "    <tr style=\"text-align: right;\">\n",
       "      <th></th>\n",
       "      <th>Efficiency</th>\n",
       "      <th>Study Hours</th>\n",
       "    </tr>\n",
       "  </thead>\n",
       "  <tbody>\n",
       "    <tr>\n",
       "      <th>Math</th>\n",
       "      <td>0.206828</td>\n",
       "      <td>-2.089479</td>\n",
       "    </tr>\n",
       "    <tr>\n",
       "      <th>Physics</th>\n",
       "      <td>0.364654</td>\n",
       "      <td>0.056945</td>\n",
       "    </tr>\n",
       "    <tr>\n",
       "      <th>Chemistry</th>\n",
       "      <td>-0.846575</td>\n",
       "      <td>0.254700</td>\n",
       "    </tr>\n",
       "    <tr>\n",
       "      <th>Biology</th>\n",
       "      <td>-2.436273</td>\n",
       "      <td>-0.423830</td>\n",
       "    </tr>\n",
       "  </tbody>\n",
       "</table>\n",
       "</div>"
      ],
      "text/plain": [
       "           Efficiency  Study Hours\n",
       "Math         0.206828    -2.089479\n",
       "Physics      0.364654     0.056945\n",
       "Chemistry   -0.846575     0.254700\n",
       "Biology     -2.436273    -0.423830"
      ]
     },
     "execution_count": 20,
     "metadata": {},
     "output_type": "execute_result"
    }
   ],
   "source": [
    "newDataFrame[[\"Efficiency\",\"Study Hours\"]]"
   ]
  },
  {
   "cell_type": "code",
   "execution_count": 22,
   "id": "b5e37cde",
   "metadata": {
    "papermill": {
     "duration": 0.033694,
     "end_time": "2024-01-22T14:21:00.643827",
     "exception": false,
     "start_time": "2024-01-22T14:21:00.610133",
     "status": "completed"
    },
    "tags": []
   },
   "outputs": [
    {
     "data": {
      "text/plain": [
       "S. Performance    0.828112\n",
       "Efficiency        0.206828\n",
       "Study Hours      -2.089479\n",
       "Name: Math, dtype: float64"
      ]
     },
     "execution_count": 22,
     "metadata": {},
     "output_type": "execute_result"
    }
   ],
   "source": [
    "# row arama\n",
    "newDataFrame.loc[\"Chemistry\"]\n",
    "newDataFrame.iloc[0]    # Math"
   ]
  },
  {
   "cell_type": "code",
   "execution_count": 24,
   "id": "dde7f330",
   "metadata": {
    "papermill": {
     "duration": 0.037744,
     "end_time": "2024-01-22T14:21:00.703794",
     "exception": false,
     "start_time": "2024-01-22T14:21:00.666050",
     "status": "completed"
    },
    "tags": []
   },
   "outputs": [
    {
     "data": {
      "text/html": [
       "<div>\n",
       "<style scoped>\n",
       "    .dataframe tbody tr th:only-of-type {\n",
       "        vertical-align: middle;\n",
       "    }\n",
       "\n",
       "    .dataframe tbody tr th {\n",
       "        vertical-align: top;\n",
       "    }\n",
       "\n",
       "    .dataframe thead th {\n",
       "        text-align: right;\n",
       "    }\n",
       "</style>\n",
       "<table border=\"1\" class=\"dataframe\">\n",
       "  <thead>\n",
       "    <tr style=\"text-align: right;\">\n",
       "      <th></th>\n",
       "      <th>S. Performance</th>\n",
       "      <th>Efficiency</th>\n",
       "      <th>Study Hours</th>\n",
       "      <th>Value</th>\n",
       "    </tr>\n",
       "  </thead>\n",
       "  <tbody>\n",
       "    <tr>\n",
       "      <th>Math</th>\n",
       "      <td>0.828112</td>\n",
       "      <td>0.206828</td>\n",
       "      <td>-2.089479</td>\n",
       "      <td>-0.432163</td>\n",
       "    </tr>\n",
       "    <tr>\n",
       "      <th>Physics</th>\n",
       "      <td>0.536007</td>\n",
       "      <td>0.364654</td>\n",
       "      <td>0.056945</td>\n",
       "      <td>0.020765</td>\n",
       "    </tr>\n",
       "    <tr>\n",
       "      <th>Chemistry</th>\n",
       "      <td>-0.451081</td>\n",
       "      <td>-0.846575</td>\n",
       "      <td>0.254700</td>\n",
       "      <td>-0.215622</td>\n",
       "    </tr>\n",
       "    <tr>\n",
       "      <th>Biology</th>\n",
       "      <td>0.785246</td>\n",
       "      <td>-2.436273</td>\n",
       "      <td>-0.423830</td>\n",
       "      <td>1.032565</td>\n",
       "    </tr>\n",
       "  </tbody>\n",
       "</table>\n",
       "</div>"
      ],
      "text/plain": [
       "           S. Performance  Efficiency  Study Hours     Value\n",
       "Math             0.828112    0.206828    -2.089479 -0.432163\n",
       "Physics          0.536007    0.364654     0.056945  0.020765\n",
       "Chemistry       -0.451081   -0.846575     0.254700 -0.215622\n",
       "Biology          0.785246   -2.436273    -0.423830  1.032565"
      ]
     },
     "execution_count": 24,
     "metadata": {},
     "output_type": "execute_result"
    }
   ],
   "source": [
    "# yeni sütun ekleme\n",
    "\n",
    "newDataFrame[\"Value\"] = newDataFrame[\"Efficiency\"] * newDataFrame[\"Study Hours\"]\n",
    "newDataFrame"
   ]
  },
  {
   "cell_type": "code",
   "execution_count": 26,
   "id": "a7eb35fc",
   "metadata": {
    "papermill": {
     "duration": 0.040887,
     "end_time": "2024-01-22T14:21:00.767336",
     "exception": false,
     "start_time": "2024-01-22T14:21:00.726449",
     "status": "completed"
    },
    "tags": []
   },
   "outputs": [
    {
     "data": {
      "text/html": [
       "<div>\n",
       "<style scoped>\n",
       "    .dataframe tbody tr th:only-of-type {\n",
       "        vertical-align: middle;\n",
       "    }\n",
       "\n",
       "    .dataframe tbody tr th {\n",
       "        vertical-align: top;\n",
       "    }\n",
       "\n",
       "    .dataframe thead th {\n",
       "        text-align: right;\n",
       "    }\n",
       "</style>\n",
       "<table border=\"1\" class=\"dataframe\">\n",
       "  <thead>\n",
       "    <tr style=\"text-align: right;\">\n",
       "      <th></th>\n",
       "      <th>S. Performance</th>\n",
       "      <th>Efficiency</th>\n",
       "      <th>Study Hours</th>\n",
       "    </tr>\n",
       "  </thead>\n",
       "  <tbody>\n",
       "    <tr>\n",
       "      <th>Math</th>\n",
       "      <td>0.828112</td>\n",
       "      <td>0.206828</td>\n",
       "      <td>-2.089479</td>\n",
       "    </tr>\n",
       "    <tr>\n",
       "      <th>Physics</th>\n",
       "      <td>0.536007</td>\n",
       "      <td>0.364654</td>\n",
       "      <td>0.056945</td>\n",
       "    </tr>\n",
       "    <tr>\n",
       "      <th>Chemistry</th>\n",
       "      <td>-0.451081</td>\n",
       "      <td>-0.846575</td>\n",
       "      <td>0.254700</td>\n",
       "    </tr>\n",
       "    <tr>\n",
       "      <th>Biology</th>\n",
       "      <td>0.785246</td>\n",
       "      <td>-2.436273</td>\n",
       "      <td>-0.423830</td>\n",
       "    </tr>\n",
       "  </tbody>\n",
       "</table>\n",
       "</div>"
      ],
      "text/plain": [
       "           S. Performance  Efficiency  Study Hours\n",
       "Math             0.828112    0.206828    -2.089479\n",
       "Physics          0.536007    0.364654     0.056945\n",
       "Chemistry       -0.451081   -0.846575     0.254700\n",
       "Biology          0.785246   -2.436273    -0.423830"
      ]
     },
     "execution_count": 26,
     "metadata": {},
     "output_type": "execute_result"
    }
   ],
   "source": [
    "# sütun silme\n",
    "\n",
    "newDataFrame.drop(\"Value\", axis = 1)"
   ]
  },
  {
   "cell_type": "code",
   "execution_count": 28,
   "id": "9d9082f1",
   "metadata": {
    "papermill": {
     "duration": 0.040395,
     "end_time": "2024-01-22T14:21:00.830414",
     "exception": false,
     "start_time": "2024-01-22T14:21:00.790019",
     "status": "completed"
    },
    "tags": []
   },
   "outputs": [
    {
     "data": {
      "text/html": [
       "<div>\n",
       "<style scoped>\n",
       "    .dataframe tbody tr th:only-of-type {\n",
       "        vertical-align: middle;\n",
       "    }\n",
       "\n",
       "    .dataframe tbody tr th {\n",
       "        vertical-align: top;\n",
       "    }\n",
       "\n",
       "    .dataframe thead th {\n",
       "        text-align: right;\n",
       "    }\n",
       "</style>\n",
       "<table border=\"1\" class=\"dataframe\">\n",
       "  <thead>\n",
       "    <tr style=\"text-align: right;\">\n",
       "      <th></th>\n",
       "      <th>S. Performance</th>\n",
       "      <th>Efficiency</th>\n",
       "      <th>Study Hours</th>\n",
       "      <th>Value</th>\n",
       "    </tr>\n",
       "  </thead>\n",
       "  <tbody>\n",
       "    <tr>\n",
       "      <th>Math</th>\n",
       "      <td>0.828112</td>\n",
       "      <td>0.206828</td>\n",
       "      <td>-2.089479</td>\n",
       "      <td>-0.432163</td>\n",
       "    </tr>\n",
       "    <tr>\n",
       "      <th>Physics</th>\n",
       "      <td>0.536007</td>\n",
       "      <td>0.364654</td>\n",
       "      <td>0.056945</td>\n",
       "      <td>0.020765</td>\n",
       "    </tr>\n",
       "    <tr>\n",
       "      <th>Chemistry</th>\n",
       "      <td>-0.451081</td>\n",
       "      <td>-0.846575</td>\n",
       "      <td>0.254700</td>\n",
       "      <td>-0.215622</td>\n",
       "    </tr>\n",
       "  </tbody>\n",
       "</table>\n",
       "</div>"
      ],
      "text/plain": [
       "           S. Performance  Efficiency  Study Hours     Value\n",
       "Math             0.828112    0.206828    -2.089479 -0.432163\n",
       "Physics          0.536007    0.364654     0.056945  0.020765\n",
       "Chemistry       -0.451081   -0.846575     0.254700 -0.215622"
      ]
     },
     "execution_count": 28,
     "metadata": {},
     "output_type": "execute_result"
    }
   ],
   "source": [
    "# row silme\n",
    "newDataFrame.drop(\"Biology\", axis = 0)   # axis=0 is not necessary."
   ]
  },
  {
   "cell_type": "code",
   "execution_count": 30,
   "id": "56365be0",
   "metadata": {
    "papermill": {
     "duration": 0.039834,
     "end_time": "2024-01-22T14:21:00.894244",
     "exception": false,
     "start_time": "2024-01-22T14:21:00.854410",
     "status": "completed"
    },
    "tags": []
   },
   "outputs": [
    {
     "data": {
      "text/html": [
       "<div>\n",
       "<style scoped>\n",
       "    .dataframe tbody tr th:only-of-type {\n",
       "        vertical-align: middle;\n",
       "    }\n",
       "\n",
       "    .dataframe tbody tr th {\n",
       "        vertical-align: top;\n",
       "    }\n",
       "\n",
       "    .dataframe thead th {\n",
       "        text-align: right;\n",
       "    }\n",
       "</style>\n",
       "<table border=\"1\" class=\"dataframe\">\n",
       "  <thead>\n",
       "    <tr style=\"text-align: right;\">\n",
       "      <th></th>\n",
       "      <th>S. Performance</th>\n",
       "      <th>Efficiency</th>\n",
       "      <th>Study Hours</th>\n",
       "      <th>Value</th>\n",
       "    </tr>\n",
       "  </thead>\n",
       "  <tbody>\n",
       "    <tr>\n",
       "      <th>Math</th>\n",
       "      <td>0.828112</td>\n",
       "      <td>0.206828</td>\n",
       "      <td>-2.089479</td>\n",
       "      <td>-0.432163</td>\n",
       "    </tr>\n",
       "    <tr>\n",
       "      <th>Physics</th>\n",
       "      <td>0.536007</td>\n",
       "      <td>0.364654</td>\n",
       "      <td>0.056945</td>\n",
       "      <td>0.020765</td>\n",
       "    </tr>\n",
       "    <tr>\n",
       "      <th>Chemistry</th>\n",
       "      <td>-0.451081</td>\n",
       "      <td>-0.846575</td>\n",
       "      <td>0.254700</td>\n",
       "      <td>-0.215622</td>\n",
       "    </tr>\n",
       "    <tr>\n",
       "      <th>Biology</th>\n",
       "      <td>0.785246</td>\n",
       "      <td>-2.436273</td>\n",
       "      <td>-0.423830</td>\n",
       "      <td>1.032565</td>\n",
       "    </tr>\n",
       "  </tbody>\n",
       "</table>\n",
       "</div>"
      ],
      "text/plain": [
       "           S. Performance  Efficiency  Study Hours     Value\n",
       "Math             0.828112    0.206828    -2.089479 -0.432163\n",
       "Physics          0.536007    0.364654     0.056945  0.020765\n",
       "Chemistry       -0.451081   -0.846575     0.254700 -0.215622\n",
       "Biology          0.785246   -2.436273    -0.423830  1.032565"
      ]
     },
     "execution_count": 30,
     "metadata": {},
     "output_type": "execute_result"
    }
   ],
   "source": [
    "newDataFrame\n",
    "# it did not drop the 'Value' column"
   ]
  },
  {
   "cell_type": "code",
   "execution_count": 32,
   "id": "eb009c79",
   "metadata": {
    "papermill": {
     "duration": 0.039704,
     "end_time": "2024-01-22T14:21:00.956446",
     "exception": false,
     "start_time": "2024-01-22T14:21:00.916742",
     "status": "completed"
    },
    "tags": []
   },
   "outputs": [
    {
     "data": {
      "text/html": [
       "<div>\n",
       "<style scoped>\n",
       "    .dataframe tbody tr th:only-of-type {\n",
       "        vertical-align: middle;\n",
       "    }\n",
       "\n",
       "    .dataframe tbody tr th {\n",
       "        vertical-align: top;\n",
       "    }\n",
       "\n",
       "    .dataframe thead th {\n",
       "        text-align: right;\n",
       "    }\n",
       "</style>\n",
       "<table border=\"1\" class=\"dataframe\">\n",
       "  <thead>\n",
       "    <tr style=\"text-align: right;\">\n",
       "      <th></th>\n",
       "      <th>S. Performance</th>\n",
       "      <th>Efficiency</th>\n",
       "      <th>Study Hours</th>\n",
       "    </tr>\n",
       "  </thead>\n",
       "  <tbody>\n",
       "    <tr>\n",
       "      <th>Math</th>\n",
       "      <td>0.828112</td>\n",
       "      <td>0.206828</td>\n",
       "      <td>-2.089479</td>\n",
       "    </tr>\n",
       "    <tr>\n",
       "      <th>Physics</th>\n",
       "      <td>0.536007</td>\n",
       "      <td>0.364654</td>\n",
       "      <td>0.056945</td>\n",
       "    </tr>\n",
       "    <tr>\n",
       "      <th>Chemistry</th>\n",
       "      <td>-0.451081</td>\n",
       "      <td>-0.846575</td>\n",
       "      <td>0.254700</td>\n",
       "    </tr>\n",
       "    <tr>\n",
       "      <th>Biology</th>\n",
       "      <td>0.785246</td>\n",
       "      <td>-2.436273</td>\n",
       "      <td>-0.423830</td>\n",
       "    </tr>\n",
       "  </tbody>\n",
       "</table>\n",
       "</div>"
      ],
      "text/plain": [
       "           S. Performance  Efficiency  Study Hours\n",
       "Math             0.828112    0.206828    -2.089479\n",
       "Physics          0.536007    0.364654     0.056945\n",
       "Chemistry       -0.451081   -0.846575     0.254700\n",
       "Biology          0.785246   -2.436273    -0.423830"
      ]
     },
     "execution_count": 32,
     "metadata": {},
     "output_type": "execute_result"
    }
   ],
   "source": [
    "# Drop Permanently\n",
    "newDataFrame.drop(\"Value\", axis = 1, inplace = True)\n",
    "newDataFrame"
   ]
  },
  {
   "cell_type": "code",
   "execution_count": 34,
   "id": "2618f552",
   "metadata": {
    "papermill": {
     "duration": 0.035728,
     "end_time": "2024-01-22T14:21:01.015330",
     "exception": false,
     "start_time": "2024-01-22T14:21:00.979602",
     "status": "completed"
    },
    "tags": []
   },
   "outputs": [
    {
     "data": {
      "text/plain": [
       "0.25469976427265"
      ]
     },
     "execution_count": 34,
     "metadata": {},
     "output_type": "execute_result"
    }
   ],
   "source": [
    "# tablodan datayı getir\n",
    "newDataFrame.loc[\"Physics\"][\"Efficiency\"]\n",
    "newDataFrame.loc[\"Chemistry\",\"Study Hours\"]"
   ]
  },
  {
   "cell_type": "code",
   "execution_count": 36,
   "id": "d3ccae81",
   "metadata": {
    "papermill": {
     "duration": 0.038807,
     "end_time": "2024-01-22T14:21:01.078121",
     "exception": false,
     "start_time": "2024-01-22T14:21:01.039314",
     "status": "completed"
    },
    "tags": []
   },
   "outputs": [
    {
     "data": {
      "text/html": [
       "<div>\n",
       "<style scoped>\n",
       "    .dataframe tbody tr th:only-of-type {\n",
       "        vertical-align: middle;\n",
       "    }\n",
       "\n",
       "    .dataframe tbody tr th {\n",
       "        vertical-align: top;\n",
       "    }\n",
       "\n",
       "    .dataframe thead th {\n",
       "        text-align: right;\n",
       "    }\n",
       "</style>\n",
       "<table border=\"1\" class=\"dataframe\">\n",
       "  <thead>\n",
       "    <tr style=\"text-align: right;\">\n",
       "      <th></th>\n",
       "      <th>S. Performance</th>\n",
       "      <th>Efficiency</th>\n",
       "      <th>Study Hours</th>\n",
       "    </tr>\n",
       "  </thead>\n",
       "  <tbody>\n",
       "    <tr>\n",
       "      <th>Math</th>\n",
       "      <td>False</td>\n",
       "      <td>False</td>\n",
       "      <td>True</td>\n",
       "    </tr>\n",
       "    <tr>\n",
       "      <th>Physics</th>\n",
       "      <td>False</td>\n",
       "      <td>False</td>\n",
       "      <td>False</td>\n",
       "    </tr>\n",
       "    <tr>\n",
       "      <th>Chemistry</th>\n",
       "      <td>True</td>\n",
       "      <td>True</td>\n",
       "      <td>False</td>\n",
       "    </tr>\n",
       "    <tr>\n",
       "      <th>Biology</th>\n",
       "      <td>False</td>\n",
       "      <td>True</td>\n",
       "      <td>True</td>\n",
       "    </tr>\n",
       "  </tbody>\n",
       "</table>\n",
       "</div>"
      ],
      "text/plain": [
       "           S. Performance  Efficiency  Study Hours\n",
       "Math                False       False         True\n",
       "Physics             False       False        False\n",
       "Chemistry            True        True        False\n",
       "Biology             False        True         True"
      ]
     },
     "execution_count": 36,
     "metadata": {},
     "output_type": "execute_result"
    }
   ],
   "source": [
    "booleanFrame = newDataFrame < 0\n",
    "booleanFrame"
   ]
  },
  {
   "cell_type": "code",
   "execution_count": 42,
   "id": "2baae60a",
   "metadata": {
    "papermill": {
     "duration": 0.041084,
     "end_time": "2024-01-22T14:21:01.142713",
     "exception": false,
     "start_time": "2024-01-22T14:21:01.101629",
     "status": "completed"
    },
    "tags": []
   },
   "outputs": [
    {
     "data": {
      "text/html": [
       "<div>\n",
       "<style scoped>\n",
       "    .dataframe tbody tr th:only-of-type {\n",
       "        vertical-align: middle;\n",
       "    }\n",
       "\n",
       "    .dataframe tbody tr th {\n",
       "        vertical-align: top;\n",
       "    }\n",
       "\n",
       "    .dataframe thead th {\n",
       "        text-align: right;\n",
       "    }\n",
       "</style>\n",
       "<table border=\"1\" class=\"dataframe\">\n",
       "  <thead>\n",
       "    <tr style=\"text-align: right;\">\n",
       "      <th></th>\n",
       "      <th>S. Performance</th>\n",
       "      <th>Efficiency</th>\n",
       "      <th>Study Hours</th>\n",
       "    </tr>\n",
       "  </thead>\n",
       "  <tbody>\n",
       "    <tr>\n",
       "      <th>Math</th>\n",
       "      <td>NaN</td>\n",
       "      <td>NaN</td>\n",
       "      <td>-2.089479</td>\n",
       "    </tr>\n",
       "    <tr>\n",
       "      <th>Physics</th>\n",
       "      <td>NaN</td>\n",
       "      <td>NaN</td>\n",
       "      <td>NaN</td>\n",
       "    </tr>\n",
       "    <tr>\n",
       "      <th>Chemistry</th>\n",
       "      <td>-0.451081</td>\n",
       "      <td>-0.846575</td>\n",
       "      <td>NaN</td>\n",
       "    </tr>\n",
       "    <tr>\n",
       "      <th>Biology</th>\n",
       "      <td>NaN</td>\n",
       "      <td>-2.436273</td>\n",
       "      <td>-0.423830</td>\n",
       "    </tr>\n",
       "  </tbody>\n",
       "</table>\n",
       "</div>"
      ],
      "text/plain": [
       "           S. Performance  Efficiency  Study Hours\n",
       "Math                  NaN         NaN    -2.089479\n",
       "Physics               NaN         NaN          NaN\n",
       "Chemistry       -0.451081   -0.846575          NaN\n",
       "Biology               NaN   -2.436273    -0.423830"
      ]
     },
     "execution_count": 42,
     "metadata": {},
     "output_type": "execute_result"
    }
   ],
   "source": [
    "# Filter rows based on condition\n",
    "\n",
    "newDataFrame[booleanFrame]\n",
    "newDataFrame[newDataFrame < 0]"
   ]
  },
  {
   "cell_type": "code",
   "execution_count": 44,
   "id": "f90224d8",
   "metadata": {
    "papermill": {
     "duration": 0.036645,
     "end_time": "2024-01-22T14:21:01.203681",
     "exception": false,
     "start_time": "2024-01-22T14:21:01.167036",
     "status": "completed"
    },
    "tags": []
   },
   "outputs": [
    {
     "data": {
      "text/plain": [
       "Math          True\n",
       "Physics       True\n",
       "Chemistry    False\n",
       "Biology      False\n",
       "Name: Efficiency, dtype: bool"
      ]
     },
     "execution_count": 44,
     "metadata": {},
     "output_type": "execute_result"
    }
   ],
   "source": [
    "newDataFrame[\"Efficiency\"] > 0"
   ]
  },
  {
   "cell_type": "code",
   "execution_count": 52,
   "id": "b6115a6d",
   "metadata": {
    "papermill": {
     "duration": 0.039726,
     "end_time": "2024-01-22T14:21:01.267502",
     "exception": false,
     "start_time": "2024-01-22T14:21:01.227776",
     "status": "completed"
    },
    "tags": []
   },
   "outputs": [
    {
     "data": {
      "text/html": [
       "<div>\n",
       "<style scoped>\n",
       "    .dataframe tbody tr th:only-of-type {\n",
       "        vertical-align: middle;\n",
       "    }\n",
       "\n",
       "    .dataframe tbody tr th {\n",
       "        vertical-align: top;\n",
       "    }\n",
       "\n",
       "    .dataframe thead th {\n",
       "        text-align: right;\n",
       "    }\n",
       "</style>\n",
       "<table border=\"1\" class=\"dataframe\">\n",
       "  <thead>\n",
       "    <tr style=\"text-align: right;\">\n",
       "      <th></th>\n",
       "      <th>S. Performance</th>\n",
       "      <th>Efficiency</th>\n",
       "      <th>Study Hours</th>\n",
       "    </tr>\n",
       "  </thead>\n",
       "  <tbody>\n",
       "    <tr>\n",
       "      <th>Physics</th>\n",
       "      <td>0.536007</td>\n",
       "      <td>0.364654</td>\n",
       "      <td>0.056945</td>\n",
       "    </tr>\n",
       "    <tr>\n",
       "      <th>Chemistry</th>\n",
       "      <td>-0.451081</td>\n",
       "      <td>-0.846575</td>\n",
       "      <td>0.254700</td>\n",
       "    </tr>\n",
       "  </tbody>\n",
       "</table>\n",
       "</div>"
      ],
      "text/plain": [
       "           S. Performance  Efficiency  Study Hours\n",
       "Physics          0.536007    0.364654     0.056945\n",
       "Chemistry       -0.451081   -0.846575     0.254700"
      ]
     },
     "execution_count": 52,
     "metadata": {},
     "output_type": "execute_result"
    }
   ],
   "source": [
    "newDataFrame[newDataFrame[\"Study Hours\"] > 0]"
   ]
  },
  {
   "cell_type": "markdown",
   "id": "612e7339",
   "metadata": {
    "papermill": {
     "duration": 0.023911,
     "end_time": "2024-01-22T14:21:01.315266",
     "exception": false,
     "start_time": "2024-01-22T14:21:01.291355",
     "status": "completed"
    },
    "tags": []
   },
   "source": [
    "### RESET INDEX"
   ]
  },
  {
   "cell_type": "code",
   "execution_count": 58,
   "id": "764382b1",
   "metadata": {
    "papermill": {
     "duration": 0.040915,
     "end_time": "2024-01-22T14:21:01.381054",
     "exception": false,
     "start_time": "2024-01-22T14:21:01.340139",
     "status": "completed"
    },
    "tags": []
   },
   "outputs": [
    {
     "data": {
      "text/html": [
       "<div>\n",
       "<style scoped>\n",
       "    .dataframe tbody tr th:only-of-type {\n",
       "        vertical-align: middle;\n",
       "    }\n",
       "\n",
       "    .dataframe tbody tr th {\n",
       "        vertical-align: top;\n",
       "    }\n",
       "\n",
       "    .dataframe thead th {\n",
       "        text-align: right;\n",
       "    }\n",
       "</style>\n",
       "<table border=\"1\" class=\"dataframe\">\n",
       "  <thead>\n",
       "    <tr style=\"text-align: right;\">\n",
       "      <th></th>\n",
       "      <th>index</th>\n",
       "      <th>S. Performance</th>\n",
       "      <th>Efficiency</th>\n",
       "      <th>Study Hours</th>\n",
       "    </tr>\n",
       "  </thead>\n",
       "  <tbody>\n",
       "    <tr>\n",
       "      <th>0</th>\n",
       "      <td>Math</td>\n",
       "      <td>0.828112</td>\n",
       "      <td>0.206828</td>\n",
       "      <td>-2.089479</td>\n",
       "    </tr>\n",
       "    <tr>\n",
       "      <th>1</th>\n",
       "      <td>Physics</td>\n",
       "      <td>0.536007</td>\n",
       "      <td>0.364654</td>\n",
       "      <td>0.056945</td>\n",
       "    </tr>\n",
       "    <tr>\n",
       "      <th>2</th>\n",
       "      <td>Chemistry</td>\n",
       "      <td>-0.451081</td>\n",
       "      <td>-0.846575</td>\n",
       "      <td>0.254700</td>\n",
       "    </tr>\n",
       "    <tr>\n",
       "      <th>3</th>\n",
       "      <td>Biology</td>\n",
       "      <td>0.785246</td>\n",
       "      <td>-2.436273</td>\n",
       "      <td>-0.423830</td>\n",
       "    </tr>\n",
       "  </tbody>\n",
       "</table>\n",
       "</div>"
      ],
      "text/plain": [
       "       index  S. Performance  Efficiency  Study Hours\n",
       "0       Math        0.828112    0.206828    -2.089479\n",
       "1    Physics        0.536007    0.364654     0.056945\n",
       "2  Chemistry       -0.451081   -0.846575     0.254700\n",
       "3    Biology        0.785246   -2.436273    -0.423830"
      ]
     },
     "execution_count": 58,
     "metadata": {},
     "output_type": "execute_result"
    }
   ],
   "source": [
    "newDataFrame.reset_index()\n",
    "# Without inplace, changes won't be applied to the table"
   ]
  },
  {
   "cell_type": "code",
   "execution_count": 60,
   "id": "49a72d4c",
   "metadata": {
    "papermill": {
     "duration": 0.046385,
     "end_time": "2024-01-22T14:21:01.451697",
     "exception": false,
     "start_time": "2024-01-22T14:21:01.405312",
     "status": "completed"
    },
    "tags": []
   },
   "outputs": [
    {
     "data": {
      "text/html": [
       "<div>\n",
       "<style scoped>\n",
       "    .dataframe tbody tr th:only-of-type {\n",
       "        vertical-align: middle;\n",
       "    }\n",
       "\n",
       "    .dataframe tbody tr th {\n",
       "        vertical-align: top;\n",
       "    }\n",
       "\n",
       "    .dataframe thead th {\n",
       "        text-align: right;\n",
       "    }\n",
       "</style>\n",
       "<table border=\"1\" class=\"dataframe\">\n",
       "  <thead>\n",
       "    <tr style=\"text-align: right;\">\n",
       "      <th></th>\n",
       "      <th>S. Performance</th>\n",
       "      <th>Efficiency</th>\n",
       "      <th>Study Hours</th>\n",
       "    </tr>\n",
       "    <tr>\n",
       "      <th>New Index</th>\n",
       "      <th></th>\n",
       "      <th></th>\n",
       "      <th></th>\n",
       "    </tr>\n",
       "  </thead>\n",
       "  <tbody>\n",
       "    <tr>\n",
       "      <th>Mth</th>\n",
       "      <td>0.828112</td>\n",
       "      <td>0.206828</td>\n",
       "      <td>-2.089479</td>\n",
       "    </tr>\n",
       "    <tr>\n",
       "      <th>Phy</th>\n",
       "      <td>0.536007</td>\n",
       "      <td>0.364654</td>\n",
       "      <td>0.056945</td>\n",
       "    </tr>\n",
       "    <tr>\n",
       "      <th>Che</th>\n",
       "      <td>-0.451081</td>\n",
       "      <td>-0.846575</td>\n",
       "      <td>0.254700</td>\n",
       "    </tr>\n",
       "    <tr>\n",
       "      <th>Bio</th>\n",
       "      <td>0.785246</td>\n",
       "      <td>-2.436273</td>\n",
       "      <td>-0.423830</td>\n",
       "    </tr>\n",
       "  </tbody>\n",
       "</table>\n",
       "</div>"
      ],
      "text/plain": [
       "           S. Performance  Efficiency  Study Hours\n",
       "New Index                                         \n",
       "Mth              0.828112    0.206828    -2.089479\n",
       "Phy              0.536007    0.364654     0.056945\n",
       "Che             -0.451081   -0.846575     0.254700\n",
       "Bio              0.785246   -2.436273    -0.423830"
      ]
     },
     "execution_count": 60,
     "metadata": {},
     "output_type": "execute_result"
    }
   ],
   "source": [
    "newIndexList = [\"Mth\", \"Phy\", \"Che\", \"Bio\"]\n",
    "newDataFrame[\"New Index\"] = newIndexList\n",
    "newDataFrame.set_index(\"New Index\", inplace = True)\n",
    "newDataFrame"
   ]
  },
  {
   "cell_type": "markdown",
   "id": "6ade2526",
   "metadata": {
    "papermill": {
     "duration": 0.025325,
     "end_time": "2024-01-22T14:21:01.502268",
     "exception": false,
     "start_time": "2024-01-22T14:21:01.476943",
     "status": "completed"
    },
    "tags": []
   },
   "source": [
    "### MULTI INDEX"
   ]
  },
  {
   "cell_type": "code",
   "execution_count": 64,
   "id": "0a6193e3",
   "metadata": {
    "papermill": {
     "duration": 0.038421,
     "end_time": "2024-01-22T14:21:01.566158",
     "exception": false,
     "start_time": "2024-01-22T14:21:01.527737",
     "status": "completed"
    },
    "tags": []
   },
   "outputs": [
    {
     "data": {
      "text/plain": [
       "[('A', 'Math'),\n",
       " ('A', 'Physics'),\n",
       " ('A', 'Chemistry'),\n",
       " ('B', 'Math'),\n",
       " ('B', 'Geometry'),\n",
       " ('B', 'Biology')]"
      ]
     },
     "execution_count": 64,
     "metadata": {},
     "output_type": "execute_result"
    }
   ],
   "source": [
    "firstIndexes = [\"A\",\"A\",\"A\",\"B\",\"B\",\"B\"]\n",
    "secondIndexes = [\"Math\", \"Physics\", \"Chemistry\", \"Math\", \"Geometry\", \"Biology\"]\n",
    "\n",
    "resultIndexes = list(zip(firstIndexes,secondIndexes))\n",
    "resultIndexes"
   ]
  },
  {
   "cell_type": "code",
   "execution_count": 66,
   "id": "9100a73a",
   "metadata": {
    "papermill": {
     "duration": 0.039721,
     "end_time": "2024-01-22T14:21:01.632081",
     "exception": false,
     "start_time": "2024-01-22T14:21:01.592360",
     "status": "completed"
    },
    "tags": []
   },
   "outputs": [
    {
     "data": {
      "text/plain": [
       "MultiIndex([('A',      'Math'),\n",
       "            ('A',   'Physics'),\n",
       "            ('A', 'Chemistry'),\n",
       "            ('B',      'Math'),\n",
       "            ('B',  'Geometry'),\n",
       "            ('B',   'Biology')],\n",
       "           )"
      ]
     },
     "execution_count": 66,
     "metadata": {},
     "output_type": "execute_result"
    }
   ],
   "source": [
    "resultIndexes = pd.MultiIndex.from_tuples(resultIndexes)\n",
    "resultIndexes"
   ]
  },
  {
   "cell_type": "code",
   "execution_count": 70,
   "id": "6fa456cc",
   "metadata": {
    "papermill": {
     "duration": 0.044884,
     "end_time": "2024-01-22T14:21:01.702801",
     "exception": false,
     "start_time": "2024-01-22T14:21:01.657917",
     "status": "completed"
    },
    "tags": []
   },
   "outputs": [
    {
     "data": {
      "text/html": [
       "<div>\n",
       "<style scoped>\n",
       "    .dataframe tbody tr th:only-of-type {\n",
       "        vertical-align: middle;\n",
       "    }\n",
       "\n",
       "    .dataframe tbody tr th {\n",
       "        vertical-align: top;\n",
       "    }\n",
       "\n",
       "    .dataframe thead th {\n",
       "        text-align: right;\n",
       "    }\n",
       "</style>\n",
       "<table border=\"1\" class=\"dataframe\">\n",
       "  <thead>\n",
       "    <tr style=\"text-align: right;\">\n",
       "      <th></th>\n",
       "      <th></th>\n",
       "      <th>Efficiency</th>\n",
       "      <th>Study Hours</th>\n",
       "    </tr>\n",
       "  </thead>\n",
       "  <tbody>\n",
       "    <tr>\n",
       "      <th rowspan=\"3\" valign=\"top\">A</th>\n",
       "      <th>Math</th>\n",
       "      <td>1.17</td>\n",
       "      <td>5</td>\n",
       "    </tr>\n",
       "    <tr>\n",
       "      <th>Physics</th>\n",
       "      <td>0.65</td>\n",
       "      <td>3</td>\n",
       "    </tr>\n",
       "    <tr>\n",
       "      <th>Chemistry</th>\n",
       "      <td>0.87</td>\n",
       "      <td>4</td>\n",
       "    </tr>\n",
       "    <tr>\n",
       "      <th rowspan=\"3\" valign=\"top\">B</th>\n",
       "      <th>Math</th>\n",
       "      <td>1.68</td>\n",
       "      <td>6</td>\n",
       "    </tr>\n",
       "    <tr>\n",
       "      <th>Geometry</th>\n",
       "      <td>1.94</td>\n",
       "      <td>5</td>\n",
       "    </tr>\n",
       "    <tr>\n",
       "      <th>Biology</th>\n",
       "      <td>2.7</td>\n",
       "      <td>8</td>\n",
       "    </tr>\n",
       "  </tbody>\n",
       "</table>\n",
       "</div>"
      ],
      "text/plain": [
       "            Efficiency Study Hours\n",
       "A Math            1.17           5\n",
       "  Physics         0.65           3\n",
       "  Chemistry       0.87           4\n",
       "B Math            1.68           6\n",
       "  Geometry        1.94           5\n",
       "  Biology          2.7           8"
      ]
     },
     "execution_count": 70,
     "metadata": {},
     "output_type": "execute_result"
    }
   ],
   "source": [
    "myList = [[1.17,\"5\"],[0.65,\"3\"],[0.87,\"4\"],[1.68,\"6\"],[1.94,\"5\"],[2.7,\"8\"]]\n",
    "myNumpyArray = np.array(myList)\n",
    "\n",
    "myDataFrame = pd.DataFrame(myNumpyArray, index = resultIndexes, columns = [\"Efficiency\",\"Study Hours\"])\n",
    "myDataFrame"
   ]
  },
  {
   "cell_type": "code",
   "execution_count": 74,
   "id": "6552cc9d",
   "metadata": {
    "papermill": {
     "duration": 0.041678,
     "end_time": "2024-01-22T14:21:01.770596",
     "exception": false,
     "start_time": "2024-01-22T14:21:01.728918",
     "status": "completed"
    },
    "tags": []
   },
   "outputs": [
    {
     "data": {
      "text/html": [
       "<div>\n",
       "<style scoped>\n",
       "    .dataframe tbody tr th:only-of-type {\n",
       "        vertical-align: middle;\n",
       "    }\n",
       "\n",
       "    .dataframe tbody tr th {\n",
       "        vertical-align: top;\n",
       "    }\n",
       "\n",
       "    .dataframe thead th {\n",
       "        text-align: right;\n",
       "    }\n",
       "</style>\n",
       "<table border=\"1\" class=\"dataframe\">\n",
       "  <thead>\n",
       "    <tr style=\"text-align: right;\">\n",
       "      <th></th>\n",
       "      <th>Efficiency</th>\n",
       "      <th>Study Hours</th>\n",
       "    </tr>\n",
       "  </thead>\n",
       "  <tbody>\n",
       "    <tr>\n",
       "      <th>Math</th>\n",
       "      <td>1.68</td>\n",
       "      <td>6</td>\n",
       "    </tr>\n",
       "    <tr>\n",
       "      <th>Geometry</th>\n",
       "      <td>1.94</td>\n",
       "      <td>5</td>\n",
       "    </tr>\n",
       "    <tr>\n",
       "      <th>Biology</th>\n",
       "      <td>2.7</td>\n",
       "      <td>8</td>\n",
       "    </tr>\n",
       "  </tbody>\n",
       "</table>\n",
       "</div>"
      ],
      "text/plain": [
       "         Efficiency Study Hours\n",
       "Math           1.68           6\n",
       "Geometry       1.94           5\n",
       "Biology         2.7           8"
      ]
     },
     "execution_count": 74,
     "metadata": {},
     "output_type": "execute_result"
    }
   ],
   "source": [
    "myDataFrame.loc[\"A\"]\n",
    "myDataFrame.loc[\"B\"]"
   ]
  },
  {
   "cell_type": "code",
   "execution_count": 76,
   "id": "cc167a44",
   "metadata": {
    "papermill": {
     "duration": 0.038462,
     "end_time": "2024-01-22T14:21:01.835321",
     "exception": false,
     "start_time": "2024-01-22T14:21:01.796859",
     "status": "completed"
    },
    "tags": []
   },
   "outputs": [
    {
     "data": {
      "text/plain": [
       "Efficiency     0.65\n",
       "Study Hours       3\n",
       "Name: Physics, dtype: object"
      ]
     },
     "execution_count": 76,
     "metadata": {},
     "output_type": "execute_result"
    }
   ],
   "source": [
    "myDataFrame.loc[\"A\"].loc[\"Physics\"]"
   ]
  },
  {
   "cell_type": "code",
   "execution_count": 78,
   "id": "a9475692",
   "metadata": {
    "papermill": {
     "duration": 0.042567,
     "end_time": "2024-01-22T14:21:01.904518",
     "exception": false,
     "start_time": "2024-01-22T14:21:01.861951",
     "status": "completed"
    },
    "tags": []
   },
   "outputs": [
    {
     "data": {
      "text/html": [
       "<div>\n",
       "<style scoped>\n",
       "    .dataframe tbody tr th:only-of-type {\n",
       "        vertical-align: middle;\n",
       "    }\n",
       "\n",
       "    .dataframe tbody tr th {\n",
       "        vertical-align: top;\n",
       "    }\n",
       "\n",
       "    .dataframe thead th {\n",
       "        text-align: right;\n",
       "    }\n",
       "</style>\n",
       "<table border=\"1\" class=\"dataframe\">\n",
       "  <thead>\n",
       "    <tr style=\"text-align: right;\">\n",
       "      <th></th>\n",
       "      <th></th>\n",
       "      <th>Efficiency</th>\n",
       "      <th>Study Hours</th>\n",
       "    </tr>\n",
       "    <tr>\n",
       "      <th>Class</th>\n",
       "      <th>Lessons</th>\n",
       "      <th></th>\n",
       "      <th></th>\n",
       "    </tr>\n",
       "  </thead>\n",
       "  <tbody>\n",
       "    <tr>\n",
       "      <th rowspan=\"3\" valign=\"top\">A</th>\n",
       "      <th>Math</th>\n",
       "      <td>1.17</td>\n",
       "      <td>5</td>\n",
       "    </tr>\n",
       "    <tr>\n",
       "      <th>Physics</th>\n",
       "      <td>0.65</td>\n",
       "      <td>3</td>\n",
       "    </tr>\n",
       "    <tr>\n",
       "      <th>Chemistry</th>\n",
       "      <td>0.87</td>\n",
       "      <td>4</td>\n",
       "    </tr>\n",
       "    <tr>\n",
       "      <th rowspan=\"3\" valign=\"top\">B</th>\n",
       "      <th>Math</th>\n",
       "      <td>1.68</td>\n",
       "      <td>6</td>\n",
       "    </tr>\n",
       "    <tr>\n",
       "      <th>Geometry</th>\n",
       "      <td>1.94</td>\n",
       "      <td>5</td>\n",
       "    </tr>\n",
       "    <tr>\n",
       "      <th>Biology</th>\n",
       "      <td>2.7</td>\n",
       "      <td>8</td>\n",
       "    </tr>\n",
       "  </tbody>\n",
       "</table>\n",
       "</div>"
      ],
      "text/plain": [
       "                Efficiency Study Hours\n",
       "Class Lessons                         \n",
       "A     Math            1.17           5\n",
       "      Physics         0.65           3\n",
       "      Chemistry       0.87           4\n",
       "B     Math            1.68           6\n",
       "      Geometry        1.94           5\n",
       "      Biology          2.7           8"
      ]
     },
     "execution_count": 78,
     "metadata": {},
     "output_type": "execute_result"
    }
   ],
   "source": [
    "myDataFrame.index.names = [\"Class\", \"Lessons\"]\n",
    "myDataFrame"
   ]
  },
  {
   "cell_type": "markdown",
   "id": "8779469f",
   "metadata": {
    "papermill": {
     "duration": 0.025542,
     "end_time": "2024-01-22T14:21:01.956406",
     "exception": false,
     "start_time": "2024-01-22T14:21:01.930864",
     "status": "completed"
    },
    "tags": []
   },
   "source": [
    "### MISSING DATA"
   ]
  },
  {
   "cell_type": "code",
   "execution_count": 85,
   "id": "4e7865cb",
   "metadata": {
    "papermill": {
     "duration": 0.045332,
     "end_time": "2024-01-22T14:21:02.027825",
     "exception": false,
     "start_time": "2024-01-22T14:21:01.982493",
     "status": "completed"
    },
    "tags": []
   },
   "outputs": [
    {
     "data": {
      "text/html": [
       "<div>\n",
       "<style scoped>\n",
       "    .dataframe tbody tr th:only-of-type {\n",
       "        vertical-align: middle;\n",
       "    }\n",
       "\n",
       "    .dataframe tbody tr th {\n",
       "        vertical-align: top;\n",
       "    }\n",
       "\n",
       "    .dataframe thead th {\n",
       "        text-align: right;\n",
       "    }\n",
       "</style>\n",
       "<table border=\"1\" class=\"dataframe\">\n",
       "  <thead>\n",
       "    <tr style=\"text-align: right;\">\n",
       "      <th></th>\n",
       "      <th>İstanbul</th>\n",
       "      <th>Ankara</th>\n",
       "      <th>İzmir</th>\n",
       "    </tr>\n",
       "  </thead>\n",
       "  <tbody>\n",
       "    <tr>\n",
       "      <th>0</th>\n",
       "      <td>32.0</td>\n",
       "      <td>11.0</td>\n",
       "      <td>27</td>\n",
       "    </tr>\n",
       "    <tr>\n",
       "      <th>1</th>\n",
       "      <td>37.0</td>\n",
       "      <td>NaN</td>\n",
       "      <td>33</td>\n",
       "    </tr>\n",
       "    <tr>\n",
       "      <th>2</th>\n",
       "      <td>NaN</td>\n",
       "      <td>NaN</td>\n",
       "      <td>34</td>\n",
       "    </tr>\n",
       "  </tbody>\n",
       "</table>\n",
       "</div>"
      ],
      "text/plain": [
       "   İstanbul  Ankara  İzmir\n",
       "0      32.0    11.0     27\n",
       "1      37.0     NaN     33\n",
       "2       NaN     NaN     34"
      ]
     },
     "execution_count": 85,
     "metadata": {},
     "output_type": "execute_result"
    }
   ],
   "source": [
    "myDictionary = {\"İstanbul\" : [32,37,np.nan], \"Ankara\" : [11,np.nan,np.nan],\"İzmir\" : [27,33,34],}\n",
    "weatherDataFrame = pd.DataFrame(myDictionary)\n",
    "weatherDataFrame"
   ]
  },
  {
   "cell_type": "code",
   "execution_count": 91,
   "id": "f1677909",
   "metadata": {
    "papermill": {
     "duration": 0.041895,
     "end_time": "2024-01-22T14:21:02.096337",
     "exception": false,
     "start_time": "2024-01-22T14:21:02.054442",
     "status": "completed"
    },
    "tags": []
   },
   "outputs": [
    {
     "data": {
      "text/html": [
       "<div>\n",
       "<style scoped>\n",
       "    .dataframe tbody tr th:only-of-type {\n",
       "        vertical-align: middle;\n",
       "    }\n",
       "\n",
       "    .dataframe tbody tr th {\n",
       "        vertical-align: top;\n",
       "    }\n",
       "\n",
       "    .dataframe thead th {\n",
       "        text-align: right;\n",
       "    }\n",
       "</style>\n",
       "<table border=\"1\" class=\"dataframe\">\n",
       "  <thead>\n",
       "    <tr style=\"text-align: right;\">\n",
       "      <th></th>\n",
       "      <th>İstanbul</th>\n",
       "      <th>Ankara</th>\n",
       "      <th>İzmir</th>\n",
       "    </tr>\n",
       "  </thead>\n",
       "  <tbody>\n",
       "    <tr>\n",
       "      <th>0</th>\n",
       "      <td>32.0</td>\n",
       "      <td>11.0</td>\n",
       "      <td>27</td>\n",
       "    </tr>\n",
       "  </tbody>\n",
       "</table>\n",
       "</div>"
      ],
      "text/plain": [
       "   İstanbul  Ankara  İzmir\n",
       "0      32.0    11.0     27"
      ]
     },
     "execution_count": 91,
     "metadata": {},
     "output_type": "execute_result"
    }
   ],
   "source": [
    "weatherDataFrame.dropna()\n",
    "# not permanently. This won't modify weatherDataFrame !!!"
   ]
  },
  {
   "cell_type": "code",
   "execution_count": 93,
   "id": "bc8f7513",
   "metadata": {
    "papermill": {
     "duration": 0.040933,
     "end_time": "2024-01-22T14:21:02.163417",
     "exception": false,
     "start_time": "2024-01-22T14:21:02.122484",
     "status": "completed"
    },
    "tags": []
   },
   "outputs": [
    {
     "data": {
      "text/html": [
       "<div>\n",
       "<style scoped>\n",
       "    .dataframe tbody tr th:only-of-type {\n",
       "        vertical-align: middle;\n",
       "    }\n",
       "\n",
       "    .dataframe tbody tr th {\n",
       "        vertical-align: top;\n",
       "    }\n",
       "\n",
       "    .dataframe thead th {\n",
       "        text-align: right;\n",
       "    }\n",
       "</style>\n",
       "<table border=\"1\" class=\"dataframe\">\n",
       "  <thead>\n",
       "    <tr style=\"text-align: right;\">\n",
       "      <th></th>\n",
       "      <th>İzmir</th>\n",
       "    </tr>\n",
       "  </thead>\n",
       "  <tbody>\n",
       "    <tr>\n",
       "      <th>0</th>\n",
       "      <td>27</td>\n",
       "    </tr>\n",
       "    <tr>\n",
       "      <th>1</th>\n",
       "      <td>33</td>\n",
       "    </tr>\n",
       "    <tr>\n",
       "      <th>2</th>\n",
       "      <td>34</td>\n",
       "    </tr>\n",
       "  </tbody>\n",
       "</table>\n",
       "</div>"
      ],
      "text/plain": [
       "   İzmir\n",
       "0     27\n",
       "1     33\n",
       "2     34"
      ]
     },
     "execution_count": 93,
     "metadata": {},
     "output_type": "execute_result"
    }
   ],
   "source": [
    "weatherDataFrame.dropna(axis = 1)"
   ]
  },
  {
   "cell_type": "code",
   "execution_count": 95,
   "id": "5f385b07",
   "metadata": {
    "papermill": {
     "duration": 0.04369,
     "end_time": "2024-01-22T14:21:02.233720",
     "exception": false,
     "start_time": "2024-01-22T14:21:02.190030",
     "status": "completed"
    },
    "tags": []
   },
   "outputs": [
    {
     "data": {
      "text/html": [
       "<div>\n",
       "<style scoped>\n",
       "    .dataframe tbody tr th:only-of-type {\n",
       "        vertical-align: middle;\n",
       "    }\n",
       "\n",
       "    .dataframe tbody tr th {\n",
       "        vertical-align: top;\n",
       "    }\n",
       "\n",
       "    .dataframe thead th {\n",
       "        text-align: right;\n",
       "    }\n",
       "</style>\n",
       "<table border=\"1\" class=\"dataframe\">\n",
       "  <thead>\n",
       "    <tr style=\"text-align: right;\">\n",
       "      <th></th>\n",
       "      <th>İstanbul</th>\n",
       "      <th>İzmir</th>\n",
       "    </tr>\n",
       "  </thead>\n",
       "  <tbody>\n",
       "    <tr>\n",
       "      <th>0</th>\n",
       "      <td>32.0</td>\n",
       "      <td>27</td>\n",
       "    </tr>\n",
       "    <tr>\n",
       "      <th>1</th>\n",
       "      <td>37.0</td>\n",
       "      <td>33</td>\n",
       "    </tr>\n",
       "    <tr>\n",
       "      <th>2</th>\n",
       "      <td>NaN</td>\n",
       "      <td>34</td>\n",
       "    </tr>\n",
       "  </tbody>\n",
       "</table>\n",
       "</div>"
      ],
      "text/plain": [
       "   İstanbul  İzmir\n",
       "0      32.0     27\n",
       "1      37.0     33\n",
       "2       NaN     34"
      ]
     },
     "execution_count": 95,
     "metadata": {},
     "output_type": "execute_result"
    }
   ],
   "source": [
    "# Drops columns with more than one NaN value\n",
    "weatherDataFrame.dropna(axis = 1 , thresh = 2)"
   ]
  },
  {
   "cell_type": "code",
   "execution_count": 99,
   "id": "54cdc476",
   "metadata": {
    "papermill": {
     "duration": 0.044047,
     "end_time": "2024-01-22T14:21:02.304725",
     "exception": false,
     "start_time": "2024-01-22T14:21:02.260678",
     "status": "completed"
    },
    "tags": []
   },
   "outputs": [
    {
     "data": {
      "text/html": [
       "<div>\n",
       "<style scoped>\n",
       "    .dataframe tbody tr th:only-of-type {\n",
       "        vertical-align: middle;\n",
       "    }\n",
       "\n",
       "    .dataframe tbody tr th {\n",
       "        vertical-align: top;\n",
       "    }\n",
       "\n",
       "    .dataframe thead th {\n",
       "        text-align: right;\n",
       "    }\n",
       "</style>\n",
       "<table border=\"1\" class=\"dataframe\">\n",
       "  <thead>\n",
       "    <tr style=\"text-align: right;\">\n",
       "      <th></th>\n",
       "      <th>İstanbul</th>\n",
       "      <th>Ankara</th>\n",
       "      <th>İzmir</th>\n",
       "    </tr>\n",
       "  </thead>\n",
       "  <tbody>\n",
       "    <tr>\n",
       "      <th>0</th>\n",
       "      <td>32.0</td>\n",
       "      <td>11.0</td>\n",
       "      <td>27</td>\n",
       "    </tr>\n",
       "    <tr>\n",
       "      <th>1</th>\n",
       "      <td>37.0</td>\n",
       "      <td>20.0</td>\n",
       "      <td>33</td>\n",
       "    </tr>\n",
       "    <tr>\n",
       "      <th>2</th>\n",
       "      <td>20.0</td>\n",
       "      <td>20.0</td>\n",
       "      <td>34</td>\n",
       "    </tr>\n",
       "  </tbody>\n",
       "</table>\n",
       "</div>"
      ],
      "text/plain": [
       "   İstanbul  Ankara  İzmir\n",
       "0      32.0    11.0     27\n",
       "1      37.0    20.0     33\n",
       "2      20.0    20.0     34"
      ]
     },
     "execution_count": 99,
     "metadata": {},
     "output_type": "execute_result"
    }
   ],
   "source": [
    "# Filling missing values\n",
    "weatherDataFrame.fillna(20)"
   ]
  },
  {
   "cell_type": "markdown",
   "id": "cbb28747",
   "metadata": {
    "papermill": {
     "duration": 0.02722,
     "end_time": "2024-01-22T14:21:02.360453",
     "exception": false,
     "start_time": "2024-01-22T14:21:02.333233",
     "status": "completed"
    },
    "tags": []
   },
   "source": [
    "### GROUP BY"
   ]
  },
  {
   "cell_type": "code",
   "execution_count": 175,
   "id": "fd5c3f53",
   "metadata": {
    "papermill": {
     "duration": 0.045198,
     "end_time": "2024-01-22T14:21:02.432430",
     "exception": false,
     "start_time": "2024-01-22T14:21:02.387232",
     "status": "completed"
    },
    "tags": []
   },
   "outputs": [
    {
     "data": {
      "text/html": [
       "<div>\n",
       "<style scoped>\n",
       "    .dataframe tbody tr th:only-of-type {\n",
       "        vertical-align: middle;\n",
       "    }\n",
       "\n",
       "    .dataframe tbody tr th {\n",
       "        vertical-align: top;\n",
       "    }\n",
       "\n",
       "    .dataframe thead th {\n",
       "        text-align: right;\n",
       "    }\n",
       "</style>\n",
       "<table border=\"1\" class=\"dataframe\">\n",
       "  <thead>\n",
       "    <tr style=\"text-align: right;\">\n",
       "      <th></th>\n",
       "      <th>Departmant</th>\n",
       "      <th>Employee</th>\n",
       "      <th>Salary</th>\n",
       "    </tr>\n",
       "  </thead>\n",
       "  <tbody>\n",
       "    <tr>\n",
       "      <th>0</th>\n",
       "      <td>Marketing</td>\n",
       "      <td>Muhammed</td>\n",
       "      <td>24000</td>\n",
       "    </tr>\n",
       "    <tr>\n",
       "      <th>1</th>\n",
       "      <td>Marketing</td>\n",
       "      <td>Asli</td>\n",
       "      <td>18000</td>\n",
       "    </tr>\n",
       "    <tr>\n",
       "      <th>2</th>\n",
       "      <td>Finance</td>\n",
       "      <td>Burcu</td>\n",
       "      <td>21000</td>\n",
       "    </tr>\n",
       "    <tr>\n",
       "      <th>3</th>\n",
       "      <td>Finance</td>\n",
       "      <td>Deniz</td>\n",
       "      <td>20000</td>\n",
       "    </tr>\n",
       "    <tr>\n",
       "      <th>4</th>\n",
       "      <td>Finance</td>\n",
       "      <td>Kubilay</td>\n",
       "      <td>19000</td>\n",
       "    </tr>\n",
       "    <tr>\n",
       "      <th>5</th>\n",
       "      <td>IT</td>\n",
       "      <td>Huseyin</td>\n",
       "      <td>24000</td>\n",
       "    </tr>\n",
       "    <tr>\n",
       "      <th>6</th>\n",
       "      <td>IT</td>\n",
       "      <td>Duru</td>\n",
       "      <td>22000</td>\n",
       "    </tr>\n",
       "    <tr>\n",
       "      <th>7</th>\n",
       "      <td>IT</td>\n",
       "      <td>Yunus</td>\n",
       "      <td>16000</td>\n",
       "    </tr>\n",
       "    <tr>\n",
       "      <th>8</th>\n",
       "      <td>IT</td>\n",
       "      <td>Ersan</td>\n",
       "      <td>28000</td>\n",
       "    </tr>\n",
       "  </tbody>\n",
       "</table>\n",
       "</div>"
      ],
      "text/plain": [
       "  Departmant  Employee  Salary\n",
       "0  Marketing  Muhammed   24000\n",
       "1  Marketing      Asli   18000\n",
       "2    Finance     Burcu   21000\n",
       "3    Finance     Deniz   20000\n",
       "4    Finance   Kubilay   19000\n",
       "5         IT   Huseyin   24000\n",
       "6         IT      Duru   22000\n",
       "7         IT     Yunus   16000\n",
       "8         IT     Ersan   28000"
      ]
     },
     "execution_count": 175,
     "metadata": {},
     "output_type": "execute_result"
    }
   ],
   "source": [
    "salaryDict = {\"Departmant\" : [\"Marketing\", \"Marketing\", \"Finance\", \"Finance\", \"Finance\",\"IT\", \"IT\", \"IT\", \"IT\"], \n",
    "              \"Employee\" : [\"Muhammed\", \"Asli\", \"Burcu\", \"Deniz\", \"Kubilay\", \"Huseyin\", \"Duru\", \"Yunus\", \"Ersan\"],\n",
    "              \"Salary\" : [24000, 18000, 21000, 20000, 19000, 24000, 22000, 16000, 28000]\n",
    "             }\n",
    "salaryDataFrame = pd.DataFrame(salaryDict)\n",
    "salaryDataFrame"
   ]
  },
  {
   "cell_type": "code",
   "execution_count": 207,
   "id": "03da9a76",
   "metadata": {
    "papermill": {
     "duration": 0.042818,
     "end_time": "2024-01-22T14:21:02.502139",
     "exception": false,
     "start_time": "2024-01-22T14:21:02.459321",
     "status": "completed"
    },
    "tags": []
   },
   "outputs": [
    {
     "data": {
      "text/html": [
       "<div>\n",
       "<style scoped>\n",
       "    .dataframe tbody tr th:only-of-type {\n",
       "        vertical-align: middle;\n",
       "    }\n",
       "\n",
       "    .dataframe tbody tr th {\n",
       "        vertical-align: top;\n",
       "    }\n",
       "\n",
       "    .dataframe thead th {\n",
       "        text-align: right;\n",
       "    }\n",
       "</style>\n",
       "<table border=\"1\" class=\"dataframe\">\n",
       "  <thead>\n",
       "    <tr style=\"text-align: right;\">\n",
       "      <th></th>\n",
       "      <th>Employee</th>\n",
       "      <th>Salary</th>\n",
       "    </tr>\n",
       "    <tr>\n",
       "      <th>Departmant</th>\n",
       "      <th></th>\n",
       "      <th></th>\n",
       "    </tr>\n",
       "  </thead>\n",
       "  <tbody>\n",
       "    <tr>\n",
       "      <th>Finance</th>\n",
       "      <td>3</td>\n",
       "      <td>3</td>\n",
       "    </tr>\n",
       "    <tr>\n",
       "      <th>IT</th>\n",
       "      <td>4</td>\n",
       "      <td>4</td>\n",
       "    </tr>\n",
       "    <tr>\n",
       "      <th>Marketing</th>\n",
       "      <td>2</td>\n",
       "      <td>2</td>\n",
       "    </tr>\n",
       "  </tbody>\n",
       "</table>\n",
       "</div>"
      ],
      "text/plain": [
       "            Employee  Salary\n",
       "Departmant                  \n",
       "Finance            3       3\n",
       "IT                 4       4\n",
       "Marketing          2       2"
      ]
     },
     "execution_count": 207,
     "metadata": {},
     "output_type": "execute_result"
    }
   ],
   "source": [
    "resultData = salaryDataFrame.groupby(\"Departmant\")\n",
    "resultData.count()"
   ]
  },
  {
   "cell_type": "code",
   "execution_count": 205,
   "id": "91eefde9",
   "metadata": {
    "papermill": {
     "duration": 0.047476,
     "end_time": "2024-01-22T14:21:02.577768",
     "exception": false,
     "start_time": "2024-01-22T14:21:02.530292",
     "status": "completed"
    },
    "tags": []
   },
   "outputs": [
    {
     "data": {
      "text/html": [
       "<div>\n",
       "<style scoped>\n",
       "    .dataframe tbody tr th:only-of-type {\n",
       "        vertical-align: middle;\n",
       "    }\n",
       "\n",
       "    .dataframe tbody tr th {\n",
       "        vertical-align: top;\n",
       "    }\n",
       "\n",
       "    .dataframe thead th {\n",
       "        text-align: right;\n",
       "    }\n",
       "</style>\n",
       "<table border=\"1\" class=\"dataframe\">\n",
       "  <thead>\n",
       "    <tr style=\"text-align: right;\">\n",
       "      <th></th>\n",
       "      <th>Departmant</th>\n",
       "      <th>Salary</th>\n",
       "    </tr>\n",
       "  </thead>\n",
       "  <tbody>\n",
       "    <tr>\n",
       "      <th>0</th>\n",
       "      <td>Finance</td>\n",
       "      <td>20000.0</td>\n",
       "    </tr>\n",
       "    <tr>\n",
       "      <th>1</th>\n",
       "      <td>IT</td>\n",
       "      <td>22500.0</td>\n",
       "    </tr>\n",
       "    <tr>\n",
       "      <th>2</th>\n",
       "      <td>Marketing</td>\n",
       "      <td>21000.0</td>\n",
       "    </tr>\n",
       "  </tbody>\n",
       "</table>\n",
       "</div>"
      ],
      "text/plain": [
       "  Departmant   Salary\n",
       "0    Finance  20000.0\n",
       "1         IT  22500.0\n",
       "2  Marketing  21000.0"
      ]
     },
     "execution_count": 205,
     "metadata": {},
     "output_type": "execute_result"
    }
   ],
   "source": [
    "# avg Salary\n",
    "resultData.mean(\"Salary\")"
   ]
  },
  {
   "cell_type": "code",
   "execution_count": 183,
   "id": "104d37f0",
   "metadata": {
    "papermill": {
     "duration": 0.045774,
     "end_time": "2024-01-22T14:21:02.652125",
     "exception": false,
     "start_time": "2024-01-22T14:21:02.606351",
     "status": "completed"
    },
    "tags": []
   },
   "outputs": [
    {
     "data": {
      "text/html": [
       "<div>\n",
       "<style scoped>\n",
       "    .dataframe tbody tr th:only-of-type {\n",
       "        vertical-align: middle;\n",
       "    }\n",
       "\n",
       "    .dataframe tbody tr th {\n",
       "        vertical-align: top;\n",
       "    }\n",
       "\n",
       "    .dataframe thead th {\n",
       "        text-align: right;\n",
       "    }\n",
       "</style>\n",
       "<table border=\"1\" class=\"dataframe\">\n",
       "  <thead>\n",
       "    <tr style=\"text-align: right;\">\n",
       "      <th></th>\n",
       "      <th>Salary</th>\n",
       "    </tr>\n",
       "    <tr>\n",
       "      <th>Departmant</th>\n",
       "      <th></th>\n",
       "    </tr>\n",
       "  </thead>\n",
       "  <tbody>\n",
       "    <tr>\n",
       "      <th>Finance</th>\n",
       "      <td>21000</td>\n",
       "    </tr>\n",
       "    <tr>\n",
       "      <th>IT</th>\n",
       "      <td>28000</td>\n",
       "    </tr>\n",
       "    <tr>\n",
       "      <th>Marketing</th>\n",
       "      <td>24000</td>\n",
       "    </tr>\n",
       "  </tbody>\n",
       "</table>\n",
       "</div>"
      ],
      "text/plain": [
       "            Salary\n",
       "Departmant        \n",
       "Finance      21000\n",
       "IT           28000\n",
       "Marketing    24000"
      ]
     },
     "execution_count": 183,
     "metadata": {},
     "output_type": "execute_result"
    }
   ],
   "source": [
    "# Highest salaries in the department\n",
    "resultData.max(\"Salary\")"
   ]
  },
  {
   "cell_type": "code",
   "execution_count": 191,
   "id": "062549f9",
   "metadata": {
    "papermill": {
     "duration": 0.044742,
     "end_time": "2024-01-22T14:21:02.724681",
     "exception": false,
     "start_time": "2024-01-22T14:21:02.679939",
     "status": "completed"
    },
    "tags": []
   },
   "outputs": [
    {
     "data": {
      "text/html": [
       "<div>\n",
       "<style scoped>\n",
       "    .dataframe tbody tr th:only-of-type {\n",
       "        vertical-align: middle;\n",
       "    }\n",
       "\n",
       "    .dataframe tbody tr th {\n",
       "        vertical-align: top;\n",
       "    }\n",
       "\n",
       "    .dataframe thead th {\n",
       "        text-align: right;\n",
       "    }\n",
       "</style>\n",
       "<table border=\"1\" class=\"dataframe\">\n",
       "  <thead>\n",
       "    <tr style=\"text-align: right;\">\n",
       "      <th></th>\n",
       "      <th>Salary</th>\n",
       "    </tr>\n",
       "    <tr>\n",
       "      <th>Departmant</th>\n",
       "      <th></th>\n",
       "    </tr>\n",
       "  </thead>\n",
       "  <tbody>\n",
       "    <tr>\n",
       "      <th>Finance</th>\n",
       "      <td>19000</td>\n",
       "    </tr>\n",
       "    <tr>\n",
       "      <th>IT</th>\n",
       "      <td>16000</td>\n",
       "    </tr>\n",
       "    <tr>\n",
       "      <th>Marketing</th>\n",
       "      <td>18000</td>\n",
       "    </tr>\n",
       "  </tbody>\n",
       "</table>\n",
       "</div>"
      ],
      "text/plain": [
       "            Salary\n",
       "Departmant        \n",
       "Finance      19000\n",
       "IT           16000\n",
       "Marketing    18000"
      ]
     },
     "execution_count": 191,
     "metadata": {},
     "output_type": "execute_result"
    }
   ],
   "source": [
    "# Lowest salaries in the department\n",
    "resultData.min(\"Salary\")"
   ]
  },
  {
   "cell_type": "code",
   "execution_count": 211,
   "id": "9af6af7a",
   "metadata": {
    "papermill": {
     "duration": 0.071099,
     "end_time": "2024-01-22T14:21:02.823928",
     "exception": false,
     "start_time": "2024-01-22T14:21:02.752829",
     "status": "completed"
    },
    "tags": []
   },
   "outputs": [
    {
     "data": {
      "text/html": [
       "<div>\n",
       "<style scoped>\n",
       "    .dataframe tbody tr th:only-of-type {\n",
       "        vertical-align: middle;\n",
       "    }\n",
       "\n",
       "    .dataframe tbody tr th {\n",
       "        vertical-align: top;\n",
       "    }\n",
       "\n",
       "    .dataframe thead tr th {\n",
       "        text-align: left;\n",
       "    }\n",
       "\n",
       "    .dataframe thead tr:last-of-type th {\n",
       "        text-align: right;\n",
       "    }\n",
       "</style>\n",
       "<table border=\"1\" class=\"dataframe\">\n",
       "  <thead>\n",
       "    <tr>\n",
       "      <th></th>\n",
       "      <th colspan=\"8\" halign=\"left\">Salary</th>\n",
       "    </tr>\n",
       "    <tr>\n",
       "      <th></th>\n",
       "      <th>count</th>\n",
       "      <th>mean</th>\n",
       "      <th>std</th>\n",
       "      <th>min</th>\n",
       "      <th>25%</th>\n",
       "      <th>50%</th>\n",
       "      <th>75%</th>\n",
       "      <th>max</th>\n",
       "    </tr>\n",
       "    <tr>\n",
       "      <th>Departmant</th>\n",
       "      <th></th>\n",
       "      <th></th>\n",
       "      <th></th>\n",
       "      <th></th>\n",
       "      <th></th>\n",
       "      <th></th>\n",
       "      <th></th>\n",
       "      <th></th>\n",
       "    </tr>\n",
       "  </thead>\n",
       "  <tbody>\n",
       "    <tr>\n",
       "      <th>Finance</th>\n",
       "      <td>3.0</td>\n",
       "      <td>20000.0</td>\n",
       "      <td>1000.000000</td>\n",
       "      <td>19000.0</td>\n",
       "      <td>19500.0</td>\n",
       "      <td>20000.0</td>\n",
       "      <td>20500.0</td>\n",
       "      <td>21000.0</td>\n",
       "    </tr>\n",
       "    <tr>\n",
       "      <th>IT</th>\n",
       "      <td>4.0</td>\n",
       "      <td>22500.0</td>\n",
       "      <td>5000.000000</td>\n",
       "      <td>16000.0</td>\n",
       "      <td>20500.0</td>\n",
       "      <td>23000.0</td>\n",
       "      <td>25000.0</td>\n",
       "      <td>28000.0</td>\n",
       "    </tr>\n",
       "    <tr>\n",
       "      <th>Marketing</th>\n",
       "      <td>2.0</td>\n",
       "      <td>21000.0</td>\n",
       "      <td>4242.640687</td>\n",
       "      <td>18000.0</td>\n",
       "      <td>19500.0</td>\n",
       "      <td>21000.0</td>\n",
       "      <td>22500.0</td>\n",
       "      <td>24000.0</td>\n",
       "    </tr>\n",
       "  </tbody>\n",
       "</table>\n",
       "</div>"
      ],
      "text/plain": [
       "           Salary                                                            \\\n",
       "            count     mean          std      min      25%      50%      75%   \n",
       "Departmant                                                                    \n",
       "Finance       3.0  20000.0  1000.000000  19000.0  19500.0  20000.0  20500.0   \n",
       "IT            4.0  22500.0  5000.000000  16000.0  20500.0  23000.0  25000.0   \n",
       "Marketing     2.0  21000.0  4242.640687  18000.0  19500.0  21000.0  22500.0   \n",
       "\n",
       "                     \n",
       "                max  \n",
       "Departmant           \n",
       "Finance     21000.0  \n",
       "IT          28000.0  \n",
       "Marketing   24000.0  "
      ]
     },
     "execution_count": 211,
     "metadata": {},
     "output_type": "execute_result"
    }
   ],
   "source": [
    "resultData.describe()"
   ]
  },
  {
   "cell_type": "markdown",
   "id": "5f66f694",
   "metadata": {
    "papermill": {
     "duration": 0.029197,
     "end_time": "2024-01-22T14:21:02.881717",
     "exception": false,
     "start_time": "2024-01-22T14:21:02.852520",
     "status": "completed"
    },
    "tags": []
   },
   "source": [
    "### concat"
   ]
  },
  {
   "cell_type": "code",
   "execution_count": 227,
   "id": "fbbd3f89",
   "metadata": {
    "papermill": {
     "duration": 0.046177,
     "end_time": "2024-01-22T14:21:02.956270",
     "exception": false,
     "start_time": "2024-01-22T14:21:02.910093",
     "status": "completed"
    },
    "tags": []
   },
   "outputs": [
    {
     "data": {
      "text/html": [
       "<div>\n",
       "<style scoped>\n",
       "    .dataframe tbody tr th:only-of-type {\n",
       "        vertical-align: middle;\n",
       "    }\n",
       "\n",
       "    .dataframe tbody tr th {\n",
       "        vertical-align: top;\n",
       "    }\n",
       "\n",
       "    .dataframe thead th {\n",
       "        text-align: right;\n",
       "    }\n",
       "</style>\n",
       "<table border=\"1\" class=\"dataframe\">\n",
       "  <thead>\n",
       "    <tr style=\"text-align: right;\">\n",
       "      <th></th>\n",
       "      <th>Name</th>\n",
       "      <th>Sport</th>\n",
       "      <th>Calorie</th>\n",
       "    </tr>\n",
       "  </thead>\n",
       "  <tbody>\n",
       "    <tr>\n",
       "      <th>0</th>\n",
       "      <td>Ahmet</td>\n",
       "      <td>Running</td>\n",
       "      <td>168</td>\n",
       "    </tr>\n",
       "    <tr>\n",
       "      <th>1</th>\n",
       "      <td>Beren</td>\n",
       "      <td>Swimming</td>\n",
       "      <td>240</td>\n",
       "    </tr>\n",
       "    <tr>\n",
       "      <th>2</th>\n",
       "      <td>Hüseyin</td>\n",
       "      <td>Swimming</td>\n",
       "      <td>300</td>\n",
       "    </tr>\n",
       "    <tr>\n",
       "      <th>3</th>\n",
       "      <td>Aslı</td>\n",
       "      <td>Basketball</td>\n",
       "      <td>372</td>\n",
       "    </tr>\n",
       "  </tbody>\n",
       "</table>\n",
       "</div>"
      ],
      "text/plain": [
       "      Name       Sport  Calorie\n",
       "0    Ahmet     Running      168\n",
       "1    Beren    Swimming      240\n",
       "2  Hüseyin    Swimming      300\n",
       "3     Aslı  Basketball      372"
      ]
     },
     "execution_count": 227,
     "metadata": {},
     "output_type": "execute_result"
    }
   ],
   "source": [
    "dictionary1 = {\"Name\" : [\"Ahmet\",\"Beren\",\"Hüseyin\",\"Aslı\"],\n",
    "               \"Sport\" : [\"Running\", \"Swimming\", \"Swimming\", \"Basketball\"],\n",
    "               \"Calorie\" : [168,240,300,372]\n",
    "              }\n",
    "dataFrame1 = pd.DataFrame(dictionary1, index=[0,1,2,3])\n",
    "dataFrame1"
   ]
  },
  {
   "cell_type": "code",
   "execution_count": 235,
   "id": "a37be38d",
   "metadata": {
    "papermill": {
     "duration": 0.048833,
     "end_time": "2024-01-22T14:21:03.035442",
     "exception": false,
     "start_time": "2024-01-22T14:21:02.986609",
     "status": "completed"
    },
    "tags": []
   },
   "outputs": [
    {
     "data": {
      "text/html": [
       "<div>\n",
       "<style scoped>\n",
       "    .dataframe tbody tr th:only-of-type {\n",
       "        vertical-align: middle;\n",
       "    }\n",
       "\n",
       "    .dataframe tbody tr th {\n",
       "        vertical-align: top;\n",
       "    }\n",
       "\n",
       "    .dataframe thead th {\n",
       "        text-align: right;\n",
       "    }\n",
       "</style>\n",
       "<table border=\"1\" class=\"dataframe\">\n",
       "  <thead>\n",
       "    <tr style=\"text-align: right;\">\n",
       "      <th></th>\n",
       "      <th>Name</th>\n",
       "      <th>Sport</th>\n",
       "      <th>Calorie</th>\n",
       "    </tr>\n",
       "  </thead>\n",
       "  <tbody>\n",
       "    <tr>\n",
       "      <th>4</th>\n",
       "      <td>Deniz</td>\n",
       "      <td>Swimming</td>\n",
       "      <td>231</td>\n",
       "    </tr>\n",
       "    <tr>\n",
       "      <th>5</th>\n",
       "      <td>Yağmur</td>\n",
       "      <td>Basketball</td>\n",
       "      <td>177</td>\n",
       "    </tr>\n",
       "    <tr>\n",
       "      <th>6</th>\n",
       "      <td>Nehir</td>\n",
       "      <td>Running</td>\n",
       "      <td>436</td>\n",
       "    </tr>\n",
       "    <tr>\n",
       "      <th>7</th>\n",
       "      <td>Dere</td>\n",
       "      <td>Basketball</td>\n",
       "      <td>501</td>\n",
       "    </tr>\n",
       "  </tbody>\n",
       "</table>\n",
       "</div>"
      ],
      "text/plain": [
       "     Name       Sport  Calorie\n",
       "4   Deniz    Swimming      231\n",
       "5  Yağmur  Basketball      177\n",
       "6   Nehir     Running      436\n",
       "7    Dere  Basketball      501"
      ]
     },
     "execution_count": 235,
     "metadata": {},
     "output_type": "execute_result"
    }
   ],
   "source": [
    "dictionary2 = {\"Name\" : [\"Deniz\",\"Yağmur\",\"Nehir\",\"Dere\"],\n",
    "               \"Sport\" : [\"Swimming\", \"Basketball\", \"Running\", \"Basketball\"],\n",
    "               \"Calorie\" : [231,177,436,501]\n",
    "              }\n",
    "dataFrame2 = pd.DataFrame(dictionary2, index = [4,5,6,7])\n",
    "dataFrame2"
   ]
  },
  {
   "cell_type": "code",
   "execution_count": 237,
   "id": "54979c1a",
   "metadata": {
    "papermill": {
     "duration": 0.046961,
     "end_time": "2024-01-22T14:21:03.113062",
     "exception": false,
     "start_time": "2024-01-22T14:21:03.066101",
     "status": "completed"
    },
    "tags": []
   },
   "outputs": [
    {
     "data": {
      "text/html": [
       "<div>\n",
       "<style scoped>\n",
       "    .dataframe tbody tr th:only-of-type {\n",
       "        vertical-align: middle;\n",
       "    }\n",
       "\n",
       "    .dataframe tbody tr th {\n",
       "        vertical-align: top;\n",
       "    }\n",
       "\n",
       "    .dataframe thead th {\n",
       "        text-align: right;\n",
       "    }\n",
       "</style>\n",
       "<table border=\"1\" class=\"dataframe\">\n",
       "  <thead>\n",
       "    <tr style=\"text-align: right;\">\n",
       "      <th></th>\n",
       "      <th>Name</th>\n",
       "      <th>Sport</th>\n",
       "      <th>Calorie</th>\n",
       "    </tr>\n",
       "  </thead>\n",
       "  <tbody>\n",
       "    <tr>\n",
       "      <th>8</th>\n",
       "      <td>Havva</td>\n",
       "      <td>Basketball</td>\n",
       "      <td>433</td>\n",
       "    </tr>\n",
       "    <tr>\n",
       "      <th>9</th>\n",
       "      <td>Büşra</td>\n",
       "      <td>Swimming</td>\n",
       "      <td>322</td>\n",
       "    </tr>\n",
       "    <tr>\n",
       "      <th>10</th>\n",
       "      <td>Dilara</td>\n",
       "      <td>Running</td>\n",
       "      <td>279</td>\n",
       "    </tr>\n",
       "    <tr>\n",
       "      <th>11</th>\n",
       "      <td>Elif</td>\n",
       "      <td>Swimming</td>\n",
       "      <td>198</td>\n",
       "    </tr>\n",
       "  </tbody>\n",
       "</table>\n",
       "</div>"
      ],
      "text/plain": [
       "      Name       Sport  Calorie\n",
       "8    Havva  Basketball      433\n",
       "9    Büşra    Swimming      322\n",
       "10  Dilara     Running      279\n",
       "11    Elif    Swimming      198"
      ]
     },
     "execution_count": 237,
     "metadata": {},
     "output_type": "execute_result"
    }
   ],
   "source": [
    "dictionary3 = {\"Name\" : [\"Havva\",\"Büşra\",\"Dilara\",\"Elif\"],\n",
    "               \"Sport\" : [\"Basketball\", \"Swimming\", \"Running\", \"Swimming\"],\n",
    "               \"Calorie\" : [433,322,279,198]\n",
    "              }\n",
    "dataFrame3 = pd.DataFrame(dictionary3, index = [8,9,10,11])\n",
    "dataFrame3"
   ]
  },
  {
   "cell_type": "code",
   "execution_count": 239,
   "id": "be8ec8f9",
   "metadata": {
    "papermill": {
     "duration": 0.046242,
     "end_time": "2024-01-22T14:21:03.188579",
     "exception": false,
     "start_time": "2024-01-22T14:21:03.142337",
     "status": "completed"
    },
    "tags": []
   },
   "outputs": [
    {
     "data": {
      "text/html": [
       "<div>\n",
       "<style scoped>\n",
       "    .dataframe tbody tr th:only-of-type {\n",
       "        vertical-align: middle;\n",
       "    }\n",
       "\n",
       "    .dataframe tbody tr th {\n",
       "        vertical-align: top;\n",
       "    }\n",
       "\n",
       "    .dataframe thead th {\n",
       "        text-align: right;\n",
       "    }\n",
       "</style>\n",
       "<table border=\"1\" class=\"dataframe\">\n",
       "  <thead>\n",
       "    <tr style=\"text-align: right;\">\n",
       "      <th></th>\n",
       "      <th>Name</th>\n",
       "      <th>Sport</th>\n",
       "      <th>Calorie</th>\n",
       "    </tr>\n",
       "  </thead>\n",
       "  <tbody>\n",
       "    <tr>\n",
       "      <th>0</th>\n",
       "      <td>Ahmet</td>\n",
       "      <td>Running</td>\n",
       "      <td>168</td>\n",
       "    </tr>\n",
       "    <tr>\n",
       "      <th>1</th>\n",
       "      <td>Beren</td>\n",
       "      <td>Swimming</td>\n",
       "      <td>240</td>\n",
       "    </tr>\n",
       "    <tr>\n",
       "      <th>2</th>\n",
       "      <td>Hüseyin</td>\n",
       "      <td>Swimming</td>\n",
       "      <td>300</td>\n",
       "    </tr>\n",
       "    <tr>\n",
       "      <th>3</th>\n",
       "      <td>Aslı</td>\n",
       "      <td>Basketball</td>\n",
       "      <td>372</td>\n",
       "    </tr>\n",
       "    <tr>\n",
       "      <th>4</th>\n",
       "      <td>Deniz</td>\n",
       "      <td>Swimming</td>\n",
       "      <td>231</td>\n",
       "    </tr>\n",
       "    <tr>\n",
       "      <th>5</th>\n",
       "      <td>Yağmur</td>\n",
       "      <td>Basketball</td>\n",
       "      <td>177</td>\n",
       "    </tr>\n",
       "    <tr>\n",
       "      <th>6</th>\n",
       "      <td>Nehir</td>\n",
       "      <td>Running</td>\n",
       "      <td>436</td>\n",
       "    </tr>\n",
       "    <tr>\n",
       "      <th>7</th>\n",
       "      <td>Dere</td>\n",
       "      <td>Basketball</td>\n",
       "      <td>501</td>\n",
       "    </tr>\n",
       "    <tr>\n",
       "      <th>8</th>\n",
       "      <td>Havva</td>\n",
       "      <td>Basketball</td>\n",
       "      <td>433</td>\n",
       "    </tr>\n",
       "    <tr>\n",
       "      <th>9</th>\n",
       "      <td>Büşra</td>\n",
       "      <td>Swimming</td>\n",
       "      <td>322</td>\n",
       "    </tr>\n",
       "    <tr>\n",
       "      <th>10</th>\n",
       "      <td>Dilara</td>\n",
       "      <td>Running</td>\n",
       "      <td>279</td>\n",
       "    </tr>\n",
       "    <tr>\n",
       "      <th>11</th>\n",
       "      <td>Elif</td>\n",
       "      <td>Swimming</td>\n",
       "      <td>198</td>\n",
       "    </tr>\n",
       "  </tbody>\n",
       "</table>\n",
       "</div>"
      ],
      "text/plain": [
       "       Name       Sport  Calorie\n",
       "0     Ahmet     Running      168\n",
       "1     Beren    Swimming      240\n",
       "2   Hüseyin    Swimming      300\n",
       "3      Aslı  Basketball      372\n",
       "4     Deniz    Swimming      231\n",
       "5    Yağmur  Basketball      177\n",
       "6     Nehir     Running      436\n",
       "7      Dere  Basketball      501\n",
       "8     Havva  Basketball      433\n",
       "9     Büşra    Swimming      322\n",
       "10   Dilara     Running      279\n",
       "11     Elif    Swimming      198"
      ]
     },
     "execution_count": 239,
     "metadata": {},
     "output_type": "execute_result"
    }
   ],
   "source": [
    "pd.concat([dataFrame1,dataFrame2,dataFrame3], axis = 0)    # axis = 0'a gerek yok."
   ]
  },
  {
   "cell_type": "markdown",
   "id": "ddf163dd",
   "metadata": {
    "papermill": {
     "duration": 0.030432,
     "end_time": "2024-01-22T14:21:03.249113",
     "exception": false,
     "start_time": "2024-01-22T14:21:03.218681",
     "status": "completed"
    },
    "tags": []
   },
   "source": [
    "### MERGING"
   ]
  },
  {
   "cell_type": "code",
   "execution_count": 242,
   "id": "ffa52968",
   "metadata": {
    "papermill": {
     "duration": 0.046567,
     "end_time": "2024-01-22T14:21:03.325889",
     "exception": false,
     "start_time": "2024-01-22T14:21:03.279322",
     "status": "completed"
    },
    "tags": []
   },
   "outputs": [
    {
     "data": {
      "text/html": [
       "<div>\n",
       "<style scoped>\n",
       "    .dataframe tbody tr th:only-of-type {\n",
       "        vertical-align: middle;\n",
       "    }\n",
       "\n",
       "    .dataframe tbody tr th {\n",
       "        vertical-align: top;\n",
       "    }\n",
       "\n",
       "    .dataframe thead th {\n",
       "        text-align: right;\n",
       "    }\n",
       "</style>\n",
       "<table border=\"1\" class=\"dataframe\">\n",
       "  <thead>\n",
       "    <tr style=\"text-align: right;\">\n",
       "      <th></th>\n",
       "      <th>Name</th>\n",
       "      <th>Sport</th>\n",
       "    </tr>\n",
       "  </thead>\n",
       "  <tbody>\n",
       "    <tr>\n",
       "      <th>0</th>\n",
       "      <td>Havva</td>\n",
       "      <td>Basketball</td>\n",
       "    </tr>\n",
       "    <tr>\n",
       "      <th>1</th>\n",
       "      <td>Büşra</td>\n",
       "      <td>Running</td>\n",
       "    </tr>\n",
       "    <tr>\n",
       "      <th>2</th>\n",
       "      <td>Dilara</td>\n",
       "      <td>Running</td>\n",
       "    </tr>\n",
       "    <tr>\n",
       "      <th>3</th>\n",
       "      <td>Elif</td>\n",
       "      <td>Swimming</td>\n",
       "    </tr>\n",
       "  </tbody>\n",
       "</table>\n",
       "</div>"
      ],
      "text/plain": [
       "     Name       Sport\n",
       "0   Havva  Basketball\n",
       "1   Büşra     Running\n",
       "2  Dilara     Running\n",
       "3    Elif    Swimming"
      ]
     },
     "execution_count": 242,
     "metadata": {},
     "output_type": "execute_result"
    }
   ],
   "source": [
    "mergeDict1 = {\"Name\" : [\"Havva\",\"Büşra\",\"Dilara\",\"Elif\"],\n",
    "             \"Sport\" : [\"Basketball\", \"Running\", \"Running\", \"Swimming\"]\n",
    "            }\n",
    "mergeDataFrame1 = pd.DataFrame(mergeDict1)\n",
    "mergeDataFrame1\n"
   ]
  },
  {
   "cell_type": "code",
   "execution_count": 244,
   "id": "1fd96763",
   "metadata": {
    "papermill": {
     "duration": 0.046014,
     "end_time": "2024-01-22T14:21:03.403317",
     "exception": false,
     "start_time": "2024-01-22T14:21:03.357303",
     "status": "completed"
    },
    "tags": []
   },
   "outputs": [
    {
     "data": {
      "text/html": [
       "<div>\n",
       "<style scoped>\n",
       "    .dataframe tbody tr th:only-of-type {\n",
       "        vertical-align: middle;\n",
       "    }\n",
       "\n",
       "    .dataframe tbody tr th {\n",
       "        vertical-align: top;\n",
       "    }\n",
       "\n",
       "    .dataframe thead th {\n",
       "        text-align: right;\n",
       "    }\n",
       "</style>\n",
       "<table border=\"1\" class=\"dataframe\">\n",
       "  <thead>\n",
       "    <tr style=\"text-align: right;\">\n",
       "      <th></th>\n",
       "      <th>Name</th>\n",
       "      <th>Calorie</th>\n",
       "    </tr>\n",
       "  </thead>\n",
       "  <tbody>\n",
       "    <tr>\n",
       "      <th>0</th>\n",
       "      <td>Havva</td>\n",
       "      <td>100</td>\n",
       "    </tr>\n",
       "    <tr>\n",
       "      <th>1</th>\n",
       "      <td>Büşra</td>\n",
       "      <td>150</td>\n",
       "    </tr>\n",
       "    <tr>\n",
       "      <th>2</th>\n",
       "      <td>Dilara</td>\n",
       "      <td>200</td>\n",
       "    </tr>\n",
       "    <tr>\n",
       "      <th>3</th>\n",
       "      <td>Elif</td>\n",
       "      <td>240</td>\n",
       "    </tr>\n",
       "  </tbody>\n",
       "</table>\n",
       "</div>"
      ],
      "text/plain": [
       "     Name  Calorie\n",
       "0   Havva      100\n",
       "1   Büşra      150\n",
       "2  Dilara      200\n",
       "3    Elif      240"
      ]
     },
     "execution_count": 244,
     "metadata": {},
     "output_type": "execute_result"
    }
   ],
   "source": [
    "mergeDict2 = {\"Name\" : [\"Havva\",\"Büşra\",\"Dilara\",\"Elif\"],\n",
    "             \"Calorie\" : [100,150,200,240]\n",
    "             }\n",
    "mergeDataFrame2 = pd.DataFrame(mergeDict2)\n",
    "mergeDataFrame2"
   ]
  },
  {
   "cell_type": "code",
   "execution_count": 246,
   "id": "10fadfae",
   "metadata": {
    "papermill": {
     "duration": 0.051959,
     "end_time": "2024-01-22T14:21:03.485531",
     "exception": false,
     "start_time": "2024-01-22T14:21:03.433572",
     "status": "completed"
    },
    "tags": []
   },
   "outputs": [
    {
     "data": {
      "text/html": [
       "<div>\n",
       "<style scoped>\n",
       "    .dataframe tbody tr th:only-of-type {\n",
       "        vertical-align: middle;\n",
       "    }\n",
       "\n",
       "    .dataframe tbody tr th {\n",
       "        vertical-align: top;\n",
       "    }\n",
       "\n",
       "    .dataframe thead th {\n",
       "        text-align: right;\n",
       "    }\n",
       "</style>\n",
       "<table border=\"1\" class=\"dataframe\">\n",
       "  <thead>\n",
       "    <tr style=\"text-align: right;\">\n",
       "      <th></th>\n",
       "      <th>Name</th>\n",
       "      <th>Sport</th>\n",
       "      <th>Calorie</th>\n",
       "    </tr>\n",
       "  </thead>\n",
       "  <tbody>\n",
       "    <tr>\n",
       "      <th>0</th>\n",
       "      <td>Havva</td>\n",
       "      <td>Basketball</td>\n",
       "      <td>100</td>\n",
       "    </tr>\n",
       "    <tr>\n",
       "      <th>1</th>\n",
       "      <td>Büşra</td>\n",
       "      <td>Running</td>\n",
       "      <td>150</td>\n",
       "    </tr>\n",
       "    <tr>\n",
       "      <th>2</th>\n",
       "      <td>Dilara</td>\n",
       "      <td>Running</td>\n",
       "      <td>200</td>\n",
       "    </tr>\n",
       "    <tr>\n",
       "      <th>3</th>\n",
       "      <td>Elif</td>\n",
       "      <td>Swimming</td>\n",
       "      <td>240</td>\n",
       "    </tr>\n",
       "  </tbody>\n",
       "</table>\n",
       "</div>"
      ],
      "text/plain": [
       "     Name       Sport  Calorie\n",
       "0   Havva  Basketball      100\n",
       "1   Büşra     Running      150\n",
       "2  Dilara     Running      200\n",
       "3    Elif    Swimming      240"
      ]
     },
     "execution_count": 246,
     "metadata": {},
     "output_type": "execute_result"
    }
   ],
   "source": [
    "pd.merge(mergeDataFrame1, mergeDataFrame2, on='Name')"
   ]
  },
  {
   "cell_type": "markdown",
   "id": "065fcf8e",
   "metadata": {
    "papermill": {
     "duration": 0.029757,
     "end_time": "2024-01-22T14:21:03.546517",
     "exception": false,
     "start_time": "2024-01-22T14:21:03.516760",
     "status": "completed"
    },
    "tags": []
   },
   "source": [
    "### PANDAS İLERİ OPERASYONLAR"
   ]
  },
  {
   "cell_type": "code",
   "execution_count": 280,
   "id": "059218e8",
   "metadata": {
    "papermill": {
     "duration": 0.046129,
     "end_time": "2024-01-22T14:21:03.622847",
     "exception": false,
     "start_time": "2024-01-22T14:21:03.576718",
     "status": "completed"
    },
    "tags": []
   },
   "outputs": [
    {
     "data": {
      "text/html": [
       "<div>\n",
       "<style scoped>\n",
       "    .dataframe tbody tr th:only-of-type {\n",
       "        vertical-align: middle;\n",
       "    }\n",
       "\n",
       "    .dataframe tbody tr th {\n",
       "        vertical-align: top;\n",
       "    }\n",
       "\n",
       "    .dataframe thead th {\n",
       "        text-align: right;\n",
       "    }\n",
       "</style>\n",
       "<table border=\"1\" class=\"dataframe\">\n",
       "  <thead>\n",
       "    <tr style=\"text-align: right;\">\n",
       "      <th></th>\n",
       "      <th>Name</th>\n",
       "      <th>Departmant</th>\n",
       "      <th>Salary</th>\n",
       "    </tr>\n",
       "  </thead>\n",
       "  <tbody>\n",
       "    <tr>\n",
       "      <th>0</th>\n",
       "      <td>Deniz</td>\n",
       "      <td>IT</td>\n",
       "      <td>1850</td>\n",
       "    </tr>\n",
       "    <tr>\n",
       "      <th>1</th>\n",
       "      <td>Yağmur</td>\n",
       "      <td>Finance</td>\n",
       "      <td>2120</td>\n",
       "    </tr>\n",
       "    <tr>\n",
       "      <th>2</th>\n",
       "      <td>Nehir</td>\n",
       "      <td>Marketing</td>\n",
       "      <td>1600</td>\n",
       "    </tr>\n",
       "    <tr>\n",
       "      <th>3</th>\n",
       "      <td>Dere</td>\n",
       "      <td>IT</td>\n",
       "      <td>1450</td>\n",
       "    </tr>\n",
       "  </tbody>\n",
       "</table>\n",
       "</div>"
      ],
      "text/plain": [
       "     Name Departmant  Salary\n",
       "0   Deniz         IT    1850\n",
       "1  Yağmur    Finance    2120\n",
       "2   Nehir  Marketing    1600\n",
       "3    Dere         IT    1450"
      ]
     },
     "execution_count": 280,
     "metadata": {},
     "output_type": "execute_result"
    }
   ],
   "source": [
    "salaryDC = {\"Name\" : [\"Deniz\",\"Yağmur\",\"Nehir\",\"Dere\"],\n",
    "            \"Departmant\" : [\"IT\", \"Finance\", \"Marketing\", \"IT\"],\n",
    "            \"Salary\" : [1850,2120,1600,1450]\n",
    "           }\n",
    "salaryDF = pd.DataFrame(salaryDC)\n",
    "salaryDF"
   ]
  },
  {
   "cell_type": "code",
   "execution_count": 282,
   "id": "2995aeca",
   "metadata": {
    "papermill": {
     "duration": 0.040589,
     "end_time": "2024-01-22T14:21:03.693601",
     "exception": false,
     "start_time": "2024-01-22T14:21:03.653012",
     "status": "completed"
    },
    "tags": []
   },
   "outputs": [
    {
     "data": {
      "text/plain": [
       "array(['IT', 'Finance', 'Marketing'], dtype=object)"
      ]
     },
     "execution_count": 282,
     "metadata": {},
     "output_type": "execute_result"
    }
   ],
   "source": [
    "# unique datas\n",
    "salaryDF[\"Departmant\"].unique()"
   ]
  },
  {
   "cell_type": "code",
   "execution_count": 284,
   "id": "2284d1d8",
   "metadata": {
    "papermill": {
     "duration": 0.041807,
     "end_time": "2024-01-22T14:21:03.767108",
     "exception": false,
     "start_time": "2024-01-22T14:21:03.725301",
     "status": "completed"
    },
    "tags": []
   },
   "outputs": [
    {
     "data": {
      "text/plain": [
       "3"
      ]
     },
     "execution_count": 284,
     "metadata": {},
     "output_type": "execute_result"
    }
   ],
   "source": [
    "# unique count\n",
    "salaryDF[\"Departmant\"].nunique()"
   ]
  },
  {
   "cell_type": "code",
   "execution_count": 286,
   "id": "86517558",
   "metadata": {
    "papermill": {
     "duration": 0.047381,
     "end_time": "2024-01-22T14:21:03.845823",
     "exception": false,
     "start_time": "2024-01-22T14:21:03.798442",
     "status": "completed"
    },
    "tags": []
   },
   "outputs": [
    {
     "data": {
      "text/plain": [
       "Departmant\n",
       "IT           2\n",
       "Finance      1\n",
       "Marketing    1\n",
       "Name: count, dtype: int64"
      ]
     },
     "execution_count": 286,
     "metadata": {},
     "output_type": "execute_result"
    }
   ],
   "source": [
    "# Shows the count of each unique value in the \"Department\" column.\n",
    "salaryDF[\"Departmant\"].value_counts()"
   ]
  },
  {
   "cell_type": "code",
   "execution_count": 292,
   "id": "f80eebb6",
   "metadata": {
    "papermill": {
     "duration": 0.046119,
     "end_time": "2024-01-22T14:21:03.923253",
     "exception": false,
     "start_time": "2024-01-22T14:21:03.877134",
     "status": "completed"
    },
    "tags": []
   },
   "outputs": [
    {
     "data": {
      "text/plain": [
       "0    2257.0\n",
       "1    2586.4\n",
       "2    1952.0\n",
       "3    1769.0\n",
       "Name: Salary, dtype: float64"
      ]
     },
     "execution_count": 292,
     "metadata": {},
     "output_type": "execute_result"
    }
   ],
   "source": [
    "# Implement a function to apply to all data in a column.\n",
    "def totalSalary(salary):\n",
    "    return salary * 1.22\n",
    "\n",
    "salaryDF[\"Salary\"].apply(totalSalary)"
   ]
  },
  {
   "cell_type": "code",
   "execution_count": 294,
   "id": "d1eba542",
   "metadata": {
    "papermill": {
     "duration": 0.04615,
     "end_time": "2024-01-22T14:21:04.000738",
     "exception": false,
     "start_time": "2024-01-22T14:21:03.954588",
     "status": "completed"
    },
    "tags": []
   },
   "outputs": [
    {
     "data": {
      "text/html": [
       "<div>\n",
       "<style scoped>\n",
       "    .dataframe tbody tr th:only-of-type {\n",
       "        vertical-align: middle;\n",
       "    }\n",
       "\n",
       "    .dataframe tbody tr th {\n",
       "        vertical-align: top;\n",
       "    }\n",
       "\n",
       "    .dataframe thead th {\n",
       "        text-align: right;\n",
       "    }\n",
       "</style>\n",
       "<table border=\"1\" class=\"dataframe\">\n",
       "  <thead>\n",
       "    <tr style=\"text-align: right;\">\n",
       "      <th></th>\n",
       "      <th>Name</th>\n",
       "      <th>Departmant</th>\n",
       "      <th>Salary</th>\n",
       "    </tr>\n",
       "  </thead>\n",
       "  <tbody>\n",
       "    <tr>\n",
       "      <th>0</th>\n",
       "      <td>False</td>\n",
       "      <td>False</td>\n",
       "      <td>False</td>\n",
       "    </tr>\n",
       "    <tr>\n",
       "      <th>1</th>\n",
       "      <td>False</td>\n",
       "      <td>False</td>\n",
       "      <td>False</td>\n",
       "    </tr>\n",
       "    <tr>\n",
       "      <th>2</th>\n",
       "      <td>False</td>\n",
       "      <td>False</td>\n",
       "      <td>False</td>\n",
       "    </tr>\n",
       "    <tr>\n",
       "      <th>3</th>\n",
       "      <td>False</td>\n",
       "      <td>False</td>\n",
       "      <td>False</td>\n",
       "    </tr>\n",
       "  </tbody>\n",
       "</table>\n",
       "</div>"
      ],
      "text/plain": [
       "    Name  Departmant  Salary\n",
       "0  False       False   False\n",
       "1  False       False   False\n",
       "2  False       False   False\n",
       "3  False       False   False"
      ]
     },
     "execution_count": 294,
     "metadata": {},
     "output_type": "execute_result"
    }
   ],
   "source": [
    "# find NaN values\n",
    "salaryDF.isnull()"
   ]
  },
  {
   "cell_type": "code",
   "execution_count": 296,
   "id": "55109cb5",
   "metadata": {
    "papermill": {
     "duration": 0.048172,
     "end_time": "2024-01-22T14:21:04.081528",
     "exception": false,
     "start_time": "2024-01-22T14:21:04.033356",
     "status": "completed"
    },
    "tags": []
   },
   "outputs": [
    {
     "data": {
      "text/html": [
       "<div>\n",
       "<style scoped>\n",
       "    .dataframe tbody tr th:only-of-type {\n",
       "        vertical-align: middle;\n",
       "    }\n",
       "\n",
       "    .dataframe tbody tr th {\n",
       "        vertical-align: top;\n",
       "    }\n",
       "\n",
       "    .dataframe thead th {\n",
       "        text-align: right;\n",
       "    }\n",
       "</style>\n",
       "<table border=\"1\" class=\"dataframe\">\n",
       "  <thead>\n",
       "    <tr style=\"text-align: right;\">\n",
       "      <th></th>\n",
       "      <th>Character Class</th>\n",
       "      <th>Character Name</th>\n",
       "      <th>Character Age</th>\n",
       "    </tr>\n",
       "  </thead>\n",
       "  <tbody>\n",
       "    <tr>\n",
       "      <th>0</th>\n",
       "      <td>South Park</td>\n",
       "      <td>Cartman</td>\n",
       "      <td>9</td>\n",
       "    </tr>\n",
       "    <tr>\n",
       "      <th>1</th>\n",
       "      <td>South Park</td>\n",
       "      <td>Kenny</td>\n",
       "      <td>10</td>\n",
       "    </tr>\n",
       "    <tr>\n",
       "      <th>2</th>\n",
       "      <td>Simpson</td>\n",
       "      <td>Homer</td>\n",
       "      <td>23</td>\n",
       "    </tr>\n",
       "    <tr>\n",
       "      <th>3</th>\n",
       "      <td>Simpson</td>\n",
       "      <td>Bart</td>\n",
       "      <td>39</td>\n",
       "    </tr>\n",
       "    <tr>\n",
       "      <th>4</th>\n",
       "      <td>Simpson</td>\n",
       "      <td>Bart</td>\n",
       "      <td>21</td>\n",
       "    </tr>\n",
       "  </tbody>\n",
       "</table>\n",
       "</div>"
      ],
      "text/plain": [
       "  Character Class Character Name  Character Age\n",
       "0      South Park        Cartman              9\n",
       "1      South Park          Kenny             10\n",
       "2         Simpson          Homer             23\n",
       "3         Simpson           Bart             39\n",
       "4         Simpson           Bart             21"
      ]
     },
     "execution_count": 296,
     "metadata": {},
     "output_type": "execute_result"
    }
   ],
   "source": [
    "characterDC = {\"Character Class\" : [\"South Park\",\"South Park\",\"Simpson\",\"Simpson\", \"Simpson\"],\n",
    "               \"Character Name\" : [\"Cartman\", \"Kenny\", \"Homer\", \"Bart\", \"Bart\"],\n",
    "\n",
    "               \"Character Age\" : [9,10,23,39, 21]\n",
    "              }\n",
    "characterDF = pd.DataFrame(characterDC)\n",
    "characterDF"
   ]
  },
  {
   "cell_type": "code",
   "execution_count": 316,
   "id": "c3256c4b",
   "metadata": {
    "papermill": {
     "duration": 0.058421,
     "end_time": "2024-01-22T14:21:04.172396",
     "exception": false,
     "start_time": "2024-01-22T14:21:04.113975",
     "status": "completed"
    },
    "tags": []
   },
   "outputs": [
    {
     "name": "stderr",
     "output_type": "stream",
     "text": [
      "/var/folders/19/5zjc4vz12xd3wjg0c5xnhcpc0000gn/T/ipykernel_27301/3281341075.py:9: FutureWarning: The provided callable <function sum at 0x10a27e8e0> is currently using DataFrameGroupBy.sum. In a future version of pandas, the provided callable will be used directly. To keep current behavior pass the string \"sum\" instead.\n",
      "  characterDF.pivot_table(values = 'Character Age', index = [\"Character Class\", \"Character Name\"] , aggfunc = np.sum)\n"
     ]
    },
    {
     "data": {
      "text/html": [
       "<div>\n",
       "<style scoped>\n",
       "    .dataframe tbody tr th:only-of-type {\n",
       "        vertical-align: middle;\n",
       "    }\n",
       "\n",
       "    .dataframe tbody tr th {\n",
       "        vertical-align: top;\n",
       "    }\n",
       "\n",
       "    .dataframe thead th {\n",
       "        text-align: right;\n",
       "    }\n",
       "</style>\n",
       "<table border=\"1\" class=\"dataframe\">\n",
       "  <thead>\n",
       "    <tr style=\"text-align: right;\">\n",
       "      <th></th>\n",
       "      <th></th>\n",
       "      <th>Character Age</th>\n",
       "    </tr>\n",
       "    <tr>\n",
       "      <th>Character Class</th>\n",
       "      <th>Character Name</th>\n",
       "      <th></th>\n",
       "    </tr>\n",
       "  </thead>\n",
       "  <tbody>\n",
       "    <tr>\n",
       "      <th rowspan=\"2\" valign=\"top\">Simpson</th>\n",
       "      <th>Bart</th>\n",
       "      <td>60</td>\n",
       "    </tr>\n",
       "    <tr>\n",
       "      <th>Homer</th>\n",
       "      <td>23</td>\n",
       "    </tr>\n",
       "    <tr>\n",
       "      <th rowspan=\"2\" valign=\"top\">South Park</th>\n",
       "      <th>Cartman</th>\n",
       "      <td>9</td>\n",
       "    </tr>\n",
       "    <tr>\n",
       "      <th>Kenny</th>\n",
       "      <td>10</td>\n",
       "    </tr>\n",
       "  </tbody>\n",
       "</table>\n",
       "</div>"
      ],
      "text/plain": [
       "                                Character Age\n",
       "Character Class Character Name               \n",
       "Simpson         Bart                       60\n",
       "                Homer                      23\n",
       "South Park      Cartman                     9\n",
       "                Kenny                      10"
      ]
     },
     "execution_count": 316,
     "metadata": {},
     "output_type": "execute_result"
    }
   ],
   "source": [
    "# If there are duplicate values;\n",
    "\n",
    "# TAKE THE AVG: For Bart, (39+21)/2 = 30\n",
    "characterDF.pivot_table(values = 'Character Age', index = [\"Character Class\", \"Character Name\"],)\n",
    "\n",
    "# OR\n",
    "\n",
    "# SUMS THE DUPLICATE DATAS (aggfunc = np.sum)\n",
    "characterDF.pivot_table(values = 'Character Age', index = [\"Character Class\", \"Character Name\"] , aggfunc = np.sum)\n",
    "\n"
   ]
  },
  {
   "cell_type": "markdown",
   "id": "9bb7f3ce",
   "metadata": {
    "papermill": {
     "duration": 0.031394,
     "end_time": "2024-01-22T14:21:04.236104",
     "exception": false,
     "start_time": "2024-01-22T14:21:04.204710",
     "status": "completed"
    },
    "tags": []
   },
   "source": [
    "### READ CSV AND EXCEL FILES"
   ]
  },
  {
   "cell_type": "code",
   "execution_count": 57,
   "id": "d326e34c",
   "metadata": {
    "execution": {
     "iopub.execute_input": "2024-01-22T14:21:04.302237Z",
     "iopub.status.busy": "2024-01-22T14:21:04.301776Z",
     "iopub.status.idle": "2024-01-22T14:21:04.306259Z",
     "shell.execute_reply": "2024-01-22T14:21:04.305007Z"
    },
    "papermill": {
     "duration": 0.040926,
     "end_time": "2024-01-22T14:21:04.308755",
     "exception": false,
     "start_time": "2024-01-22T14:21:04.267829",
     "status": "completed"
    },
    "tags": []
   },
   "outputs": [],
   "source": [
    "# pd.read_excel(\"salary.xlsx\")\n",
    "# pd.read_csv(\"salary.csv\")"
   ]
  },
  {
   "cell_type": "code",
   "execution_count": null,
   "id": "be7d35c0",
   "metadata": {
    "papermill": {
     "duration": 0.033089,
     "end_time": "2024-01-22T14:21:04.374700",
     "exception": false,
     "start_time": "2024-01-22T14:21:04.341611",
     "status": "completed"
    },
    "tags": []
   },
   "outputs": [],
   "source": []
  }
 ],
 "metadata": {
  "kaggle": {
   "accelerator": "none",
   "dataSources": [],
   "isGpuEnabled": false,
   "isInternetEnabled": false,
   "language": "python",
   "sourceType": "notebook"
  },
  "kernelspec": {
   "display_name": "Python [conda env:base] *",
   "language": "python",
   "name": "conda-base-py"
  },
  "language_info": {
   "codemirror_mode": {
    "name": "ipython",
    "version": 3
   },
   "file_extension": ".py",
   "mimetype": "text/x-python",
   "name": "python",
   "nbconvert_exporter": "python",
   "pygments_lexer": "ipython3",
   "version": "3.12.7"
  },
  "papermill": {
   "default_parameters": {},
   "duration": 9.205302,
   "end_time": "2024-01-22T14:21:04.930883",
   "environment_variables": {},
   "exception": null,
   "input_path": "__notebook__.ipynb",
   "output_path": "__notebook__.ipynb",
   "parameters": {},
   "start_time": "2024-01-22T14:20:55.725581",
   "version": "2.4.0"
  }
 },
 "nbformat": 4,
 "nbformat_minor": 5
}
