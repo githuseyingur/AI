{
 "cells": [
  {
   "cell_type": "markdown",
   "id": "b27b8881",
   "metadata": {
    "papermill": {
     "duration": 0.012155,
     "end_time": "2024-01-17T17:08:41.454086",
     "exception": false,
     "start_time": "2024-01-17T17:08:41.441931",
     "status": "completed"
    },
    "tags": []
   },
   "source": [
    "## PYTHON SYNTAX"
   ]
  },
  {
   "cell_type": "code",
   "execution_count": 102,
   "id": "2fba5608",
   "metadata": {
    "papermill": {
     "duration": 0.028585,
     "end_time": "2024-01-17T17:08:41.494575",
     "exception": false,
     "start_time": "2024-01-17T17:08:41.465990",
     "status": "completed"
    },
    "tags": []
   },
   "outputs": [
    {
     "name": "stdout",
     "output_type": "stream",
     "text": [
      "0\n",
      "1\n",
      "2\n",
      "3\n",
      "4\n",
      "5\n",
      "b'Hello'\n",
      "<memory at 0x120fac4c0>\n",
      "b'\\x00\\x00\\x00\\x00'\n",
      "None \n",
      "\n"
     ]
    },
    {
     "data": {
      "text/plain": [
       "bytes"
      ]
     },
     "execution_count": 102,
     "metadata": {},
     "output_type": "execute_result"
    }
   ],
   "source": [
    "# DATA TYPES\n",
    "\n",
    "a = 27\n",
    "b = 27.94\n",
    "c = 'Hüseyin Gür'\n",
    "myComplex = 1j\n",
    "myBool = True\n",
    "myList = [\"apple\", \"banana\", \"cherry\"]\n",
    "myTuple = (\"apple\", \"banana\", \"cherry\")\n",
    "myDict = {\"name\" : \"John\", \"age\" : 36}\n",
    "mySet = {\"apple\", \"banana\", \"cherry\"}\n",
    "myFrozenSet = frozenset({\"apple\", \"banana\", \"cherry\"}) # make it unchangeable set. --> frozenset(set, list, tuple...etc)\n",
    "myRange = range(6,22,3)      # 6,9,12,15,18,21\n",
    "myBytes = b\"Hello\"      # == bytes(b\"Hello\")\n",
    "myBytesNum = bytes(4)     \n",
    "myByteArray = bytearray(5)\n",
    "myMemoryView = memoryview(bytes(5))      # \n",
    "myNoneType = None\n",
    "\n",
    "for n in myRange:\n",
    "  print(n)\n",
    "\n",
    "print(myBytes)\n",
    "print(myMemoryView)\n",
    "print(myBytesNum)\n",
    "print(myNoneType,\"\\n\")\n",
    "\n",
    "\n",
    "type(myBytesNum)"
   ]
  },
  {
   "cell_type": "code",
   "execution_count": 110,
   "id": "1f0aad56",
   "metadata": {
    "papermill": {
     "duration": 0.020683,
     "end_time": "2024-01-17T17:08:41.527379",
     "exception": false,
     "start_time": "2024-01-17T17:08:41.506696",
     "status": "completed"
    },
    "tags": []
   },
   "outputs": [
    {
     "name": "stdout",
     "output_type": "stream",
     "text": [
      "number is: 27 and index is: 7\n",
      "number is: 27 and index is: 7\n"
     ]
    }
   ],
   "source": [
    "number = 27\n",
    "index = 7\n",
    "print(f\"number is: {number} and index is: {index}\")\n",
    "print(\"number is:\",number,\"and index is:\",index)\n",
    "\n"
   ]
  },
  {
   "cell_type": "markdown",
   "id": "95e700ba",
   "metadata": {
    "papermill": {
     "duration": 0.012595,
     "end_time": "2024-01-17T17:08:41.552078",
     "exception": false,
     "start_time": "2024-01-17T17:08:41.539483",
     "status": "completed"
    },
    "tags": []
   },
   "source": [
    "##### NOTE : SHIFT+TAB : documentation about func."
   ]
  },
  {
   "cell_type": "code",
   "execution_count": 94,
   "id": "aba3110d-6630-4d54-9a04-c4fe838313d5",
   "metadata": {},
   "outputs": [
    {
     "name": "stdout",
     "output_type": "stream",
     "text": [
      "Practice and improve your skills with tutorials on \"Machine Learning\"\n",
      "first\tsecond\tthird\n",
      "1\t2\t3\t4\t5\t6\t7\t8\t9\n",
      "Pythonda\n",
      "huseyingur@gmail.com\n",
      "huseyingur@gmail.com\n",
      "C:\\nisan\\masraflar\\toplam_masraf.txt\n"
     ]
    },
    {
     "data": {
      "text/plain": [
       "'a'"
      ]
     },
     "execution_count": 94,
     "metadata": {},
     "output_type": "execute_result"
    }
   ],
   "source": [
    "# Escape Characters\n",
    "print(\"Practice and improve your skills with tutorials on \\\"Machine Learning\\\"\")  # \\  for \"\n",
    "\n",
    "print(\"first\", \"second\", \"third\", sep=\"\\t\")  # \\t  tab\n",
    "print(*\"123456789\", sep=\"\\t\")\n",
    "\n",
    "print(\"Anaconda\\rPython\") # \\r\n",
    "\n",
    "print('huseyin', 'gur', '@','gmail.com', sep='') # no space\n",
    "print('huseyin', '\\bgur', '\\b@','\\bgmail.com')   # no space\n",
    "\n",
    "# Warning (use \\\\ for paths. not \\.)\n",
    "print(\"C:\\\\nisan\\\\masraflar\\\\toplam_masraf.txt\")\n",
    "\n",
    "'\\u0061' # unicodes"
   ]
  },
  {
   "cell_type": "markdown",
   "id": "c1055a8a",
   "metadata": {
    "papermill": {
     "duration": 0.011532,
     "end_time": "2024-01-17T17:08:41.575439",
     "exception": false,
     "start_time": "2024-01-17T17:08:41.563907",
     "status": "completed"
    },
    "tags": []
   },
   "source": [
    "### MATH"
   ]
  },
  {
   "cell_type": "code",
   "execution_count": 136,
   "id": "9a8fd1c6",
   "metadata": {
    "papermill": {
     "duration": 0.021248,
     "end_time": "2024-01-17T17:08:41.608530",
     "exception": false,
     "start_time": "2024-01-17T17:08:41.587282",
     "status": "completed"
    },
    "tags": []
   },
   "outputs": [
    {
     "data": {
      "text/plain": [
       "1"
      ]
     },
     "execution_count": 136,
     "metadata": {},
     "output_type": "execute_result"
    }
   ],
   "source": [
    "num = 5\n",
    "\n",
    "# Exponent\n",
    "num**3\n",
    "pow(num,3)\n",
    "\n",
    "# Mod\n",
    "num%4"
   ]
  },
  {
   "cell_type": "code",
   "execution_count": 142,
   "id": "6c58a296",
   "metadata": {
    "papermill": {
     "duration": 0.020342,
     "end_time": "2024-01-17T17:08:41.641102",
     "exception": false,
     "start_time": "2024-01-17T17:08:41.620760",
     "status": "completed"
    },
    "tags": []
   },
   "outputs": [
    {
     "name": "stdin",
     "output_type": "stream",
     "text": [
      "What is your age?  27\n"
     ]
    },
    {
     "name": "stdout",
     "output_type": "stream",
     "text": [
      "You are 27 years old!\n",
      "\n",
      "<class 'str'>\n",
      "<class 'int'>\n"
     ]
    }
   ],
   "source": [
    "# INPUT\n",
    "\n",
    "age = input(\"What is your age? \")\n",
    "\n",
    "print(\"You are\", age, end=\" years old!\\n\\n\")\n",
    "print(type(age)) # String\n",
    "\n",
    "# TYPE CONVERSION\n",
    "\n",
    "age = int(age)\n",
    "print(type(age)) # int\n"
   ]
  },
  {
   "cell_type": "markdown",
   "id": "0c878c81",
   "metadata": {
    "papermill": {
     "duration": 0.011915,
     "end_time": "2024-01-17T17:08:41.665705",
     "exception": false,
     "start_time": "2024-01-17T17:08:41.653790",
     "status": "completed"
    },
    "tags": []
   },
   "source": [
    "Type Conversion<br>\n",
    "int(age), str(age), float(age), complex(age)\n"
   ]
  },
  {
   "cell_type": "markdown",
   "id": "15bdef4b-225f-436c-ad49-d8050bcefffd",
   "metadata": {},
   "source": [
    "### eval, exec\n",
    "eval: takes a string expression and evaluates it as a Python expression, returning the result."
   ]
  },
  {
   "cell_type": "code",
   "execution_count": 187,
   "id": "5073ab2c-82af-4cb3-8391-c48603193318",
   "metadata": {},
   "outputs": [
    {
     "name": "stdin",
     "output_type": "stream",
     "text": [
      "enter your operation:  (66%5) + (11 * 12 **2) - 4**2\n"
     ]
    },
    {
     "name": "stdout",
     "output_type": "stream",
     "text": [
      "1569\n"
     ]
    }
   ],
   "source": [
    "data = input(\"enter your operation: \")\n",
    "print( eval(data))"
   ]
  },
  {
   "cell_type": "markdown",
   "id": "c51d7cc0-41ef-4b1a-90eb-aae27fc3b967",
   "metadata": {},
   "source": [
    "exec: executes Python code from a string, and can run multiple lines of code."
   ]
  },
  {
   "cell_type": "code",
   "execution_count": 195,
   "id": "621c1708-7931-4f33-ad5f-2c1c6a60d300",
   "metadata": {},
   "outputs": [
    {
     "name": "stdout",
     "output_type": "stream",
     "text": [
      "39\n"
     ]
    }
   ],
   "source": [
    "code = \"\"\"\n",
    "x = 12\n",
    "y = 27\n",
    "print(x + y)\n",
    "\"\"\"\n",
    "exec(code)"
   ]
  },
  {
   "cell_type": "markdown",
   "id": "fdab3ea2",
   "metadata": {
    "papermill": {
     "duration": 0.011706,
     "end_time": "2024-01-17T17:08:41.689479",
     "exception": false,
     "start_time": "2024-01-17T17:08:41.677773",
     "status": "completed"
    },
    "tags": []
   },
   "source": [
    "### STRING OPERATIONS"
   ]
  },
  {
   "cell_type": "code",
   "execution_count": 68,
   "id": "63d9cdc2",
   "metadata": {
    "papermill": {
     "duration": 0.024601,
     "end_time": "2024-01-17T17:08:41.726173",
     "exception": false,
     "start_time": "2024-01-17T17:08:41.701572",
     "status": "completed"
    },
    "tags": []
   },
   "outputs": [
    {
     "name": "stdout",
     "output_type": "stream",
     "text": [
      "n\n",
      "r\n",
      "seyin gür\n",
      "hüs\n",
      "hüseyin g\n",
      "ür\n",
      "sey\n"
     ]
    }
   ],
   "source": [
    "name = 'hüseyin gür'\n",
    "\n",
    "print(name[6])\n",
    "print(name[-1])\n",
    "\n",
    "# SLICING\n",
    "print(name[2:]) # 2.indexten sonrasını al - seyin gür\n",
    "print(name[:3]) # 0'dan 3.index'e kadar al - hüs\n",
    "print(name[:-2]) # 0'dan -2.index'e kadar al - hüseyin g\n",
    "print(name[-2:]) # -2.index'den hepsini al - ür\n",
    "print(name[2:5]) # 2 ile 5 arasını al. (!! SOL DAHİL - SAĞ DAHİL DEĞİL) - sey"
   ]
  },
  {
   "cell_type": "code",
   "execution_count": 70,
   "id": "9249cec4",
   "metadata": {
    "papermill": {
     "duration": 0.023811,
     "end_time": "2024-01-17T17:08:41.826632",
     "exception": false,
     "start_time": "2024-01-17T17:08:41.802821",
     "status": "completed"
    },
    "tags": []
   },
   "outputs": [
    {
     "name": "stdout",
     "output_type": "stream",
     "text": [
      "hsyngr\n",
      "henü\n",
      "üy\n"
     ]
    }
   ],
   "source": [
    "# STEP SIZE\n",
    "\n",
    "print(name[::2]) # Step Size : 2 - hsyngr\n",
    "print(name[::3]) # Step Size : 3 - henü\n",
    "print(name[1:6:3]) # Step Size : 3 : between 1-6 - üy"
   ]
  },
  {
   "cell_type": "code",
   "execution_count": 172,
   "id": "035e8289",
   "metadata": {
    "papermill": {
     "duration": 0.023764,
     "end_time": "2024-01-17T17:08:41.862897",
     "exception": false,
     "start_time": "2024-01-17T17:08:41.839133",
     "status": "completed"
    },
    "tags": []
   },
   "outputs": [
    {
     "name": "stdout",
     "output_type": "stream",
     "text": [
      "Hüseyin gür\n",
      "['HÜSEYIN', 'GÜR']\n",
      "<class 'list'>\n"
     ]
    },
    {
     "data": {
      "text/plain": [
       "False"
      ]
     },
     "execution_count": 172,
     "metadata": {},
     "output_type": "execute_result"
    }
   ],
   "source": [
    "# STRING METHODLARI\n",
    "\n",
    "print(name.capitalize())\n",
    "print(name.split())\n",
    "print(type(name.split()))\n",
    "\n",
    "name = name.upper()\n",
    "name = name.lower()\n",
    "\n",
    "name.isupper()"
   ]
  },
  {
   "cell_type": "markdown",
   "id": "ca43e252",
   "metadata": {
    "papermill": {
     "duration": 0.012579,
     "end_time": "2024-01-17T17:08:41.888252",
     "exception": false,
     "start_time": "2024-01-17T17:08:41.875673",
     "status": "completed"
    },
    "tags": []
   },
   "source": [
    "### LIST"
   ]
  },
  {
   "cell_type": "code",
   "execution_count": 74,
   "id": "cd799c2b",
   "metadata": {
    "papermill": {
     "duration": 0.028021,
     "end_time": "2024-01-17T17:08:41.929026",
     "exception": false,
     "start_time": "2024-01-17T17:08:41.901005",
     "status": "completed"
    },
    "tags": []
   },
   "outputs": [
    {
     "name": "stdout",
     "output_type": "stream",
     "text": [
      "['huseyin', 'muhammed', 'mesut', 'fatih']\n",
      "list length: 4\n",
      "sum of list elements: 25\n",
      "['huseyin', 'muhammed', 'mesut', 'fatih', 'deniz']\n",
      "['huseyin', 'muhammed', 'mesut', 'fatih']\n",
      "['huseyin', 'muhammed', 'fatih']\n",
      "count of 'huseyin': 1\n",
      "['huseyin', 'muhammed', 'fatih', 'buğra', 'serdar']\n",
      "['serdar', 'buğra', 'fatih', 'muhammed', 'huseyin']\n"
     ]
    },
    {
     "data": {
      "text/plain": [
       "['serdar',\n",
       " 'buğra',\n",
       " 'fatih',\n",
       " 'muhammed',\n",
       " 'huseyin',\n",
       " 'serdar',\n",
       " 'buğra',\n",
       " 'fatih',\n",
       " 'muhammed',\n",
       " 'huseyin']"
      ]
     },
     "execution_count": 74,
     "metadata": {},
     "output_type": "execute_result"
    }
   ],
   "source": [
    "my_list = ['huseyin','muhammed','mesut','mustafa']\n",
    "my_list[3] = 'fatih' # changeable\n",
    "print(my_list)\n",
    "\n",
    "# len\n",
    "print(\"list length:\",len(my_list))\n",
    "\n",
    "number_list = [1,3,5,7,9]\n",
    "print(\"sum of list elements:\",sum(number_list))\n",
    "\n",
    "my_list.append('deniz')\n",
    "print(my_list)\n",
    "\n",
    "my_list.pop()\n",
    "print(my_list)\n",
    "\n",
    "my_list.remove('mesut')\n",
    "print(my_list)\n",
    "\n",
    "# count of an element\n",
    "print(\"count of 'huseyin':\",my_list.count('huseyin'))\n",
    "\n",
    "# merge two list\n",
    "other_list = ['buğra', 'serdar']\n",
    "my_list = my_list + other_list\n",
    "print(my_list)\n",
    "\n",
    "\n",
    "my_list.reverse() # reverse\n",
    "print(my_list)\n",
    "\n",
    "my_list * 2 # listeyi 2 kere yazdır"
   ]
  },
  {
   "cell_type": "code",
   "execution_count": 211,
   "id": "70f3eac1",
   "metadata": {
    "papermill": {
     "duration": 0.023601,
     "end_time": "2024-01-17T17:08:41.965316",
     "exception": false,
     "start_time": "2024-01-17T17:08:41.941715",
     "status": "completed"
    },
    "tags": []
   },
   "outputs": [
    {
     "name": "stdout",
     "output_type": "stream",
     "text": [
      "İstanbul\n"
     ]
    },
    {
     "data": {
      "text/plain": [
       "['hüseyin', 'gür', ['İstanbul', 'Beşiktaş', 68, 8]]"
      ]
     },
     "execution_count": 211,
     "metadata": {},
     "output_type": "execute_result"
    }
   ],
   "source": [
    "# NESTED LISTs\n",
    "\n",
    "nestedList = [27,94,'hüseyin','gür',['İstanbul','Beşiktaş',68,8]]\n",
    "print(nestedList[4][0])\n",
    "nestedList[2:5] # ['hüseyin', 'gür', ['İstanbul', 'Beşiktaş', 68, 8]] --> "
   ]
  },
  {
   "cell_type": "code",
   "execution_count": 281,
   "id": "b3af6cf0",
   "metadata": {
    "papermill": {
     "duration": 0.024803,
     "end_time": "2024-01-17T17:08:42.002844",
     "exception": false,
     "start_time": "2024-01-17T17:08:41.978041",
     "status": "completed"
    },
    "tags": []
   },
   "outputs": [
    {
     "name": "stdout",
     "output_type": "stream",
     "text": [
      "['h', 'ü', 's', 'e', 'y', 'i', 'n']\n",
      "[0, 1, 4, 9, 16, 25, 36, 49, 64, 81, 100]\n",
      "0 : 0\n",
      "1 : 1\n",
      "2 : 4\n",
      "3 : 9\n",
      "4 : 16\n",
      "5 : 25\n",
      "6 : 36\n",
      "7 : 49\n",
      "8 : 64\n",
      "9 : 81\n",
      "10 : 100\n"
     ]
    }
   ],
   "source": [
    "\n",
    "firstName = 'hüseyin'\n",
    "\n",
    "nameLetterList = [element for element in firstName]\n",
    "print(nameLetterList)     \n",
    "# ['h', 'ü', 's', 'e', 'y', 'i', 'n']\n",
    "\n",
    "# list : exponent of 0\n",
    "secondList = [element**2 for element in range(0,11)]\n",
    "print(secondList)\n",
    "\n",
    "for element in range(0,11):\n",
    "    print(element,\":\",element**2)"
   ]
  },
  {
   "cell_type": "markdown",
   "id": "ec27caa0",
   "metadata": {
    "papermill": {
     "duration": 0.012836,
     "end_time": "2024-01-17T17:08:42.028831",
     "exception": false,
     "start_time": "2024-01-17T17:08:42.015995",
     "status": "completed"
    },
    "tags": []
   },
   "source": [
    "### DICTIONARY"
   ]
  },
  {
   "cell_type": "code",
   "execution_count": 283,
   "id": "cfaf8897",
   "metadata": {
    "papermill": {
     "duration": 0.024934,
     "end_time": "2024-01-17T17:08:42.066852",
     "exception": false,
     "start_time": "2024-01-17T17:08:42.041918",
     "status": "completed"
    },
    "tags": []
   },
   "outputs": [
    {
     "data": {
      "text/plain": [
       "dict_values([['hüseyin', 'gür'], 29, {'şehir': 'Konya', 'no': 68, 'kapı no': 8}])"
      ]
     },
     "execution_count": 283,
     "metadata": {},
     "output_type": "execute_result"
    }
   ],
   "source": [
    "my_dictionary = {'isim' : 'hüseyin', 'soyisim' : 'gür', 'yaş' : 29 }\n",
    "my_dictionary['isim']\n",
    "my_dictionary['yaş'] = 30 # value is changable by index\n",
    "\n",
    "# a dictionary can contain other dictionaries and lists.\n",
    "my_dictionary = {'isim' : ['hüseyin','gür'], 'yaş' : 29, 'adres': {'şehir':'Konya', 'no':68, 'kapı no':8}}\n",
    "my_dictionary.keys()     # dict_keys(['isim', 'yaş', 'adres'])\n",
    "my_dictionary.values()   # dict_values([['hüseyin', 'gür'], 29, {'şehir': 'Konya', 'no': 68, 'kapı no': 8}])"
   ]
  },
  {
   "cell_type": "markdown",
   "id": "bc088c69",
   "metadata": {
    "papermill": {
     "duration": 0.012911,
     "end_time": "2024-01-17T17:08:42.092728",
     "exception": false,
     "start_time": "2024-01-17T17:08:42.079817",
     "status": "completed"
    },
    "tags": []
   },
   "source": [
    "### SET"
   ]
  },
  {
   "cell_type": "code",
   "execution_count": 321,
   "id": "08773db2",
   "metadata": {
    "papermill": {
     "duration": 0.024791,
     "end_time": "2024-01-17T17:08:42.130789",
     "exception": false,
     "start_time": "2024-01-17T17:08:42.105998",
     "status": "completed"
    },
    "tags": []
   },
   "outputs": [
    {
     "name": "stdout",
     "output_type": "stream",
     "text": [
      "{9, 2, 4, 7}\n",
      "<class 'set'>\n"
     ]
    },
    {
     "data": {
      "text/plain": [
       "{1, 2, 3}"
      ]
     },
     "execution_count": 321,
     "metadata": {},
     "output_type": "execute_result"
    }
   ],
   "source": [
    "# SET does not contain duplicate elements.\n",
    "\n",
    "# LIST TO SET\n",
    "test_list = [2,4,7,2,4,9]\n",
    "\n",
    "myset = set(test_list)\n",
    "print(myset) # {2, 4, 7, 9}\n",
    "print(type(myset))\n",
    "\n",
    "# SET DESCRIPTION\n",
    "my_set = {1,2,3}\n",
    "my_set # {1, 2, 3}"
   ]
  },
  {
   "cell_type": "code",
   "execution_count": 323,
   "id": "6f5526f7",
   "metadata": {
    "papermill": {
     "duration": 0.024718,
     "end_time": "2024-01-17T17:08:42.168770",
     "exception": false,
     "start_time": "2024-01-17T17:08:42.144052",
     "status": "completed"
    },
    "tags": []
   },
   "outputs": [],
   "source": [
    "\n",
    "empty_set = set()\n"
   ]
  },
  {
   "cell_type": "code",
   "execution_count": 325,
   "id": "b9894be1-828f-4172-b131-4a4ca216cd86",
   "metadata": {},
   "outputs": [
    {
     "data": {
      "text/plain": [
       "{27}"
      ]
     },
     "execution_count": 325,
     "metadata": {},
     "output_type": "execute_result"
    }
   ],
   "source": [
    "# BOŞ TANIMLAMA\n",
    "\n",
    "empty_list = []\n",
    "empty_dict = {}\n",
    "\n",
    "# SET EKLEME\n",
    "empty_set.add(27)\n",
    "empty_set"
   ]
  },
  {
   "cell_type": "markdown",
   "id": "509ad176",
   "metadata": {
    "papermill": {
     "duration": 0.014889,
     "end_time": "2024-01-17T17:08:42.197602",
     "exception": false,
     "start_time": "2024-01-17T17:08:42.182713",
     "status": "completed"
    },
    "tags": []
   },
   "source": [
    "### TUPLE"
   ]
  },
  {
   "cell_type": "code",
   "execution_count": 339,
   "id": "73a919dd",
   "metadata": {
    "papermill": {
     "duration": 0.023516,
     "end_time": "2024-01-17T17:08:42.235807",
     "exception": false,
     "start_time": "2024-01-17T17:08:42.212291",
     "status": "completed"
    },
    "tags": []
   },
   "outputs": [
    {
     "data": {
      "text/plain": [
       "4"
      ]
     },
     "execution_count": 339,
     "metadata": {},
     "output_type": "execute_result"
    }
   ],
   "source": [
    "# TUPLE is an immutable, ordered collection of elements.\n",
    "my_tuple = (1,2,'hüseyin',27, 94.21)\n",
    "my_tuple[4]\n",
    "# my_tuple[4] = 1 # ERROR : immutable - değiştirilemez!\n",
    "my_tuple.count(1) # 1\n",
    "my_tuple.index(94.21) # 4"
   ]
  },
  {
   "cell_type": "markdown",
   "id": "20779142",
   "metadata": {
    "papermill": {
     "duration": 0.013701,
     "end_time": "2024-01-17T17:08:42.263686",
     "exception": false,
     "start_time": "2024-01-17T17:08:42.249985",
     "status": "completed"
    },
    "tags": []
   },
   "source": [
    "### BOOL"
   ]
  },
  {
   "cell_type": "code",
   "execution_count": 344,
   "id": "1414a489",
   "metadata": {
    "papermill": {
     "duration": 0.023081,
     "end_time": "2024-01-17T17:08:42.300530",
     "exception": false,
     "start_time": "2024-01-17T17:08:42.277449",
     "status": "completed"
    },
    "tags": []
   },
   "outputs": [
    {
     "data": {
      "text/plain": [
       "False"
      ]
     },
     "execution_count": 344,
     "metadata": {},
     "output_type": "execute_result"
    }
   ],
   "source": [
    "my_bool = True\n",
    "2>5"
   ]
  },
  {
   "cell_type": "markdown",
   "id": "b0ce6a75",
   "metadata": {
    "papermill": {
     "duration": 0.013307,
     "end_time": "2024-01-17T17:08:42.327468",
     "exception": false,
     "start_time": "2024-01-17T17:08:42.314161",
     "status": "completed"
    },
    "tags": []
   },
   "source": [
    "### IF - ELSE"
   ]
  },
  {
   "cell_type": "code",
   "execution_count": 346,
   "id": "e64292c9",
   "metadata": {
    "papermill": {
     "duration": 0.023729,
     "end_time": "2024-01-17T17:08:42.365534",
     "exception": false,
     "start_time": "2024-01-17T17:08:42.341805",
     "status": "completed"
    },
    "tags": []
   },
   "outputs": [
    {
     "name": "stdout",
     "output_type": "stream",
     "text": [
      "x is smaller than 9\n"
     ]
    }
   ],
   "source": [
    "x = -2\n",
    "\n",
    "if x>9 and x%2==0:\n",
    "    print('x is bigger than 9 and even.')\n",
    "elif x>9 and x%2!=0:\n",
    "    print('x is bigger than 9 and odd.')\n",
    "else:\n",
    "    print('x is smaller than 9')"
   ]
  },
  {
   "cell_type": "markdown",
   "id": "6da0c343",
   "metadata": {
    "papermill": {
     "duration": 0.013344,
     "end_time": "2024-01-17T17:08:42.392767",
     "exception": false,
     "start_time": "2024-01-17T17:08:42.379423",
     "status": "completed"
    },
    "tags": []
   },
   "source": [
    "### FOR - WHILE"
   ]
  },
  {
   "cell_type": "code",
   "execution_count": 357,
   "id": "b8acf663",
   "metadata": {
    "papermill": {
     "duration": 0.026146,
     "end_time": "2024-01-17T17:08:42.433911",
     "exception": false,
     "start_time": "2024-01-17T17:08:42.407765",
     "status": "completed"
    },
    "tags": []
   },
   "outputs": [
    {
     "name": "stdout",
     "output_type": "stream",
     "text": [
      "ü\n",
      "1 2 3\n",
      "4 5 6\n",
      "7 8 9\n",
      "8\n",
      "9\n",
      "10\n",
      "[(1, 2, 3), (4, 5, 6)]\n",
      "[(1, 2, 3)]\n",
      "[]\n",
      "(1,2,3) is deleted.\n"
     ]
    }
   ],
   "source": [
    "str = 'Hüseyin Gür'\n",
    "\n",
    "for element in str:\n",
    "    if element == 'ü':\n",
    "        print(element)\n",
    "        break\n",
    "\n",
    "x_list = [(1,2,3), (4,5,6), (7,8,9)]\n",
    "\n",
    "for (x,y,z) in x_list:\n",
    "    print(x,y,z)\n",
    "    \n",
    "while x<10:\n",
    "    x+=1\n",
    "    print(x)\n",
    "\n",
    "while (1,2,3) in x_list:\n",
    "    x_list.pop()\n",
    "    print(x_list)\n",
    "    \n",
    "print('(1,2,3) is deleted.')"
   ]
  },
  {
   "cell_type": "markdown",
   "id": "60b3a07e",
   "metadata": {
    "papermill": {
     "duration": 0.013699,
     "end_time": "2024-01-17T17:08:42.461397",
     "exception": false,
     "start_time": "2024-01-17T17:08:42.447698",
     "status": "completed"
    },
    "tags": []
   },
   "source": [
    "# IMPORTANT METHODS FOR DATA SCIENCE"
   ]
  },
  {
   "cell_type": "code",
   "execution_count": 115,
   "id": "ba18b0d0",
   "metadata": {
    "papermill": {
     "duration": 0.024605,
     "end_time": "2024-01-17T17:08:42.500510",
     "exception": false,
     "start_time": "2024-01-17T17:08:42.475905",
     "status": "completed"
    },
    "tags": []
   },
   "outputs": [
    {
     "data": {
      "text/plain": [
       "[6, 9, 12, 15, 18, 21]"
      ]
     },
     "execution_count": 115,
     "metadata": {},
     "output_type": "execute_result"
    }
   ],
   "source": [
    "# range\n",
    "\n",
    "range(15) # [0, 1, 2, 3, 4, 5, 6, 7, 8, 9, 10, 11, 12, 13, 14]\n",
    "\n",
    "list(range(6,22,3))  # [6, 9, 12, 15, 18, 21]"
   ]
  },
  {
   "cell_type": "code",
   "execution_count": 25,
   "id": "0b87334d",
   "metadata": {
    "papermill": {
     "duration": 0.02426,
     "end_time": "2024-01-17T17:08:42.538809",
     "exception": false,
     "start_time": "2024-01-17T17:08:42.514549",
     "status": "completed"
    },
    "tags": []
   },
   "outputs": [
    {
     "name": "stdout",
     "output_type": "stream",
     "text": [
      "(0, 7)\n",
      "(1, 8)\n",
      "(2, 9)\n",
      "(3, 10)\n",
      "(4, 11)\n",
      "(5, 12)\n",
      "(6, 13)\n",
      "(7, 14)\n",
      "7\n",
      "8\n",
      "9\n",
      "10\n",
      "11\n",
      "12\n",
      "13\n",
      "14\n"
     ]
    }
   ],
   "source": [
    "# enumerate\n",
    "\n",
    "for element in enumerate(list(range(7,15))):\n",
    "    print(element)\n",
    "\n",
    "#(0, 7)\n",
    "#(1, 8)\n",
    "#(2, 9)\n",
    "#(3, 10)\n",
    "#(4, 11)\n",
    "#(5, 12)\n",
    "#(6, 13)\n",
    "#(7, 14)\n",
    "\n",
    "for (index,number) in enumerate(list(range(7,15))):\n",
    "    print(number)    "
   ]
  },
  {
   "cell_type": "code",
   "execution_count": 119,
   "id": "5ac73ce1",
   "metadata": {
    "papermill": {
     "duration": 0.025858,
     "end_time": "2024-01-17T17:08:42.579407",
     "exception": false,
     "start_time": "2024-01-17T17:08:42.553549",
     "status": "completed"
    },
    "tags": []
   },
   "outputs": [
    {
     "data": {
      "text/plain": [
       "[4, 7, 5, 2, 1, 0, 8, 6, 3]"
      ]
     },
     "execution_count": 119,
     "metadata": {},
     "output_type": "execute_result"
    }
   ],
   "source": [
    "# random\n",
    "\n",
    "from random import randint\n",
    "randint (0,100)\n",
    "\n",
    "my_list = list(range(0,9))\n",
    "my_list[randint(0,8)]\n",
    "\n",
    "from random import shuffle  # listeleri rastgele karıştırır.\n",
    "shuffle(my_list)\n",
    "my_list  # [6, 5, 2, 4, 7, 0, 8, 1, 3]"
   ]
  },
  {
   "cell_type": "code",
   "execution_count": 125,
   "id": "c4f1c020",
   "metadata": {
    "papermill": {
     "duration": 0.025741,
     "end_time": "2024-01-17T17:08:42.619455",
     "exception": false,
     "start_time": "2024-01-17T17:08:42.593714",
     "status": "completed"
    },
    "tags": []
   },
   "outputs": [
    {
     "data": {
      "text/plain": [
       "[('banana', 218, 'Monday'),\n",
       " ('orange', 142, 'Tuesday'),\n",
       " ('apple', 48, 'Wednesday')]"
      ]
     },
     "execution_count": 125,
     "metadata": {},
     "output_type": "execute_result"
    }
   ],
   "source": [
    "# zip\n",
    "# 3 list = 1 tuple\n",
    "foodList = ['banana', 'orange', 'apple']\n",
    "calorieList = [218,142,48]\n",
    "dayList = ['Monday','Tuesday','Wednesday']\n",
    "\n",
    "list(zip(foodList, calorieList, dayList))\n",
    "\n",
    "#[('banana', 218, 'Monday'),\n",
    "#('orange', 142, 'Tuesday'),\n",
    "#('apple', 48, 'Wednesday')]     tuple oluşturur!"
   ]
  },
  {
   "cell_type": "markdown",
   "id": "29f4a6f2",
   "metadata": {
    "papermill": {
     "duration": 0.014204,
     "end_time": "2024-01-17T17:08:42.648023",
     "exception": false,
     "start_time": "2024-01-17T17:08:42.633819",
     "status": "completed"
    },
    "tags": []
   },
   "source": [
    "## FUNCTIONS"
   ]
  },
  {
   "cell_type": "code",
   "execution_count": 127,
   "id": "c401249f",
   "metadata": {
    "papermill": {
     "duration": 0.022956,
     "end_time": "2024-01-17T17:08:42.685741",
     "exception": false,
     "start_time": "2024-01-17T17:08:42.662785",
     "status": "completed"
    },
    "tags": []
   },
   "outputs": [],
   "source": [
    "def helloPlace(place = 'World'): # place'e değer verilmezse World yaz.\n",
    "    print('Hello ' + place)"
   ]
  },
  {
   "cell_type": "code",
   "execution_count": 139,
   "id": "e40a7f52",
   "metadata": {
    "papermill": {
     "duration": 0.024355,
     "end_time": "2024-01-17T17:08:42.724396",
     "exception": false,
     "start_time": "2024-01-17T17:08:42.700041",
     "status": "completed"
    },
    "tags": []
   },
   "outputs": [
    {
     "name": "stdout",
     "output_type": "stream",
     "text": [
      "Hello World\n",
      "Hello Antarktica\n"
     ]
    }
   ],
   "source": [
    "helloPlace() # Hello World\n",
    "helloPlace('Antarktica') # Hello Turkey"
   ]
  },
  {
   "cell_type": "code",
   "execution_count": 141,
   "id": "60bde078",
   "metadata": {
    "papermill": {
     "duration": 0.023402,
     "end_time": "2024-01-17T17:08:42.762549",
     "exception": false,
     "start_time": "2024-01-17T17:08:42.739147",
     "status": "completed"
    },
    "tags": []
   },
   "outputs": [],
   "source": [
    "# with return\n",
    "\n",
    "def sumNumbers(firstNum, secondNum):\n",
    "    return firstNum+secondNum"
   ]
  },
  {
   "cell_type": "code",
   "execution_count": 143,
   "id": "d064c005",
   "metadata": {
    "papermill": {
     "duration": 0.024465,
     "end_time": "2024-01-17T17:08:42.801334",
     "exception": false,
     "start_time": "2024-01-17T17:08:42.776869",
     "status": "completed"
    },
    "tags": []
   },
   "outputs": [
    {
     "data": {
      "text/plain": [
       "44"
      ]
     },
     "execution_count": 143,
     "metadata": {},
     "output_type": "execute_result"
    }
   ],
   "source": [
    "sumNumbers(17,27)"
   ]
  },
  {
   "cell_type": "code",
   "execution_count": 160,
   "id": "06275463",
   "metadata": {
    "papermill": {
     "duration": 0.026586,
     "end_time": "2024-01-17T17:08:42.842421",
     "exception": false,
     "start_time": "2024-01-17T17:08:42.815835",
     "status": "completed"
    },
    "tags": []
   },
   "outputs": [
    {
     "name": "stdout",
     "output_type": "stream",
     "text": [
      "{'banana': 249, 'apple': 44, 'orange': 156}\n",
      "{'t': 1, 'k': 2, 'm': 24}\n"
     ]
    }
   ],
   "source": [
    "# args & kwargs\n",
    "\n",
    "def newSum(*args):         # sınırsız parametre (argüman)\n",
    "    return sum(args)\n",
    "\n",
    "newSum(27,81,48,12,99,11,94,101,112,45,36,88)\n",
    "\n",
    "type(newSum(27,81,48,12,99))  # int\n",
    "\n",
    "# kwargs : (key=value, key=value) şeklinde parametre alır. Sözlükte bu verileri birleştirir.\n",
    "def example(**kwargs):\n",
    "    return(kwargs)\n",
    "\n",
    "example(banana = 249, apple = 44, orange = 156)  # {'banana': 249, 'apple': 44, 'orange': 156}\n",
    "type(example(banana = 249, apple = 44, orange = 156))  # dict\n",
    "\n",
    "print(example(banana = 249, apple = 44, orange = 156))\n",
    "print(example(t=1, k=2, m=24))\n"
   ]
  },
  {
   "cell_type": "code",
   "execution_count": 216,
   "id": "c2309ace",
   "metadata": {
    "papermill": {
     "duration": 0.026396,
     "end_time": "2024-01-17T17:08:42.883407",
     "exception": false,
     "start_time": "2024-01-17T17:08:42.857011",
     "status": "completed"
    },
    "tags": []
   },
   "outputs": [
    {
     "name": "stdout",
     "output_type": "stream",
     "text": [
      "[True, True, False, True, True, False, False]\n"
     ]
    },
    {
     "data": {
      "text/plain": [
       "4"
      ]
     },
     "execution_count": 216,
     "metadata": {},
     "output_type": "execute_result"
    }
   ],
   "source": [
    "# map (!!!)\n",
    "\n",
    "def divide(number):\n",
    "    return number/2\n",
    "\n",
    "my_list = [1,2,3,4,5,6,7,8,9,10]\n",
    "\n",
    "map(divide,my_list)\n",
    "list(map(divide,my_list))     # [0.5, 1.0, 1.5, 2.0, 2.5, 3.0, 3.5, 4.0, 4.5, 5.0]\n",
    "# tüm listeye bir fonksiyonu uygulayıp liste oluştur.\n",
    "\n",
    "def controlFunction(string):\n",
    "        return 'a' in string\n",
    "\n",
    "strList = ['yehatech', 'apple', 'microsoft', 'nvidia', 'meta', 'uber', 'getir']\n",
    "\n",
    "resultList = list(map(controlFunction,strList))\n",
    "print(resultList)\n",
    "resultList.count(True)    # 4"
   ]
  },
  {
   "cell_type": "code",
   "execution_count": 218,
   "id": "ab8f4278",
   "metadata": {
    "papermill": {
     "duration": 0.0259,
     "end_time": "2024-01-17T17:08:42.924010",
     "exception": false,
     "start_time": "2024-01-17T17:08:42.898110",
     "status": "completed"
    },
    "tags": []
   },
   "outputs": [
    {
     "data": {
      "text/plain": [
       "['yehatech', 'apple', 'nvidia', 'meta']"
      ]
     },
     "execution_count": 218,
     "metadata": {},
     "output_type": "execute_result"
    }
   ],
   "source": [
    "# filter (ÖNEMLİ!!!)\n",
    "list(filter(controlFunction,strList))    # ['yehatech', 'apple', 'nvidia', 'meta']"
   ]
  },
  {
   "cell_type": "code",
   "execution_count": 237,
   "id": "9585a3e5",
   "metadata": {
    "papermill": {
     "duration": 0.02737,
     "end_time": "2024-01-17T17:08:42.968149",
     "exception": false,
     "start_time": "2024-01-17T17:08:42.940779",
     "status": "completed"
    },
    "tags": []
   },
   "outputs": [
    {
     "data": {
      "text/plain": [
       "[0.3999999999999999, 1.4, 2.4]"
      ]
     },
     "execution_count": 237,
     "metadata": {},
     "output_type": "execute_result"
    }
   ],
   "source": [
    "# lambda\n",
    "multi = lambda number : number*10        # tek satır fonksiyonlar\n",
    "multi(20) # 200\n",
    "\n",
    "eList = [4,5,6]\n",
    "list(map(lambda number : number*27, eList))    # [108, 135, 162]\n",
    "\n",
    "list(map(lambda number : number-3.6, eList))   # [0.3999999999999999, 1.4, 2.4]"
   ]
  },
  {
   "cell_type": "markdown",
   "id": "e2555319",
   "metadata": {
    "papermill": {
     "duration": 0.015656,
     "end_time": "2024-01-17T17:08:43.538986",
     "exception": false,
     "start_time": "2024-01-17T17:08:43.523330",
     "status": "completed"
    },
    "tags": []
   },
   "source": [
    "### try - except - else - finally"
   ]
  },
  {
   "cell_type": "code",
   "execution_count": 242,
   "id": "4d1f51bb-b628-4f7b-9540-4aa24f9be3dc",
   "metadata": {
    "papermill": {
     "duration": 0.026334,
     "end_time": "2024-01-17T17:08:43.581464",
     "exception": false,
     "start_time": "2024-01-17T17:08:43.555130",
     "status": "completed"
    },
    "tags": []
   },
   "outputs": [
    {
     "name": "stdin",
     "output_type": "stream",
     "text": [
      "Enter a number \n"
     ]
    },
    {
     "name": "stdout",
     "output_type": "stream",
     "text": [
      "please enter a number\n",
      "called finally\n"
     ]
    },
    {
     "name": "stdin",
     "output_type": "stream",
     "text": [
      "Enter a number 1\n"
     ]
    },
    {
     "name": "stdout",
     "output_type": "stream",
     "text": [
      "Thanks\n",
      "called finally\n"
     ]
    },
    {
     "name": "stdin",
     "output_type": "stream",
     "text": [
      "Enter a number 12\n"
     ]
    },
    {
     "name": "stdout",
     "output_type": "stream",
     "text": [
      "Thanks\n",
      "called finally\n"
     ]
    },
    {
     "name": "stdin",
     "output_type": "stream",
     "text": [
      "Enter a number 44\n"
     ]
    },
    {
     "name": "stdout",
     "output_type": "stream",
     "text": [
      "Thanks\n",
      "called finally\n"
     ]
    }
   ],
   "source": [
    " i = 3\n",
    "\n",
    "while i>=0:\n",
    "    i-=1\n",
    "    try:\n",
    "        number = int(input('Enter a number'))\n",
    "    except:\n",
    "        print('please enter a number')\n",
    "    else:\n",
    "        print('Thanks')\n",
    "    finally:\n",
    "        print('called finally')"
   ]
  },
  {
   "cell_type": "markdown",
   "id": "565885e6",
   "metadata": {
    "papermill": {
     "duration": 0.015677,
     "end_time": "2024-01-17T17:08:43.612995",
     "exception": false,
     "start_time": "2024-01-17T17:08:43.597318",
     "status": "completed"
    },
    "tags": []
   },
   "source": [
    "## OOP - END"
   ]
  },
  {
   "cell_type": "markdown",
   "id": "c5285f22",
   "metadata": {
    "papermill": {
     "duration": 0.016329,
     "end_time": "2024-01-17T17:08:43.645480",
     "exception": false,
     "start_time": "2024-01-17T17:08:43.629151",
     "status": "completed"
    },
    "tags": []
   },
   "source": [
    "### MODULS & PACKAGES\n",
    "#### module.py dosyası oluştur ve içerisine fonk yaz: def function1(): ... \n",
    "#### import et : from module import function1"
   ]
  },
  {
   "cell_type": "code",
   "execution_count": 41,
   "id": "0d704755",
   "metadata": {
    "execution": {
     "iopub.execute_input": "2024-01-17T17:08:43.678783Z",
     "iopub.status.busy": "2024-01-17T17:08:43.678346Z",
     "iopub.status.idle": "2024-01-17T17:08:43.684921Z",
     "shell.execute_reply": "2024-01-17T17:08:43.683720Z"
    },
    "papermill": {
     "duration": 0.025724,
     "end_time": "2024-01-17T17:08:43.687013",
     "exception": false,
     "start_time": "2024-01-17T17:08:43.661289",
     "status": "completed"
    },
    "tags": []
   },
   "outputs": [
    {
     "data": {
      "text/plain": [
       "'\\nfrom module import function1\\n'"
      ]
     },
     "execution_count": 41,
     "metadata": {},
     "output_type": "execute_result"
    }
   ],
   "source": [
    "#create module.py\n",
    "'''\n",
    "def function1():\n",
    "    print('func 1')\n",
    "'''\n",
    "\n",
    "# import module.py other page\n",
    "'''\n",
    "from module import function1\n",
    "'''\n"
   ]
  },
  {
   "cell_type": "code",
   "execution_count": null,
   "id": "74a55b50",
   "metadata": {
    "papermill": {
     "duration": 0.016294,
     "end_time": "2024-01-17T17:08:43.719341",
     "exception": false,
     "start_time": "2024-01-17T17:08:43.703047",
     "status": "completed"
    },
    "tags": []
   },
   "outputs": [],
   "source": []
  }
 ],
 "metadata": {
  "kaggle": {
   "accelerator": "none",
   "dataSources": [],
   "isGpuEnabled": false,
   "isInternetEnabled": false,
   "language": "python",
   "sourceType": "notebook"
  },
  "kernelspec": {
   "display_name": "Python [conda env:base] *",
   "language": "python",
   "name": "conda-base-py"
  },
  "language_info": {
   "codemirror_mode": {
    "name": "ipython",
    "version": 3
   },
   "file_extension": ".py",
   "mimetype": "text/x-python",
   "name": "python",
   "nbconvert_exporter": "python",
   "pygments_lexer": "ipython3",
   "version": "3.12.7"
  },
  "papermill": {
   "default_parameters": {},
   "duration": 5.77691,
   "end_time": "2024-01-17T17:08:44.155537",
   "environment_variables": {},
   "exception": null,
   "input_path": "__notebook__.ipynb",
   "output_path": "__notebook__.ipynb",
   "parameters": {},
   "start_time": "2024-01-17T17:08:38.378627",
   "version": "2.4.0"
  }
 },
 "nbformat": 4,
 "nbformat_minor": 5
}
