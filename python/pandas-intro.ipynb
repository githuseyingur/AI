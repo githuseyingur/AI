{
 "cells": [
  {
   "cell_type": "markdown",
   "id": "54a9038a",
   "metadata": {
    "papermill": {
     "duration": 0.020325,
     "end_time": "2024-01-22T14:20:59.345349",
     "exception": false,
     "start_time": "2024-01-22T14:20:59.325024",
     "status": "completed"
    },
    "tags": []
   },
   "source": [
    "## PANDAS\n",
    "#### SERİLER\n",
    "##### Bu kütüphane temel olarak zaman etiketli serileri ve sayısal tabloları işlemek için bir veri yapısı oluşturur ve bu şekilde çeşitli işlemler bu veri yapısı üzerinde gerçekleştirilebilir olur."
   ]
  },
  {
   "cell_type": "code",
   "execution_count": 1,
   "id": "a0cfb0a9",
   "metadata": {
    "_cell_guid": "b1076dfc-b9ad-4769-8c92-a6c4dae69d19",
    "_uuid": "8f2839f25d086af736a60e9eeb907d3b93b6e0e5",
    "execution": {
     "iopub.execute_input": "2024-01-22T14:20:59.386866Z",
     "iopub.status.busy": "2024-01-22T14:20:59.386408Z",
     "iopub.status.idle": "2024-01-22T14:20:59.821947Z",
     "shell.execute_reply": "2024-01-22T14:20:59.820600Z"
    },
    "papermill": {
     "duration": 0.460139,
     "end_time": "2024-01-22T14:20:59.825108",
     "exception": false,
     "start_time": "2024-01-22T14:20:59.364969",
     "status": "completed"
    },
    "tags": []
   },
   "outputs": [],
   "source": [
    "import numpy as np\n",
    "import pandas as pd"
   ]
  },
  {
   "cell_type": "code",
   "execution_count": 2,
   "id": "dd616842",
   "metadata": {
    "execution": {
     "iopub.execute_input": "2024-01-22T14:20:59.866283Z",
     "iopub.status.busy": "2024-01-22T14:20:59.865760Z",
     "iopub.status.idle": "2024-01-22T14:20:59.884859Z",
     "shell.execute_reply": "2024-01-22T14:20:59.884053Z"
    },
    "papermill": {
     "duration": 0.042329,
     "end_time": "2024-01-22T14:20:59.887128",
     "exception": false,
     "start_time": "2024-01-22T14:20:59.844799",
     "status": "completed"
    },
    "tags": []
   },
   "outputs": [
    {
     "data": {
      "text/plain": [
       "Hüseyin    96\n",
       "Betül      92\n",
       "Demir      76\n",
       "dtype: int64"
      ]
     },
     "execution_count": 2,
     "metadata": {},
     "output_type": "execute_result"
    }
   ],
   "source": [
    "my_dict = {'Hüseyin':96, 'Betül':92, 'Demir':76}\n",
    "\n",
    "pd.Series(my_dict)"
   ]
  },
  {
   "cell_type": "code",
   "execution_count": 3,
   "id": "7fa6ebda",
   "metadata": {
    "execution": {
     "iopub.execute_input": "2024-01-22T14:20:59.929976Z",
     "iopub.status.busy": "2024-01-22T14:20:59.929126Z",
     "iopub.status.idle": "2024-01-22T14:20:59.936757Z",
     "shell.execute_reply": "2024-01-22T14:20:59.935965Z"
    },
    "papermill": {
     "duration": 0.032065,
     "end_time": "2024-01-22T14:20:59.939385",
     "exception": false,
     "start_time": "2024-01-22T14:20:59.907320",
     "status": "completed"
    },
    "tags": []
   },
   "outputs": [
    {
     "data": {
      "text/plain": [
       "Hüseyin    29\n",
       "Betül      28\n",
       "Demir      36\n",
       "dtype: int64"
      ]
     },
     "execution_count": 3,
     "metadata": {},
     "output_type": "execute_result"
    }
   ],
   "source": [
    "my_ages = [29,28,36]\n",
    "my_names = ['Hüseyin','Betül','Demir']\n",
    "pd.Series(my_ages , my_names)  # SOL : data - SAĞ : index"
   ]
  },
  {
   "cell_type": "code",
   "execution_count": 4,
   "id": "d0ec8c10",
   "metadata": {
    "execution": {
     "iopub.execute_input": "2024-01-22T14:20:59.982046Z",
     "iopub.status.busy": "2024-01-22T14:20:59.981622Z",
     "iopub.status.idle": "2024-01-22T14:20:59.990378Z",
     "shell.execute_reply": "2024-01-22T14:20:59.989347Z"
    },
    "papermill": {
     "duration": 0.033024,
     "end_time": "2024-01-22T14:20:59.992719",
     "exception": false,
     "start_time": "2024-01-22T14:20:59.959695",
     "status": "completed"
    },
    "tags": []
   },
   "outputs": [
    {
     "data": {
      "text/plain": [
       "Hüseyin    29\n",
       "Betül      28\n",
       "Demir      36\n",
       "dtype: int64"
      ]
     },
     "execution_count": 4,
     "metadata": {},
     "output_type": "execute_result"
    }
   ],
   "source": [
    "my_serie = pd.Series(data = my_ages, index = my_names)\n",
    "my_serie['Betül'] # 28\n",
    "my_serie\n"
   ]
  },
  {
   "cell_type": "markdown",
   "id": "027086c6",
   "metadata": {
    "papermill": {
     "duration": 0.021032,
     "end_time": "2024-01-22T14:21:00.034175",
     "exception": false,
     "start_time": "2024-01-22T14:21:00.013143",
     "status": "completed"
    },
    "tags": []
   },
   "source": [
    "### SERİ ÖZELLİKLERİ"
   ]
  },
  {
   "cell_type": "code",
   "execution_count": 5,
   "id": "370d89ba",
   "metadata": {
    "execution": {
     "iopub.execute_input": "2024-01-22T14:21:00.076226Z",
     "iopub.status.busy": "2024-01-22T14:21:00.075836Z",
     "iopub.status.idle": "2024-01-22T14:21:00.089527Z",
     "shell.execute_reply": "2024-01-22T14:21:00.088332Z"
    },
    "papermill": {
     "duration": 0.037484,
     "end_time": "2024-01-22T14:21:00.091961",
     "exception": false,
     "start_time": "2024-01-22T14:21:00.054477",
     "status": "completed"
    },
    "tags": []
   },
   "outputs": [
    {
     "data": {
      "text/plain": [
       "Hüseyin    52\n",
       "Betül      46\n",
       "Demir      48\n",
       "dtype: int64"
      ]
     },
     "execution_count": 5,
     "metadata": {},
     "output_type": "execute_result"
    }
   ],
   "source": [
    "firstResult = pd.Series([20,18,27],['Hüseyin', 'Betül', 'Demir'])\n",
    "secondResult = pd.Series([32,28,21],['Hüseyin', 'Betül', 'Demir'])\n",
    "\n",
    "result = firstResult + secondResult\n",
    "result"
   ]
  },
  {
   "cell_type": "code",
   "execution_count": 6,
   "id": "bfc716c2",
   "metadata": {
    "execution": {
     "iopub.execute_input": "2024-01-22T14:21:00.134394Z",
     "iopub.status.busy": "2024-01-22T14:21:00.133648Z",
     "iopub.status.idle": "2024-01-22T14:21:00.155632Z",
     "shell.execute_reply": "2024-01-22T14:21:00.154289Z"
    },
    "papermill": {
     "duration": 0.046167,
     "end_time": "2024-01-22T14:21:00.158290",
     "exception": false,
     "start_time": "2024-01-22T14:21:00.112123",
     "status": "completed"
    },
    "tags": []
   },
   "outputs": [
    {
     "data": {
      "text/plain": [
       "a    42.0\n",
       "b     NaN\n",
       "c     NaN\n",
       "d    18.0\n",
       "g     NaN\n",
       "h     NaN\n",
       "dtype: float64"
      ]
     },
     "execution_count": 6,
     "metadata": {},
     "output_type": "execute_result"
    }
   ],
   "source": [
    "# ÖNEMLİ : Veri setini incelerken farklılıkları tespit edebiliriz.\n",
    "\n",
    "firstSerie = pd.Series([21,17,18,9], ['a','b','c','d'])\n",
    "secondSerie = pd.Series([21,17,18,9], ['a','g','h','d'])\n",
    "\n",
    "firstSerie + secondSerie"
   ]
  },
  {
   "cell_type": "markdown",
   "id": "c15a6a39",
   "metadata": {
    "papermill": {
     "duration": 0.019874,
     "end_time": "2024-01-22T14:21:00.198673",
     "exception": false,
     "start_time": "2024-01-22T14:21:00.178799",
     "status": "completed"
    },
    "tags": []
   },
   "source": [
    "### DATA FRAME"
   ]
  },
  {
   "cell_type": "code",
   "execution_count": 7,
   "id": "bf3a29a1",
   "metadata": {
    "execution": {
     "iopub.execute_input": "2024-01-22T14:21:00.240889Z",
     "iopub.status.busy": "2024-01-22T14:21:00.240531Z",
     "iopub.status.idle": "2024-01-22T14:21:00.247618Z",
     "shell.execute_reply": "2024-01-22T14:21:00.246567Z"
    },
    "papermill": {
     "duration": 0.031413,
     "end_time": "2024-01-22T14:21:00.250204",
     "exception": false,
     "start_time": "2024-01-22T14:21:00.218791",
     "status": "completed"
    },
    "tags": []
   },
   "outputs": [
    {
     "data": {
      "text/plain": [
       "array([[ 0.81636279,  0.40225656,  0.11343479],\n",
       "       [ 0.15744268,  0.26617411,  0.31078893],\n",
       "       [-0.1340414 ,  0.59654631, -0.89769862],\n",
       "       [-0.63066935, -0.97976123,  0.17195518]])"
      ]
     },
     "execution_count": 7,
     "metadata": {},
     "output_type": "execute_result"
    }
   ],
   "source": [
    "data = np.random.randn(4,3)\n",
    "data"
   ]
  },
  {
   "cell_type": "code",
   "execution_count": 8,
   "id": "ab5460b9",
   "metadata": {
    "execution": {
     "iopub.execute_input": "2024-01-22T14:21:00.354493Z",
     "iopub.status.busy": "2024-01-22T14:21:00.354129Z",
     "iopub.status.idle": "2024-01-22T14:21:00.369400Z",
     "shell.execute_reply": "2024-01-22T14:21:00.368386Z"
    },
    "papermill": {
     "duration": 0.039497,
     "end_time": "2024-01-22T14:21:00.371832",
     "exception": false,
     "start_time": "2024-01-22T14:21:00.332335",
     "status": "completed"
    },
    "tags": []
   },
   "outputs": [
    {
     "data": {
      "text/html": [
       "<div>\n",
       "<style scoped>\n",
       "    .dataframe tbody tr th:only-of-type {\n",
       "        vertical-align: middle;\n",
       "    }\n",
       "\n",
       "    .dataframe tbody tr th {\n",
       "        vertical-align: top;\n",
       "    }\n",
       "\n",
       "    .dataframe thead th {\n",
       "        text-align: right;\n",
       "    }\n",
       "</style>\n",
       "<table border=\"1\" class=\"dataframe\">\n",
       "  <thead>\n",
       "    <tr style=\"text-align: right;\">\n",
       "      <th></th>\n",
       "      <th>0</th>\n",
       "      <th>1</th>\n",
       "      <th>2</th>\n",
       "    </tr>\n",
       "  </thead>\n",
       "  <tbody>\n",
       "    <tr>\n",
       "      <th>0</th>\n",
       "      <td>0.816363</td>\n",
       "      <td>0.402257</td>\n",
       "      <td>0.113435</td>\n",
       "    </tr>\n",
       "    <tr>\n",
       "      <th>1</th>\n",
       "      <td>0.157443</td>\n",
       "      <td>0.266174</td>\n",
       "      <td>0.310789</td>\n",
       "    </tr>\n",
       "    <tr>\n",
       "      <th>2</th>\n",
       "      <td>-0.134041</td>\n",
       "      <td>0.596546</td>\n",
       "      <td>-0.897699</td>\n",
       "    </tr>\n",
       "    <tr>\n",
       "      <th>3</th>\n",
       "      <td>-0.630669</td>\n",
       "      <td>-0.979761</td>\n",
       "      <td>0.171955</td>\n",
       "    </tr>\n",
       "  </tbody>\n",
       "</table>\n",
       "</div>"
      ],
      "text/plain": [
       "          0         1         2\n",
       "0  0.816363  0.402257  0.113435\n",
       "1  0.157443  0.266174  0.310789\n",
       "2 -0.134041  0.596546 -0.897699\n",
       "3 -0.630669 -0.979761  0.171955"
      ]
     },
     "execution_count": 8,
     "metadata": {},
     "output_type": "execute_result"
    }
   ],
   "source": [
    "dataFrame = pd.DataFrame(data)\n",
    "dataFrame[0]    # ilk sütun\n",
    "dataFrame"
   ]
  },
  {
   "cell_type": "markdown",
   "id": "0aafe427",
   "metadata": {
    "papermill": {
     "duration": 0.020469,
     "end_time": "2024-01-22T14:21:00.413122",
     "exception": false,
     "start_time": "2024-01-22T14:21:00.392653",
     "status": "completed"
    },
    "tags": []
   },
   "source": [
    "### INDEKSLER"
   ]
  },
  {
   "cell_type": "code",
   "execution_count": 9,
   "id": "ea14bfc7",
   "metadata": {
    "execution": {
     "iopub.execute_input": "2024-01-22T14:21:00.457238Z",
     "iopub.status.busy": "2024-01-22T14:21:00.456576Z",
     "iopub.status.idle": "2024-01-22T14:21:00.469079Z",
     "shell.execute_reply": "2024-01-22T14:21:00.467813Z"
    },
    "papermill": {
     "duration": 0.037273,
     "end_time": "2024-01-22T14:21:00.471561",
     "exception": false,
     "start_time": "2024-01-22T14:21:00.434288",
     "status": "completed"
    },
    "tags": []
   },
   "outputs": [
    {
     "data": {
      "text/html": [
       "<div>\n",
       "<style scoped>\n",
       "    .dataframe tbody tr th:only-of-type {\n",
       "        vertical-align: middle;\n",
       "    }\n",
       "\n",
       "    .dataframe tbody tr th {\n",
       "        vertical-align: top;\n",
       "    }\n",
       "\n",
       "    .dataframe thead th {\n",
       "        text-align: right;\n",
       "    }\n",
       "</style>\n",
       "<table border=\"1\" class=\"dataframe\">\n",
       "  <thead>\n",
       "    <tr style=\"text-align: right;\">\n",
       "      <th></th>\n",
       "      <th>Maas</th>\n",
       "      <th>Yas</th>\n",
       "      <th>Calisma Saati</th>\n",
       "    </tr>\n",
       "  </thead>\n",
       "  <tbody>\n",
       "    <tr>\n",
       "      <th>hüseyin</th>\n",
       "      <td>0.816363</td>\n",
       "      <td>0.402257</td>\n",
       "      <td>0.113435</td>\n",
       "    </tr>\n",
       "    <tr>\n",
       "      <th>mustafa</th>\n",
       "      <td>0.157443</td>\n",
       "      <td>0.266174</td>\n",
       "      <td>0.310789</td>\n",
       "    </tr>\n",
       "    <tr>\n",
       "      <th>mesut</th>\n",
       "      <td>-0.134041</td>\n",
       "      <td>0.596546</td>\n",
       "      <td>-0.897699</td>\n",
       "    </tr>\n",
       "    <tr>\n",
       "      <th>muhammed</th>\n",
       "      <td>-0.630669</td>\n",
       "      <td>-0.979761</td>\n",
       "      <td>0.171955</td>\n",
       "    </tr>\n",
       "  </tbody>\n",
       "</table>\n",
       "</div>"
      ],
      "text/plain": [
       "              Maas       Yas  Calisma Saati\n",
       "hüseyin   0.816363  0.402257       0.113435\n",
       "mustafa   0.157443  0.266174       0.310789\n",
       "mesut    -0.134041  0.596546      -0.897699\n",
       "muhammed -0.630669 -0.979761       0.171955"
      ]
     },
     "execution_count": 9,
     "metadata": {},
     "output_type": "execute_result"
    }
   ],
   "source": [
    "newDataFrame = pd.DataFrame(data, index = ['hüseyin','mustafa','mesut', 'muhammed'], columns = [\"Maas\", \"Yas\", \"Calisma Saati\"])\n",
    "newDataFrame"
   ]
  },
  {
   "cell_type": "code",
   "execution_count": 10,
   "id": "4d5fa4f1",
   "metadata": {
    "execution": {
     "iopub.execute_input": "2024-01-22T14:21:00.517003Z",
     "iopub.status.busy": "2024-01-22T14:21:00.516580Z",
     "iopub.status.idle": "2024-01-22T14:21:00.524858Z",
     "shell.execute_reply": "2024-01-22T14:21:00.523737Z"
    },
    "papermill": {
     "duration": 0.033996,
     "end_time": "2024-01-22T14:21:00.527294",
     "exception": false,
     "start_time": "2024-01-22T14:21:00.493298",
     "status": "completed"
    },
    "tags": []
   },
   "outputs": [
    {
     "data": {
      "text/plain": [
       "hüseyin     0.113435\n",
       "mustafa     0.310789\n",
       "mesut      -0.897699\n",
       "muhammed    0.171955\n",
       "Name: Calisma Saati, dtype: float64"
      ]
     },
     "execution_count": 10,
     "metadata": {},
     "output_type": "execute_result"
    }
   ],
   "source": [
    "# sütun arama\n",
    "newDataFrame[\"Yas\"]\n",
    "newDataFrame[\"Calisma Saati\"]"
   ]
  },
  {
   "cell_type": "code",
   "execution_count": 11,
   "id": "a5aaafe7",
   "metadata": {
    "execution": {
     "iopub.execute_input": "2024-01-22T14:21:00.572854Z",
     "iopub.status.busy": "2024-01-22T14:21:00.571598Z",
     "iopub.status.idle": "2024-01-22T14:21:00.585747Z",
     "shell.execute_reply": "2024-01-22T14:21:00.584751Z"
    },
    "papermill": {
     "duration": 0.039289,
     "end_time": "2024-01-22T14:21:00.588161",
     "exception": false,
     "start_time": "2024-01-22T14:21:00.548872",
     "status": "completed"
    },
    "tags": []
   },
   "outputs": [
    {
     "data": {
      "text/html": [
       "<div>\n",
       "<style scoped>\n",
       "    .dataframe tbody tr th:only-of-type {\n",
       "        vertical-align: middle;\n",
       "    }\n",
       "\n",
       "    .dataframe tbody tr th {\n",
       "        vertical-align: top;\n",
       "    }\n",
       "\n",
       "    .dataframe thead th {\n",
       "        text-align: right;\n",
       "    }\n",
       "</style>\n",
       "<table border=\"1\" class=\"dataframe\">\n",
       "  <thead>\n",
       "    <tr style=\"text-align: right;\">\n",
       "      <th></th>\n",
       "      <th>Yas</th>\n",
       "      <th>Maas</th>\n",
       "    </tr>\n",
       "  </thead>\n",
       "  <tbody>\n",
       "    <tr>\n",
       "      <th>hüseyin</th>\n",
       "      <td>0.402257</td>\n",
       "      <td>0.816363</td>\n",
       "    </tr>\n",
       "    <tr>\n",
       "      <th>mustafa</th>\n",
       "      <td>0.266174</td>\n",
       "      <td>0.157443</td>\n",
       "    </tr>\n",
       "    <tr>\n",
       "      <th>mesut</th>\n",
       "      <td>0.596546</td>\n",
       "      <td>-0.134041</td>\n",
       "    </tr>\n",
       "    <tr>\n",
       "      <th>muhammed</th>\n",
       "      <td>-0.979761</td>\n",
       "      <td>-0.630669</td>\n",
       "    </tr>\n",
       "  </tbody>\n",
       "</table>\n",
       "</div>"
      ],
      "text/plain": [
       "               Yas      Maas\n",
       "hüseyin   0.402257  0.816363\n",
       "mustafa   0.266174  0.157443\n",
       "mesut     0.596546 -0.134041\n",
       "muhammed -0.979761 -0.630669"
      ]
     },
     "execution_count": 11,
     "metadata": {},
     "output_type": "execute_result"
    }
   ],
   "source": [
    "newDataFrame[[\"Yas\",\"Maas\"]]"
   ]
  },
  {
   "cell_type": "code",
   "execution_count": 12,
   "id": "b5e37cde",
   "metadata": {
    "execution": {
     "iopub.execute_input": "2024-01-22T14:21:00.634670Z",
     "iopub.status.busy": "2024-01-22T14:21:00.633615Z",
     "iopub.status.idle": "2024-01-22T14:21:00.641723Z",
     "shell.execute_reply": "2024-01-22T14:21:00.640962Z"
    },
    "papermill": {
     "duration": 0.033694,
     "end_time": "2024-01-22T14:21:00.643827",
     "exception": false,
     "start_time": "2024-01-22T14:21:00.610133",
     "status": "completed"
    },
    "tags": []
   },
   "outputs": [
    {
     "data": {
      "text/plain": [
       "Maas             0.816363\n",
       "Yas              0.402257\n",
       "Calisma Saati    0.113435\n",
       "Name: hüseyin, dtype: float64"
      ]
     },
     "execution_count": 12,
     "metadata": {},
     "output_type": "execute_result"
    }
   ],
   "source": [
    "# row arama\n",
    "newDataFrame.loc[\"hüseyin\"]\n",
    "newDataFrame.iloc[0]"
   ]
  },
  {
   "cell_type": "code",
   "execution_count": 13,
   "id": "dde7f330",
   "metadata": {
    "execution": {
     "iopub.execute_input": "2024-01-22T14:21:00.689967Z",
     "iopub.status.busy": "2024-01-22T14:21:00.689280Z",
     "iopub.status.idle": "2024-01-22T14:21:00.701401Z",
     "shell.execute_reply": "2024-01-22T14:21:00.700397Z"
    },
    "papermill": {
     "duration": 0.037744,
     "end_time": "2024-01-22T14:21:00.703794",
     "exception": false,
     "start_time": "2024-01-22T14:21:00.666050",
     "status": "completed"
    },
    "tags": []
   },
   "outputs": [
    {
     "data": {
      "text/html": [
       "<div>\n",
       "<style scoped>\n",
       "    .dataframe tbody tr th:only-of-type {\n",
       "        vertical-align: middle;\n",
       "    }\n",
       "\n",
       "    .dataframe tbody tr th {\n",
       "        vertical-align: top;\n",
       "    }\n",
       "\n",
       "    .dataframe thead th {\n",
       "        text-align: right;\n",
       "    }\n",
       "</style>\n",
       "<table border=\"1\" class=\"dataframe\">\n",
       "  <thead>\n",
       "    <tr style=\"text-align: right;\">\n",
       "      <th></th>\n",
       "      <th>Maas</th>\n",
       "      <th>Yas</th>\n",
       "      <th>Calisma Saati</th>\n",
       "      <th>Emeklilik Yasi</th>\n",
       "    </tr>\n",
       "  </thead>\n",
       "  <tbody>\n",
       "    <tr>\n",
       "      <th>hüseyin</th>\n",
       "      <td>0.816363</td>\n",
       "      <td>0.402257</td>\n",
       "      <td>0.113435</td>\n",
       "      <td>0.804513</td>\n",
       "    </tr>\n",
       "    <tr>\n",
       "      <th>mustafa</th>\n",
       "      <td>0.157443</td>\n",
       "      <td>0.266174</td>\n",
       "      <td>0.310789</td>\n",
       "      <td>0.532348</td>\n",
       "    </tr>\n",
       "    <tr>\n",
       "      <th>mesut</th>\n",
       "      <td>-0.134041</td>\n",
       "      <td>0.596546</td>\n",
       "      <td>-0.897699</td>\n",
       "      <td>1.193093</td>\n",
       "    </tr>\n",
       "    <tr>\n",
       "      <th>muhammed</th>\n",
       "      <td>-0.630669</td>\n",
       "      <td>-0.979761</td>\n",
       "      <td>0.171955</td>\n",
       "      <td>-1.959522</td>\n",
       "    </tr>\n",
       "  </tbody>\n",
       "</table>\n",
       "</div>"
      ],
      "text/plain": [
       "              Maas       Yas  Calisma Saati  Emeklilik Yasi\n",
       "hüseyin   0.816363  0.402257       0.113435        0.804513\n",
       "mustafa   0.157443  0.266174       0.310789        0.532348\n",
       "mesut    -0.134041  0.596546      -0.897699        1.193093\n",
       "muhammed -0.630669 -0.979761       0.171955       -1.959522"
      ]
     },
     "execution_count": 13,
     "metadata": {},
     "output_type": "execute_result"
    }
   ],
   "source": [
    "# yeni sütun ekleme\n",
    "\n",
    "newDataFrame[\"Emeklilik Yasi\"] = newDataFrame[\"Yas\"] * 2\n",
    "newDataFrame"
   ]
  },
  {
   "cell_type": "code",
   "execution_count": 14,
   "id": "a7eb35fc",
   "metadata": {
    "execution": {
     "iopub.execute_input": "2024-01-22T14:21:00.752663Z",
     "iopub.status.busy": "2024-01-22T14:21:00.752244Z",
     "iopub.status.idle": "2024-01-22T14:21:00.765073Z",
     "shell.execute_reply": "2024-01-22T14:21:00.763953Z"
    },
    "papermill": {
     "duration": 0.040887,
     "end_time": "2024-01-22T14:21:00.767336",
     "exception": false,
     "start_time": "2024-01-22T14:21:00.726449",
     "status": "completed"
    },
    "tags": []
   },
   "outputs": [
    {
     "data": {
      "text/html": [
       "<div>\n",
       "<style scoped>\n",
       "    .dataframe tbody tr th:only-of-type {\n",
       "        vertical-align: middle;\n",
       "    }\n",
       "\n",
       "    .dataframe tbody tr th {\n",
       "        vertical-align: top;\n",
       "    }\n",
       "\n",
       "    .dataframe thead th {\n",
       "        text-align: right;\n",
       "    }\n",
       "</style>\n",
       "<table border=\"1\" class=\"dataframe\">\n",
       "  <thead>\n",
       "    <tr style=\"text-align: right;\">\n",
       "      <th></th>\n",
       "      <th>Maas</th>\n",
       "      <th>Yas</th>\n",
       "      <th>Calisma Saati</th>\n",
       "    </tr>\n",
       "  </thead>\n",
       "  <tbody>\n",
       "    <tr>\n",
       "      <th>hüseyin</th>\n",
       "      <td>0.816363</td>\n",
       "      <td>0.402257</td>\n",
       "      <td>0.113435</td>\n",
       "    </tr>\n",
       "    <tr>\n",
       "      <th>mustafa</th>\n",
       "      <td>0.157443</td>\n",
       "      <td>0.266174</td>\n",
       "      <td>0.310789</td>\n",
       "    </tr>\n",
       "    <tr>\n",
       "      <th>mesut</th>\n",
       "      <td>-0.134041</td>\n",
       "      <td>0.596546</td>\n",
       "      <td>-0.897699</td>\n",
       "    </tr>\n",
       "    <tr>\n",
       "      <th>muhammed</th>\n",
       "      <td>-0.630669</td>\n",
       "      <td>-0.979761</td>\n",
       "      <td>0.171955</td>\n",
       "    </tr>\n",
       "  </tbody>\n",
       "</table>\n",
       "</div>"
      ],
      "text/plain": [
       "              Maas       Yas  Calisma Saati\n",
       "hüseyin   0.816363  0.402257       0.113435\n",
       "mustafa   0.157443  0.266174       0.310789\n",
       "mesut    -0.134041  0.596546      -0.897699\n",
       "muhammed -0.630669 -0.979761       0.171955"
      ]
     },
     "execution_count": 14,
     "metadata": {},
     "output_type": "execute_result"
    }
   ],
   "source": [
    "# sütun silme\n",
    "\n",
    "newDataFrame.drop(\"Emeklilik Yasi\", axis = 1)"
   ]
  },
  {
   "cell_type": "code",
   "execution_count": 15,
   "id": "9d9082f1",
   "metadata": {
    "execution": {
     "iopub.execute_input": "2024-01-22T14:21:00.814606Z",
     "iopub.status.busy": "2024-01-22T14:21:00.814183Z",
     "iopub.status.idle": "2024-01-22T14:21:00.828094Z",
     "shell.execute_reply": "2024-01-22T14:21:00.827128Z"
    },
    "papermill": {
     "duration": 0.040395,
     "end_time": "2024-01-22T14:21:00.830414",
     "exception": false,
     "start_time": "2024-01-22T14:21:00.790019",
     "status": "completed"
    },
    "tags": []
   },
   "outputs": [
    {
     "data": {
      "text/html": [
       "<div>\n",
       "<style scoped>\n",
       "    .dataframe tbody tr th:only-of-type {\n",
       "        vertical-align: middle;\n",
       "    }\n",
       "\n",
       "    .dataframe tbody tr th {\n",
       "        vertical-align: top;\n",
       "    }\n",
       "\n",
       "    .dataframe thead th {\n",
       "        text-align: right;\n",
       "    }\n",
       "</style>\n",
       "<table border=\"1\" class=\"dataframe\">\n",
       "  <thead>\n",
       "    <tr style=\"text-align: right;\">\n",
       "      <th></th>\n",
       "      <th>Maas</th>\n",
       "      <th>Yas</th>\n",
       "      <th>Calisma Saati</th>\n",
       "      <th>Emeklilik Yasi</th>\n",
       "    </tr>\n",
       "  </thead>\n",
       "  <tbody>\n",
       "    <tr>\n",
       "      <th>hüseyin</th>\n",
       "      <td>0.816363</td>\n",
       "      <td>0.402257</td>\n",
       "      <td>0.113435</td>\n",
       "      <td>0.804513</td>\n",
       "    </tr>\n",
       "    <tr>\n",
       "      <th>mesut</th>\n",
       "      <td>-0.134041</td>\n",
       "      <td>0.596546</td>\n",
       "      <td>-0.897699</td>\n",
       "      <td>1.193093</td>\n",
       "    </tr>\n",
       "    <tr>\n",
       "      <th>muhammed</th>\n",
       "      <td>-0.630669</td>\n",
       "      <td>-0.979761</td>\n",
       "      <td>0.171955</td>\n",
       "      <td>-1.959522</td>\n",
       "    </tr>\n",
       "  </tbody>\n",
       "</table>\n",
       "</div>"
      ],
      "text/plain": [
       "              Maas       Yas  Calisma Saati  Emeklilik Yasi\n",
       "hüseyin   0.816363  0.402257       0.113435        0.804513\n",
       "mesut    -0.134041  0.596546      -0.897699        1.193093\n",
       "muhammed -0.630669 -0.979761       0.171955       -1.959522"
      ]
     },
     "execution_count": 15,
     "metadata": {},
     "output_type": "execute_result"
    }
   ],
   "source": [
    "# row silme\n",
    "\n",
    "newDataFrame.drop(\"mustafa\", axis = 0)   # axis=0 yazmaya da gerek yok."
   ]
  },
  {
   "cell_type": "code",
   "execution_count": 16,
   "id": "56365be0",
   "metadata": {
    "execution": {
     "iopub.execute_input": "2024-01-22T14:21:00.880510Z",
     "iopub.status.busy": "2024-01-22T14:21:00.879471Z",
     "iopub.status.idle": "2024-01-22T14:21:00.891796Z",
     "shell.execute_reply": "2024-01-22T14:21:00.890714Z"
    },
    "papermill": {
     "duration": 0.039834,
     "end_time": "2024-01-22T14:21:00.894244",
     "exception": false,
     "start_time": "2024-01-22T14:21:00.854410",
     "status": "completed"
    },
    "tags": []
   },
   "outputs": [
    {
     "data": {
      "text/html": [
       "<div>\n",
       "<style scoped>\n",
       "    .dataframe tbody tr th:only-of-type {\n",
       "        vertical-align: middle;\n",
       "    }\n",
       "\n",
       "    .dataframe tbody tr th {\n",
       "        vertical-align: top;\n",
       "    }\n",
       "\n",
       "    .dataframe thead th {\n",
       "        text-align: right;\n",
       "    }\n",
       "</style>\n",
       "<table border=\"1\" class=\"dataframe\">\n",
       "  <thead>\n",
       "    <tr style=\"text-align: right;\">\n",
       "      <th></th>\n",
       "      <th>Maas</th>\n",
       "      <th>Yas</th>\n",
       "      <th>Calisma Saati</th>\n",
       "      <th>Emeklilik Yasi</th>\n",
       "    </tr>\n",
       "  </thead>\n",
       "  <tbody>\n",
       "    <tr>\n",
       "      <th>hüseyin</th>\n",
       "      <td>0.816363</td>\n",
       "      <td>0.402257</td>\n",
       "      <td>0.113435</td>\n",
       "      <td>0.804513</td>\n",
       "    </tr>\n",
       "    <tr>\n",
       "      <th>mustafa</th>\n",
       "      <td>0.157443</td>\n",
       "      <td>0.266174</td>\n",
       "      <td>0.310789</td>\n",
       "      <td>0.532348</td>\n",
       "    </tr>\n",
       "    <tr>\n",
       "      <th>mesut</th>\n",
       "      <td>-0.134041</td>\n",
       "      <td>0.596546</td>\n",
       "      <td>-0.897699</td>\n",
       "      <td>1.193093</td>\n",
       "    </tr>\n",
       "    <tr>\n",
       "      <th>muhammed</th>\n",
       "      <td>-0.630669</td>\n",
       "      <td>-0.979761</td>\n",
       "      <td>0.171955</td>\n",
       "      <td>-1.959522</td>\n",
       "    </tr>\n",
       "  </tbody>\n",
       "</table>\n",
       "</div>"
      ],
      "text/plain": [
       "              Maas       Yas  Calisma Saati  Emeklilik Yasi\n",
       "hüseyin   0.816363  0.402257       0.113435        0.804513\n",
       "mustafa   0.157443  0.266174       0.310789        0.532348\n",
       "mesut    -0.134041  0.596546      -0.897699        1.193093\n",
       "muhammed -0.630669 -0.979761       0.171955       -1.959522"
      ]
     },
     "execution_count": 16,
     "metadata": {},
     "output_type": "execute_result"
    }
   ],
   "source": [
    "newDataFrame\n",
    "# silinmemiş"
   ]
  },
  {
   "cell_type": "code",
   "execution_count": 17,
   "id": "eb009c79",
   "metadata": {
    "execution": {
     "iopub.execute_input": "2024-01-22T14:21:00.941907Z",
     "iopub.status.busy": "2024-01-22T14:21:00.941101Z",
     "iopub.status.idle": "2024-01-22T14:21:00.954164Z",
     "shell.execute_reply": "2024-01-22T14:21:00.952873Z"
    },
    "papermill": {
     "duration": 0.039704,
     "end_time": "2024-01-22T14:21:00.956446",
     "exception": false,
     "start_time": "2024-01-22T14:21:00.916742",
     "status": "completed"
    },
    "tags": []
   },
   "outputs": [
    {
     "data": {
      "text/html": [
       "<div>\n",
       "<style scoped>\n",
       "    .dataframe tbody tr th:only-of-type {\n",
       "        vertical-align: middle;\n",
       "    }\n",
       "\n",
       "    .dataframe tbody tr th {\n",
       "        vertical-align: top;\n",
       "    }\n",
       "\n",
       "    .dataframe thead th {\n",
       "        text-align: right;\n",
       "    }\n",
       "</style>\n",
       "<table border=\"1\" class=\"dataframe\">\n",
       "  <thead>\n",
       "    <tr style=\"text-align: right;\">\n",
       "      <th></th>\n",
       "      <th>Maas</th>\n",
       "      <th>Yas</th>\n",
       "      <th>Calisma Saati</th>\n",
       "    </tr>\n",
       "  </thead>\n",
       "  <tbody>\n",
       "    <tr>\n",
       "      <th>hüseyin</th>\n",
       "      <td>0.816363</td>\n",
       "      <td>0.402257</td>\n",
       "      <td>0.113435</td>\n",
       "    </tr>\n",
       "    <tr>\n",
       "      <th>mustafa</th>\n",
       "      <td>0.157443</td>\n",
       "      <td>0.266174</td>\n",
       "      <td>0.310789</td>\n",
       "    </tr>\n",
       "    <tr>\n",
       "      <th>mesut</th>\n",
       "      <td>-0.134041</td>\n",
       "      <td>0.596546</td>\n",
       "      <td>-0.897699</td>\n",
       "    </tr>\n",
       "    <tr>\n",
       "      <th>muhammed</th>\n",
       "      <td>-0.630669</td>\n",
       "      <td>-0.979761</td>\n",
       "      <td>0.171955</td>\n",
       "    </tr>\n",
       "  </tbody>\n",
       "</table>\n",
       "</div>"
      ],
      "text/plain": [
       "              Maas       Yas  Calisma Saati\n",
       "hüseyin   0.816363  0.402257       0.113435\n",
       "mustafa   0.157443  0.266174       0.310789\n",
       "mesut    -0.134041  0.596546      -0.897699\n",
       "muhammed -0.630669 -0.979761       0.171955"
      ]
     },
     "execution_count": 17,
     "metadata": {},
     "output_type": "execute_result"
    }
   ],
   "source": [
    "# gerçekten sil\n",
    "newDataFrame.drop(\"Emeklilik Yasi\", axis = 1, inplace = True)\n",
    "newDataFrame"
   ]
  },
  {
   "cell_type": "code",
   "execution_count": 18,
   "id": "2618f552",
   "metadata": {
    "execution": {
     "iopub.execute_input": "2024-01-22T14:21:01.005125Z",
     "iopub.status.busy": "2024-01-22T14:21:01.004485Z",
     "iopub.status.idle": "2024-01-22T14:21:01.012883Z",
     "shell.execute_reply": "2024-01-22T14:21:01.011732Z"
    },
    "papermill": {
     "duration": 0.035728,
     "end_time": "2024-01-22T14:21:01.015330",
     "exception": false,
     "start_time": "2024-01-22T14:21:00.979602",
     "status": "completed"
    },
    "tags": []
   },
   "outputs": [
    {
     "data": {
      "text/plain": [
       "0.4022565567544075"
      ]
     },
     "execution_count": 18,
     "metadata": {},
     "output_type": "execute_result"
    }
   ],
   "source": [
    "# tablodan datayı getir\n",
    "newDataFrame.loc[\"hüseyin\"][\"Yas\"]\n",
    "newDataFrame.loc[\"hüseyin\",\"Yas\"]"
   ]
  },
  {
   "cell_type": "code",
   "execution_count": 19,
   "id": "d3ccae81",
   "metadata": {
    "execution": {
     "iopub.execute_input": "2024-01-22T14:21:01.066247Z",
     "iopub.status.busy": "2024-01-22T14:21:01.065245Z",
     "iopub.status.idle": "2024-01-22T14:21:01.075832Z",
     "shell.execute_reply": "2024-01-22T14:21:01.075034Z"
    },
    "papermill": {
     "duration": 0.038807,
     "end_time": "2024-01-22T14:21:01.078121",
     "exception": false,
     "start_time": "2024-01-22T14:21:01.039314",
     "status": "completed"
    },
    "tags": []
   },
   "outputs": [
    {
     "data": {
      "text/html": [
       "<div>\n",
       "<style scoped>\n",
       "    .dataframe tbody tr th:only-of-type {\n",
       "        vertical-align: middle;\n",
       "    }\n",
       "\n",
       "    .dataframe tbody tr th {\n",
       "        vertical-align: top;\n",
       "    }\n",
       "\n",
       "    .dataframe thead th {\n",
       "        text-align: right;\n",
       "    }\n",
       "</style>\n",
       "<table border=\"1\" class=\"dataframe\">\n",
       "  <thead>\n",
       "    <tr style=\"text-align: right;\">\n",
       "      <th></th>\n",
       "      <th>Maas</th>\n",
       "      <th>Yas</th>\n",
       "      <th>Calisma Saati</th>\n",
       "    </tr>\n",
       "  </thead>\n",
       "  <tbody>\n",
       "    <tr>\n",
       "      <th>hüseyin</th>\n",
       "      <td>False</td>\n",
       "      <td>False</td>\n",
       "      <td>False</td>\n",
       "    </tr>\n",
       "    <tr>\n",
       "      <th>mustafa</th>\n",
       "      <td>False</td>\n",
       "      <td>False</td>\n",
       "      <td>False</td>\n",
       "    </tr>\n",
       "    <tr>\n",
       "      <th>mesut</th>\n",
       "      <td>True</td>\n",
       "      <td>False</td>\n",
       "      <td>True</td>\n",
       "    </tr>\n",
       "    <tr>\n",
       "      <th>muhammed</th>\n",
       "      <td>True</td>\n",
       "      <td>True</td>\n",
       "      <td>False</td>\n",
       "    </tr>\n",
       "  </tbody>\n",
       "</table>\n",
       "</div>"
      ],
      "text/plain": [
       "           Maas    Yas  Calisma Saati\n",
       "hüseyin   False  False          False\n",
       "mustafa   False  False          False\n",
       "mesut      True  False           True\n",
       "muhammed   True   True          False"
      ]
     },
     "execution_count": 19,
     "metadata": {},
     "output_type": "execute_result"
    }
   ],
   "source": [
    "booleanFrame = newDataFrame < 0\n",
    "booleanFrame"
   ]
  },
  {
   "cell_type": "code",
   "execution_count": 20,
   "id": "2baae60a",
   "metadata": {
    "execution": {
     "iopub.execute_input": "2024-01-22T14:21:01.128056Z",
     "iopub.status.busy": "2024-01-22T14:21:01.126924Z",
     "iopub.status.idle": "2024-01-22T14:21:01.140162Z",
     "shell.execute_reply": "2024-01-22T14:21:01.138876Z"
    },
    "papermill": {
     "duration": 0.041084,
     "end_time": "2024-01-22T14:21:01.142713",
     "exception": false,
     "start_time": "2024-01-22T14:21:01.101629",
     "status": "completed"
    },
    "tags": []
   },
   "outputs": [
    {
     "data": {
      "text/html": [
       "<div>\n",
       "<style scoped>\n",
       "    .dataframe tbody tr th:only-of-type {\n",
       "        vertical-align: middle;\n",
       "    }\n",
       "\n",
       "    .dataframe tbody tr th {\n",
       "        vertical-align: top;\n",
       "    }\n",
       "\n",
       "    .dataframe thead th {\n",
       "        text-align: right;\n",
       "    }\n",
       "</style>\n",
       "<table border=\"1\" class=\"dataframe\">\n",
       "  <thead>\n",
       "    <tr style=\"text-align: right;\">\n",
       "      <th></th>\n",
       "      <th>Maas</th>\n",
       "      <th>Yas</th>\n",
       "      <th>Calisma Saati</th>\n",
       "    </tr>\n",
       "  </thead>\n",
       "  <tbody>\n",
       "    <tr>\n",
       "      <th>hüseyin</th>\n",
       "      <td>NaN</td>\n",
       "      <td>NaN</td>\n",
       "      <td>NaN</td>\n",
       "    </tr>\n",
       "    <tr>\n",
       "      <th>mustafa</th>\n",
       "      <td>NaN</td>\n",
       "      <td>NaN</td>\n",
       "      <td>NaN</td>\n",
       "    </tr>\n",
       "    <tr>\n",
       "      <th>mesut</th>\n",
       "      <td>-0.134041</td>\n",
       "      <td>NaN</td>\n",
       "      <td>-0.897699</td>\n",
       "    </tr>\n",
       "    <tr>\n",
       "      <th>muhammed</th>\n",
       "      <td>-0.630669</td>\n",
       "      <td>-0.979761</td>\n",
       "      <td>NaN</td>\n",
       "    </tr>\n",
       "  </tbody>\n",
       "</table>\n",
       "</div>"
      ],
      "text/plain": [
       "              Maas       Yas  Calisma Saati\n",
       "hüseyin        NaN       NaN            NaN\n",
       "mustafa        NaN       NaN            NaN\n",
       "mesut    -0.134041       NaN      -0.897699\n",
       "muhammed -0.630669 -0.979761            NaN"
      ]
     },
     "execution_count": 20,
     "metadata": {},
     "output_type": "execute_result"
    }
   ],
   "source": [
    "# 0'dan küçük değerleri getir\n",
    "newDataFrame[booleanFrame]\n",
    "newDataFrame[newDataFrame < 0]"
   ]
  },
  {
   "cell_type": "code",
   "execution_count": 21,
   "id": "f90224d8",
   "metadata": {
    "execution": {
     "iopub.execute_input": "2024-01-22T14:21:01.192975Z",
     "iopub.status.busy": "2024-01-22T14:21:01.192573Z",
     "iopub.status.idle": "2024-01-22T14:21:01.201151Z",
     "shell.execute_reply": "2024-01-22T14:21:01.199865Z"
    },
    "papermill": {
     "duration": 0.036645,
     "end_time": "2024-01-22T14:21:01.203681",
     "exception": false,
     "start_time": "2024-01-22T14:21:01.167036",
     "status": "completed"
    },
    "tags": []
   },
   "outputs": [
    {
     "data": {
      "text/plain": [
       "hüseyin      True\n",
       "mustafa      True\n",
       "mesut        True\n",
       "muhammed    False\n",
       "Name: Yas, dtype: bool"
      ]
     },
     "execution_count": 21,
     "metadata": {},
     "output_type": "execute_result"
    }
   ],
   "source": [
    "newDataFrame[\"Yas\"] > 0"
   ]
  },
  {
   "cell_type": "code",
   "execution_count": 22,
   "id": "b6115a6d",
   "metadata": {
    "execution": {
     "iopub.execute_input": "2024-01-22T14:21:01.253581Z",
     "iopub.status.busy": "2024-01-22T14:21:01.253132Z",
     "iopub.status.idle": "2024-01-22T14:21:01.265083Z",
     "shell.execute_reply": "2024-01-22T14:21:01.263983Z"
    },
    "papermill": {
     "duration": 0.039726,
     "end_time": "2024-01-22T14:21:01.267502",
     "exception": false,
     "start_time": "2024-01-22T14:21:01.227776",
     "status": "completed"
    },
    "tags": []
   },
   "outputs": [
    {
     "data": {
      "text/html": [
       "<div>\n",
       "<style scoped>\n",
       "    .dataframe tbody tr th:only-of-type {\n",
       "        vertical-align: middle;\n",
       "    }\n",
       "\n",
       "    .dataframe tbody tr th {\n",
       "        vertical-align: top;\n",
       "    }\n",
       "\n",
       "    .dataframe thead th {\n",
       "        text-align: right;\n",
       "    }\n",
       "</style>\n",
       "<table border=\"1\" class=\"dataframe\">\n",
       "  <thead>\n",
       "    <tr style=\"text-align: right;\">\n",
       "      <th></th>\n",
       "      <th>Maas</th>\n",
       "      <th>Yas</th>\n",
       "      <th>Calisma Saati</th>\n",
       "    </tr>\n",
       "  </thead>\n",
       "  <tbody>\n",
       "    <tr>\n",
       "      <th>hüseyin</th>\n",
       "      <td>0.816363</td>\n",
       "      <td>0.402257</td>\n",
       "      <td>0.113435</td>\n",
       "    </tr>\n",
       "    <tr>\n",
       "      <th>mustafa</th>\n",
       "      <td>0.157443</td>\n",
       "      <td>0.266174</td>\n",
       "      <td>0.310789</td>\n",
       "    </tr>\n",
       "    <tr>\n",
       "      <th>mesut</th>\n",
       "      <td>-0.134041</td>\n",
       "      <td>0.596546</td>\n",
       "      <td>-0.897699</td>\n",
       "    </tr>\n",
       "  </tbody>\n",
       "</table>\n",
       "</div>"
      ],
      "text/plain": [
       "             Maas       Yas  Calisma Saati\n",
       "hüseyin  0.816363  0.402257       0.113435\n",
       "mustafa  0.157443  0.266174       0.310789\n",
       "mesut   -0.134041  0.596546      -0.897699"
      ]
     },
     "execution_count": 22,
     "metadata": {},
     "output_type": "execute_result"
    }
   ],
   "source": [
    "# 0'dan büyük olan belirli bir sütün değerlerini içeren satırları getir.\n",
    "# Yas sütunu 0'dan büyük olan satırları getir.\n",
    "newDataFrame[newDataFrame[\"Yas\"] > 0]"
   ]
  },
  {
   "cell_type": "markdown",
   "id": "612e7339",
   "metadata": {
    "papermill": {
     "duration": 0.023911,
     "end_time": "2024-01-22T14:21:01.315266",
     "exception": false,
     "start_time": "2024-01-22T14:21:01.291355",
     "status": "completed"
    },
    "tags": []
   },
   "source": [
    "### INDEKS SIFIRLAMA"
   ]
  },
  {
   "cell_type": "code",
   "execution_count": 23,
   "id": "764382b1",
   "metadata": {
    "execution": {
     "iopub.execute_input": "2024-01-22T14:21:01.366496Z",
     "iopub.status.busy": "2024-01-22T14:21:01.365784Z",
     "iopub.status.idle": "2024-01-22T14:21:01.378440Z",
     "shell.execute_reply": "2024-01-22T14:21:01.377287Z"
    },
    "papermill": {
     "duration": 0.040915,
     "end_time": "2024-01-22T14:21:01.381054",
     "exception": false,
     "start_time": "2024-01-22T14:21:01.340139",
     "status": "completed"
    },
    "tags": []
   },
   "outputs": [
    {
     "data": {
      "text/html": [
       "<div>\n",
       "<style scoped>\n",
       "    .dataframe tbody tr th:only-of-type {\n",
       "        vertical-align: middle;\n",
       "    }\n",
       "\n",
       "    .dataframe tbody tr th {\n",
       "        vertical-align: top;\n",
       "    }\n",
       "\n",
       "    .dataframe thead th {\n",
       "        text-align: right;\n",
       "    }\n",
       "</style>\n",
       "<table border=\"1\" class=\"dataframe\">\n",
       "  <thead>\n",
       "    <tr style=\"text-align: right;\">\n",
       "      <th></th>\n",
       "      <th>index</th>\n",
       "      <th>Maas</th>\n",
       "      <th>Yas</th>\n",
       "      <th>Calisma Saati</th>\n",
       "    </tr>\n",
       "  </thead>\n",
       "  <tbody>\n",
       "    <tr>\n",
       "      <th>0</th>\n",
       "      <td>hüseyin</td>\n",
       "      <td>0.816363</td>\n",
       "      <td>0.402257</td>\n",
       "      <td>0.113435</td>\n",
       "    </tr>\n",
       "    <tr>\n",
       "      <th>1</th>\n",
       "      <td>mustafa</td>\n",
       "      <td>0.157443</td>\n",
       "      <td>0.266174</td>\n",
       "      <td>0.310789</td>\n",
       "    </tr>\n",
       "    <tr>\n",
       "      <th>2</th>\n",
       "      <td>mesut</td>\n",
       "      <td>-0.134041</td>\n",
       "      <td>0.596546</td>\n",
       "      <td>-0.897699</td>\n",
       "    </tr>\n",
       "    <tr>\n",
       "      <th>3</th>\n",
       "      <td>muhammed</td>\n",
       "      <td>-0.630669</td>\n",
       "      <td>-0.979761</td>\n",
       "      <td>0.171955</td>\n",
       "    </tr>\n",
       "  </tbody>\n",
       "</table>\n",
       "</div>"
      ],
      "text/plain": [
       "      index      Maas       Yas  Calisma Saati\n",
       "0   hüseyin  0.816363  0.402257       0.113435\n",
       "1   mustafa  0.157443  0.266174       0.310789\n",
       "2     mesut -0.134041  0.596546      -0.897699\n",
       "3  muhammed -0.630669 -0.979761       0.171955"
      ]
     },
     "execution_count": 23,
     "metadata": {},
     "output_type": "execute_result"
    }
   ],
   "source": [
    "newDataFrame.reset_index()\n",
    "# inplace kullanılmazsa tabloda değişiklik olmaz"
   ]
  },
  {
   "cell_type": "code",
   "execution_count": 24,
   "id": "49a72d4c",
   "metadata": {
    "execution": {
     "iopub.execute_input": "2024-01-22T14:21:01.432052Z",
     "iopub.status.busy": "2024-01-22T14:21:01.430998Z",
     "iopub.status.idle": "2024-01-22T14:21:01.448808Z",
     "shell.execute_reply": "2024-01-22T14:21:01.447440Z"
    },
    "papermill": {
     "duration": 0.046385,
     "end_time": "2024-01-22T14:21:01.451697",
     "exception": false,
     "start_time": "2024-01-22T14:21:01.405312",
     "status": "completed"
    },
    "tags": []
   },
   "outputs": [
    {
     "data": {
      "text/html": [
       "<div>\n",
       "<style scoped>\n",
       "    .dataframe tbody tr th:only-of-type {\n",
       "        vertical-align: middle;\n",
       "    }\n",
       "\n",
       "    .dataframe tbody tr th {\n",
       "        vertical-align: top;\n",
       "    }\n",
       "\n",
       "    .dataframe thead th {\n",
       "        text-align: right;\n",
       "    }\n",
       "</style>\n",
       "<table border=\"1\" class=\"dataframe\">\n",
       "  <thead>\n",
       "    <tr style=\"text-align: right;\">\n",
       "      <th></th>\n",
       "      <th>Maas</th>\n",
       "      <th>Yas</th>\n",
       "      <th>Calisma Saati</th>\n",
       "    </tr>\n",
       "    <tr>\n",
       "      <th>New Index</th>\n",
       "      <th></th>\n",
       "      <th></th>\n",
       "      <th></th>\n",
       "    </tr>\n",
       "  </thead>\n",
       "  <tbody>\n",
       "    <tr>\n",
       "      <th>HG</th>\n",
       "      <td>0.816363</td>\n",
       "      <td>0.402257</td>\n",
       "      <td>0.113435</td>\n",
       "    </tr>\n",
       "    <tr>\n",
       "      <th>MI</th>\n",
       "      <td>0.157443</td>\n",
       "      <td>0.266174</td>\n",
       "      <td>0.310789</td>\n",
       "    </tr>\n",
       "    <tr>\n",
       "      <th>MD</th>\n",
       "      <td>-0.134041</td>\n",
       "      <td>0.596546</td>\n",
       "      <td>-0.897699</td>\n",
       "    </tr>\n",
       "    <tr>\n",
       "      <th>MH</th>\n",
       "      <td>-0.630669</td>\n",
       "      <td>-0.979761</td>\n",
       "      <td>0.171955</td>\n",
       "    </tr>\n",
       "  </tbody>\n",
       "</table>\n",
       "</div>"
      ],
      "text/plain": [
       "               Maas       Yas  Calisma Saati\n",
       "New Index                                   \n",
       "HG         0.816363  0.402257       0.113435\n",
       "MI         0.157443  0.266174       0.310789\n",
       "MD        -0.134041  0.596546      -0.897699\n",
       "MH        -0.630669 -0.979761       0.171955"
      ]
     },
     "execution_count": 24,
     "metadata": {},
     "output_type": "execute_result"
    }
   ],
   "source": [
    "newIndexList = [\"HG\", \"MI\", \"MD\", \"MH\"]\n",
    "newDataFrame[\"New Index\"] = newIndexList\n",
    "newDataFrame.set_index(\"New Index\", inplace = True)\n",
    "newDataFrame"
   ]
  },
  {
   "cell_type": "markdown",
   "id": "6ade2526",
   "metadata": {
    "papermill": {
     "duration": 0.025325,
     "end_time": "2024-01-22T14:21:01.502268",
     "exception": false,
     "start_time": "2024-01-22T14:21:01.476943",
     "status": "completed"
    },
    "tags": []
   },
   "source": [
    "### MULTI INDEX"
   ]
  },
  {
   "cell_type": "code",
   "execution_count": 25,
   "id": "0a6193e3",
   "metadata": {
    "execution": {
     "iopub.execute_input": "2024-01-22T14:21:01.555642Z",
     "iopub.status.busy": "2024-01-22T14:21:01.554575Z",
     "iopub.status.idle": "2024-01-22T14:21:01.563849Z",
     "shell.execute_reply": "2024-01-22T14:21:01.562969Z"
    },
    "papermill": {
     "duration": 0.038421,
     "end_time": "2024-01-22T14:21:01.566158",
     "exception": false,
     "start_time": "2024-01-22T14:21:01.527737",
     "status": "completed"
    },
    "tags": []
   },
   "outputs": [
    {
     "data": {
      "text/plain": [
       "[('Simpson', 'Homer'),\n",
       " ('Simpson', 'Bart'),\n",
       " ('Simpson', 'Marge'),\n",
       " ('South Park', 'Cartman'),\n",
       " ('South Park', 'Kenny'),\n",
       " ('South Park', 'Kyle')]"
      ]
     },
     "execution_count": 25,
     "metadata": {},
     "output_type": "execute_result"
    }
   ],
   "source": [
    "firstIndexes = [\"Simpson\",\"Simpson\",\"Simpson\",\"South Park\",\"South Park\",\"South Park\"]\n",
    "secondIndexes = [\"Homer\", \"Bart\", \"Marge\", \"Cartman\", \"Kenny\", \"Kyle\"]\n",
    "\n",
    "resultIndexes = list(zip(firstIndexes,secondIndexes))\n",
    "resultIndexes"
   ]
  },
  {
   "cell_type": "code",
   "execution_count": 26,
   "id": "9100a73a",
   "metadata": {
    "execution": {
     "iopub.execute_input": "2024-01-22T14:21:01.620192Z",
     "iopub.status.busy": "2024-01-22T14:21:01.619353Z",
     "iopub.status.idle": "2024-01-22T14:21:01.629939Z",
     "shell.execute_reply": "2024-01-22T14:21:01.629103Z"
    },
    "papermill": {
     "duration": 0.039721,
     "end_time": "2024-01-22T14:21:01.632081",
     "exception": false,
     "start_time": "2024-01-22T14:21:01.592360",
     "status": "completed"
    },
    "tags": []
   },
   "outputs": [
    {
     "data": {
      "text/plain": [
       "MultiIndex([(   'Simpson',   'Homer'),\n",
       "            (   'Simpson',    'Bart'),\n",
       "            (   'Simpson',   'Marge'),\n",
       "            ('South Park', 'Cartman'),\n",
       "            ('South Park',   'Kenny'),\n",
       "            ('South Park',    'Kyle')],\n",
       "           )"
      ]
     },
     "execution_count": 26,
     "metadata": {},
     "output_type": "execute_result"
    }
   ],
   "source": [
    "resultIndexes = pd.MultiIndex.from_tuples(resultIndexes)\n",
    "resultIndexes"
   ]
  },
  {
   "cell_type": "code",
   "execution_count": 27,
   "id": "6fa456cc",
   "metadata": {
    "execution": {
     "iopub.execute_input": "2024-01-22T14:21:01.685099Z",
     "iopub.status.busy": "2024-01-22T14:21:01.684654Z",
     "iopub.status.idle": "2024-01-22T14:21:01.700228Z",
     "shell.execute_reply": "2024-01-22T14:21:01.698941Z"
    },
    "papermill": {
     "duration": 0.044884,
     "end_time": "2024-01-22T14:21:01.702801",
     "exception": false,
     "start_time": "2024-01-22T14:21:01.657917",
     "status": "completed"
    },
    "tags": []
   },
   "outputs": [
    {
     "data": {
      "text/html": [
       "<div>\n",
       "<style scoped>\n",
       "    .dataframe tbody tr th:only-of-type {\n",
       "        vertical-align: middle;\n",
       "    }\n",
       "\n",
       "    .dataframe tbody tr th {\n",
       "        vertical-align: top;\n",
       "    }\n",
       "\n",
       "    .dataframe thead th {\n",
       "        text-align: right;\n",
       "    }\n",
       "</style>\n",
       "<table border=\"1\" class=\"dataframe\">\n",
       "  <thead>\n",
       "    <tr style=\"text-align: right;\">\n",
       "      <th></th>\n",
       "      <th></th>\n",
       "      <th>Yas</th>\n",
       "      <th>Meslek</th>\n",
       "    </tr>\n",
       "  </thead>\n",
       "  <tbody>\n",
       "    <tr>\n",
       "      <th rowspan=\"3\" valign=\"top\">Simpson</th>\n",
       "      <th>Homer</th>\n",
       "      <td>40</td>\n",
       "      <td>A</td>\n",
       "    </tr>\n",
       "    <tr>\n",
       "      <th>Bart</th>\n",
       "      <td>10</td>\n",
       "      <td>B</td>\n",
       "    </tr>\n",
       "    <tr>\n",
       "      <th>Marge</th>\n",
       "      <td>30</td>\n",
       "      <td>C</td>\n",
       "    </tr>\n",
       "    <tr>\n",
       "      <th rowspan=\"3\" valign=\"top\">South Park</th>\n",
       "      <th>Cartman</th>\n",
       "      <td>9</td>\n",
       "      <td>D</td>\n",
       "    </tr>\n",
       "    <tr>\n",
       "      <th>Kenny</th>\n",
       "      <td>10</td>\n",
       "      <td>E</td>\n",
       "    </tr>\n",
       "    <tr>\n",
       "      <th>Kyle</th>\n",
       "      <td>11</td>\n",
       "      <td>F</td>\n",
       "    </tr>\n",
       "  </tbody>\n",
       "</table>\n",
       "</div>"
      ],
      "text/plain": [
       "                   Yas Meslek\n",
       "Simpson    Homer    40      A\n",
       "           Bart     10      B\n",
       "           Marge    30      C\n",
       "South Park Cartman   9      D\n",
       "           Kenny    10      E\n",
       "           Kyle     11      F"
      ]
     },
     "execution_count": 27,
     "metadata": {},
     "output_type": "execute_result"
    }
   ],
   "source": [
    "myList = [[40,\"A\"],[10,\"B\"],[30,\"C\"],[9,\"D\"],[10,\"E\"],[11,\"F\"]]\n",
    "myNumpyArray = np.array(myList)\n",
    "\n",
    "myDataFrame = pd.DataFrame(myNumpyArray, index = resultIndexes, columns = [\"Yas\",\"Meslek\"])\n",
    "myDataFrame"
   ]
  },
  {
   "cell_type": "code",
   "execution_count": 28,
   "id": "6552cc9d",
   "metadata": {
    "execution": {
     "iopub.execute_input": "2024-01-22T14:21:01.757031Z",
     "iopub.status.busy": "2024-01-22T14:21:01.756435Z",
     "iopub.status.idle": "2024-01-22T14:21:01.767798Z",
     "shell.execute_reply": "2024-01-22T14:21:01.766637Z"
    },
    "papermill": {
     "duration": 0.041678,
     "end_time": "2024-01-22T14:21:01.770596",
     "exception": false,
     "start_time": "2024-01-22T14:21:01.728918",
     "status": "completed"
    },
    "tags": []
   },
   "outputs": [
    {
     "data": {
      "text/html": [
       "<div>\n",
       "<style scoped>\n",
       "    .dataframe tbody tr th:only-of-type {\n",
       "        vertical-align: middle;\n",
       "    }\n",
       "\n",
       "    .dataframe tbody tr th {\n",
       "        vertical-align: top;\n",
       "    }\n",
       "\n",
       "    .dataframe thead th {\n",
       "        text-align: right;\n",
       "    }\n",
       "</style>\n",
       "<table border=\"1\" class=\"dataframe\">\n",
       "  <thead>\n",
       "    <tr style=\"text-align: right;\">\n",
       "      <th></th>\n",
       "      <th>Yas</th>\n",
       "      <th>Meslek</th>\n",
       "    </tr>\n",
       "  </thead>\n",
       "  <tbody>\n",
       "    <tr>\n",
       "      <th>Homer</th>\n",
       "      <td>40</td>\n",
       "      <td>A</td>\n",
       "    </tr>\n",
       "    <tr>\n",
       "      <th>Bart</th>\n",
       "      <td>10</td>\n",
       "      <td>B</td>\n",
       "    </tr>\n",
       "    <tr>\n",
       "      <th>Marge</th>\n",
       "      <td>30</td>\n",
       "      <td>C</td>\n",
       "    </tr>\n",
       "  </tbody>\n",
       "</table>\n",
       "</div>"
      ],
      "text/plain": [
       "      Yas Meslek\n",
       "Homer  40      A\n",
       "Bart   10      B\n",
       "Marge  30      C"
      ]
     },
     "execution_count": 28,
     "metadata": {},
     "output_type": "execute_result"
    }
   ],
   "source": [
    "myDataFrame.loc[\"Simpson\"]"
   ]
  },
  {
   "cell_type": "code",
   "execution_count": 29,
   "id": "cc167a44",
   "metadata": {
    "execution": {
     "iopub.execute_input": "2024-01-22T14:21:01.825250Z",
     "iopub.status.busy": "2024-01-22T14:21:01.824117Z",
     "iopub.status.idle": "2024-01-22T14:21:01.832630Z",
     "shell.execute_reply": "2024-01-22T14:21:01.831661Z"
    },
    "papermill": {
     "duration": 0.038462,
     "end_time": "2024-01-22T14:21:01.835321",
     "exception": false,
     "start_time": "2024-01-22T14:21:01.796859",
     "status": "completed"
    },
    "tags": []
   },
   "outputs": [
    {
     "data": {
      "text/plain": [
       "Yas       10\n",
       "Meslek     E\n",
       "Name: Kenny, dtype: object"
      ]
     },
     "execution_count": 29,
     "metadata": {},
     "output_type": "execute_result"
    }
   ],
   "source": [
    "myDataFrame.loc[\"South Park\"].loc[\"Kenny\"]"
   ]
  },
  {
   "cell_type": "code",
   "execution_count": 30,
   "id": "a9475692",
   "metadata": {
    "execution": {
     "iopub.execute_input": "2024-01-22T14:21:01.890496Z",
     "iopub.status.busy": "2024-01-22T14:21:01.889480Z",
     "iopub.status.idle": "2024-01-22T14:21:01.902196Z",
     "shell.execute_reply": "2024-01-22T14:21:01.901358Z"
    },
    "papermill": {
     "duration": 0.042567,
     "end_time": "2024-01-22T14:21:01.904518",
     "exception": false,
     "start_time": "2024-01-22T14:21:01.861951",
     "status": "completed"
    },
    "tags": []
   },
   "outputs": [
    {
     "data": {
      "text/html": [
       "<div>\n",
       "<style scoped>\n",
       "    .dataframe tbody tr th:only-of-type {\n",
       "        vertical-align: middle;\n",
       "    }\n",
       "\n",
       "    .dataframe tbody tr th {\n",
       "        vertical-align: top;\n",
       "    }\n",
       "\n",
       "    .dataframe thead th {\n",
       "        text-align: right;\n",
       "    }\n",
       "</style>\n",
       "<table border=\"1\" class=\"dataframe\">\n",
       "  <thead>\n",
       "    <tr style=\"text-align: right;\">\n",
       "      <th></th>\n",
       "      <th></th>\n",
       "      <th>Yas</th>\n",
       "      <th>Meslek</th>\n",
       "    </tr>\n",
       "    <tr>\n",
       "      <th>Film Adı</th>\n",
       "      <th>İsim</th>\n",
       "      <th></th>\n",
       "      <th></th>\n",
       "    </tr>\n",
       "  </thead>\n",
       "  <tbody>\n",
       "    <tr>\n",
       "      <th rowspan=\"3\" valign=\"top\">Simpson</th>\n",
       "      <th>Homer</th>\n",
       "      <td>40</td>\n",
       "      <td>A</td>\n",
       "    </tr>\n",
       "    <tr>\n",
       "      <th>Bart</th>\n",
       "      <td>10</td>\n",
       "      <td>B</td>\n",
       "    </tr>\n",
       "    <tr>\n",
       "      <th>Marge</th>\n",
       "      <td>30</td>\n",
       "      <td>C</td>\n",
       "    </tr>\n",
       "    <tr>\n",
       "      <th rowspan=\"3\" valign=\"top\">South Park</th>\n",
       "      <th>Cartman</th>\n",
       "      <td>9</td>\n",
       "      <td>D</td>\n",
       "    </tr>\n",
       "    <tr>\n",
       "      <th>Kenny</th>\n",
       "      <td>10</td>\n",
       "      <td>E</td>\n",
       "    </tr>\n",
       "    <tr>\n",
       "      <th>Kyle</th>\n",
       "      <td>11</td>\n",
       "      <td>F</td>\n",
       "    </tr>\n",
       "  </tbody>\n",
       "</table>\n",
       "</div>"
      ],
      "text/plain": [
       "                   Yas Meslek\n",
       "Film Adı   İsim              \n",
       "Simpson    Homer    40      A\n",
       "           Bart     10      B\n",
       "           Marge    30      C\n",
       "South Park Cartman   9      D\n",
       "           Kenny    10      E\n",
       "           Kyle     11      F"
      ]
     },
     "execution_count": 30,
     "metadata": {},
     "output_type": "execute_result"
    }
   ],
   "source": [
    "myDataFrame.index.names = [\"Film Adı\", \"İsim\"]\n",
    "myDataFrame"
   ]
  },
  {
   "cell_type": "markdown",
   "id": "8779469f",
   "metadata": {
    "papermill": {
     "duration": 0.025542,
     "end_time": "2024-01-22T14:21:01.956406",
     "exception": false,
     "start_time": "2024-01-22T14:21:01.930864",
     "status": "completed"
    },
    "tags": []
   },
   "source": [
    "### EKSİK VERİLER"
   ]
  },
  {
   "cell_type": "code",
   "execution_count": 31,
   "id": "4e7865cb",
   "metadata": {
    "execution": {
     "iopub.execute_input": "2024-01-22T14:21:02.011885Z",
     "iopub.status.busy": "2024-01-22T14:21:02.011088Z",
     "iopub.status.idle": "2024-01-22T14:21:02.025072Z",
     "shell.execute_reply": "2024-01-22T14:21:02.023686Z"
    },
    "papermill": {
     "duration": 0.045332,
     "end_time": "2024-01-22T14:21:02.027825",
     "exception": false,
     "start_time": "2024-01-22T14:21:01.982493",
     "status": "completed"
    },
    "tags": []
   },
   "outputs": [
    {
     "data": {
      "text/html": [
       "<div>\n",
       "<style scoped>\n",
       "    .dataframe tbody tr th:only-of-type {\n",
       "        vertical-align: middle;\n",
       "    }\n",
       "\n",
       "    .dataframe tbody tr th {\n",
       "        vertical-align: top;\n",
       "    }\n",
       "\n",
       "    .dataframe thead th {\n",
       "        text-align: right;\n",
       "    }\n",
       "</style>\n",
       "<table border=\"1\" class=\"dataframe\">\n",
       "  <thead>\n",
       "    <tr style=\"text-align: right;\">\n",
       "      <th></th>\n",
       "      <th>Istanbul</th>\n",
       "      <th>Ankara</th>\n",
       "      <th>Izmir</th>\n",
       "    </tr>\n",
       "  </thead>\n",
       "  <tbody>\n",
       "    <tr>\n",
       "      <th>0</th>\n",
       "      <td>32.0</td>\n",
       "      <td>11.0</td>\n",
       "      <td>27</td>\n",
       "    </tr>\n",
       "    <tr>\n",
       "      <th>1</th>\n",
       "      <td>37.0</td>\n",
       "      <td>NaN</td>\n",
       "      <td>33</td>\n",
       "    </tr>\n",
       "    <tr>\n",
       "      <th>2</th>\n",
       "      <td>NaN</td>\n",
       "      <td>NaN</td>\n",
       "      <td>34</td>\n",
       "    </tr>\n",
       "  </tbody>\n",
       "</table>\n",
       "</div>"
      ],
      "text/plain": [
       "   Istanbul  Ankara  Izmir\n",
       "0      32.0    11.0     27\n",
       "1      37.0     NaN     33\n",
       "2       NaN     NaN     34"
      ]
     },
     "execution_count": 31,
     "metadata": {},
     "output_type": "execute_result"
    }
   ],
   "source": [
    "myDictionary = {\"Istanbul\" : [32,37,np.nan], \"Ankara\" : [11,np.nan,np.nan],\"Izmir\" : [27,33,34],}\n",
    "weatherDataFrame = pd.DataFrame(myDictionary)\n",
    "weatherDataFrame"
   ]
  },
  {
   "cell_type": "code",
   "execution_count": 32,
   "id": "f1677909",
   "metadata": {
    "execution": {
     "iopub.execute_input": "2024-01-22T14:21:02.083027Z",
     "iopub.status.busy": "2024-01-22T14:21:02.082372Z",
     "iopub.status.idle": "2024-01-22T14:21:02.093989Z",
     "shell.execute_reply": "2024-01-22T14:21:02.092832Z"
    },
    "papermill": {
     "duration": 0.041895,
     "end_time": "2024-01-22T14:21:02.096337",
     "exception": false,
     "start_time": "2024-01-22T14:21:02.054442",
     "status": "completed"
    },
    "tags": []
   },
   "outputs": [
    {
     "data": {
      "text/html": [
       "<div>\n",
       "<style scoped>\n",
       "    .dataframe tbody tr th:only-of-type {\n",
       "        vertical-align: middle;\n",
       "    }\n",
       "\n",
       "    .dataframe tbody tr th {\n",
       "        vertical-align: top;\n",
       "    }\n",
       "\n",
       "    .dataframe thead th {\n",
       "        text-align: right;\n",
       "    }\n",
       "</style>\n",
       "<table border=\"1\" class=\"dataframe\">\n",
       "  <thead>\n",
       "    <tr style=\"text-align: right;\">\n",
       "      <th></th>\n",
       "      <th>Istanbul</th>\n",
       "      <th>Ankara</th>\n",
       "      <th>Izmir</th>\n",
       "    </tr>\n",
       "  </thead>\n",
       "  <tbody>\n",
       "    <tr>\n",
       "      <th>0</th>\n",
       "      <td>32.0</td>\n",
       "      <td>11.0</td>\n",
       "      <td>27</td>\n",
       "    </tr>\n",
       "  </tbody>\n",
       "</table>\n",
       "</div>"
      ],
      "text/plain": [
       "   Istanbul  Ankara  Izmir\n",
       "0      32.0    11.0     27"
      ]
     },
     "execution_count": 32,
     "metadata": {},
     "output_type": "execute_result"
    }
   ],
   "source": [
    "weatherDataFrame.dropna()\n",
    "# weatherDataFrame'den silinmez!!!"
   ]
  },
  {
   "cell_type": "code",
   "execution_count": 33,
   "id": "bc8f7513",
   "metadata": {
    "execution": {
     "iopub.execute_input": "2024-01-22T14:21:02.150832Z",
     "iopub.status.busy": "2024-01-22T14:21:02.150213Z",
     "iopub.status.idle": "2024-01-22T14:21:02.160783Z",
     "shell.execute_reply": "2024-01-22T14:21:02.159510Z"
    },
    "papermill": {
     "duration": 0.040933,
     "end_time": "2024-01-22T14:21:02.163417",
     "exception": false,
     "start_time": "2024-01-22T14:21:02.122484",
     "status": "completed"
    },
    "tags": []
   },
   "outputs": [
    {
     "data": {
      "text/html": [
       "<div>\n",
       "<style scoped>\n",
       "    .dataframe tbody tr th:only-of-type {\n",
       "        vertical-align: middle;\n",
       "    }\n",
       "\n",
       "    .dataframe tbody tr th {\n",
       "        vertical-align: top;\n",
       "    }\n",
       "\n",
       "    .dataframe thead th {\n",
       "        text-align: right;\n",
       "    }\n",
       "</style>\n",
       "<table border=\"1\" class=\"dataframe\">\n",
       "  <thead>\n",
       "    <tr style=\"text-align: right;\">\n",
       "      <th></th>\n",
       "      <th>Izmir</th>\n",
       "    </tr>\n",
       "  </thead>\n",
       "  <tbody>\n",
       "    <tr>\n",
       "      <th>0</th>\n",
       "      <td>27</td>\n",
       "    </tr>\n",
       "    <tr>\n",
       "      <th>1</th>\n",
       "      <td>33</td>\n",
       "    </tr>\n",
       "    <tr>\n",
       "      <th>2</th>\n",
       "      <td>34</td>\n",
       "    </tr>\n",
       "  </tbody>\n",
       "</table>\n",
       "</div>"
      ],
      "text/plain": [
       "   Izmir\n",
       "0     27\n",
       "1     33\n",
       "2     34"
      ]
     },
     "execution_count": 33,
     "metadata": {},
     "output_type": "execute_result"
    }
   ],
   "source": [
    "weatherDataFrame.dropna(axis = 1)"
   ]
  },
  {
   "cell_type": "code",
   "execution_count": 34,
   "id": "5f385b07",
   "metadata": {
    "execution": {
     "iopub.execute_input": "2024-01-22T14:21:02.218179Z",
     "iopub.status.busy": "2024-01-22T14:21:02.217779Z",
     "iopub.status.idle": "2024-01-22T14:21:02.231203Z",
     "shell.execute_reply": "2024-01-22T14:21:02.230092Z"
    },
    "papermill": {
     "duration": 0.04369,
     "end_time": "2024-01-22T14:21:02.233720",
     "exception": false,
     "start_time": "2024-01-22T14:21:02.190030",
     "status": "completed"
    },
    "tags": []
   },
   "outputs": [
    {
     "data": {
      "text/html": [
       "<div>\n",
       "<style scoped>\n",
       "    .dataframe tbody tr th:only-of-type {\n",
       "        vertical-align: middle;\n",
       "    }\n",
       "\n",
       "    .dataframe tbody tr th {\n",
       "        vertical-align: top;\n",
       "    }\n",
       "\n",
       "    .dataframe thead th {\n",
       "        text-align: right;\n",
       "    }\n",
       "</style>\n",
       "<table border=\"1\" class=\"dataframe\">\n",
       "  <thead>\n",
       "    <tr style=\"text-align: right;\">\n",
       "      <th></th>\n",
       "      <th>Istanbul</th>\n",
       "      <th>Izmir</th>\n",
       "    </tr>\n",
       "  </thead>\n",
       "  <tbody>\n",
       "    <tr>\n",
       "      <th>0</th>\n",
       "      <td>32.0</td>\n",
       "      <td>27</td>\n",
       "    </tr>\n",
       "    <tr>\n",
       "      <th>1</th>\n",
       "      <td>37.0</td>\n",
       "      <td>33</td>\n",
       "    </tr>\n",
       "    <tr>\n",
       "      <th>2</th>\n",
       "      <td>NaN</td>\n",
       "      <td>34</td>\n",
       "    </tr>\n",
       "  </tbody>\n",
       "</table>\n",
       "</div>"
      ],
      "text/plain": [
       "   Istanbul  Izmir\n",
       "0      32.0     27\n",
       "1      37.0     33\n",
       "2       NaN     34"
      ]
     },
     "execution_count": 34,
     "metadata": {},
     "output_type": "execute_result"
    }
   ],
   "source": [
    "# birden fazla NaN olan sütunları düşür\n",
    "weatherDataFrame.dropna(axis = 1 , thresh = 2)"
   ]
  },
  {
   "cell_type": "code",
   "execution_count": 35,
   "id": "54cdc476",
   "metadata": {
    "execution": {
     "iopub.execute_input": "2024-01-22T14:21:02.290222Z",
     "iopub.status.busy": "2024-01-22T14:21:02.289500Z",
     "iopub.status.idle": "2024-01-22T14:21:02.302343Z",
     "shell.execute_reply": "2024-01-22T14:21:02.301179Z"
    },
    "papermill": {
     "duration": 0.044047,
     "end_time": "2024-01-22T14:21:02.304725",
     "exception": false,
     "start_time": "2024-01-22T14:21:02.260678",
     "status": "completed"
    },
    "tags": []
   },
   "outputs": [
    {
     "data": {
      "text/html": [
       "<div>\n",
       "<style scoped>\n",
       "    .dataframe tbody tr th:only-of-type {\n",
       "        vertical-align: middle;\n",
       "    }\n",
       "\n",
       "    .dataframe tbody tr th {\n",
       "        vertical-align: top;\n",
       "    }\n",
       "\n",
       "    .dataframe thead th {\n",
       "        text-align: right;\n",
       "    }\n",
       "</style>\n",
       "<table border=\"1\" class=\"dataframe\">\n",
       "  <thead>\n",
       "    <tr style=\"text-align: right;\">\n",
       "      <th></th>\n",
       "      <th>Istanbul</th>\n",
       "      <th>Ankara</th>\n",
       "      <th>Izmir</th>\n",
       "    </tr>\n",
       "  </thead>\n",
       "  <tbody>\n",
       "    <tr>\n",
       "      <th>0</th>\n",
       "      <td>32.0</td>\n",
       "      <td>11.0</td>\n",
       "      <td>27</td>\n",
       "    </tr>\n",
       "    <tr>\n",
       "      <th>1</th>\n",
       "      <td>37.0</td>\n",
       "      <td>20.0</td>\n",
       "      <td>33</td>\n",
       "    </tr>\n",
       "    <tr>\n",
       "      <th>2</th>\n",
       "      <td>20.0</td>\n",
       "      <td>20.0</td>\n",
       "      <td>34</td>\n",
       "    </tr>\n",
       "  </tbody>\n",
       "</table>\n",
       "</div>"
      ],
      "text/plain": [
       "   Istanbul  Ankara  Izmir\n",
       "0      32.0    11.0     27\n",
       "1      37.0    20.0     33\n",
       "2      20.0    20.0     34"
      ]
     },
     "execution_count": 35,
     "metadata": {},
     "output_type": "execute_result"
    }
   ],
   "source": [
    "weatherDataFrame.fillna(20)"
   ]
  },
  {
   "cell_type": "markdown",
   "id": "cbb28747",
   "metadata": {
    "papermill": {
     "duration": 0.02722,
     "end_time": "2024-01-22T14:21:02.360453",
     "exception": false,
     "start_time": "2024-01-22T14:21:02.333233",
     "status": "completed"
    },
    "tags": []
   },
   "source": [
    "### GROUP BY"
   ]
  },
  {
   "cell_type": "code",
   "execution_count": 36,
   "id": "fd5c3f53",
   "metadata": {
    "execution": {
     "iopub.execute_input": "2024-01-22T14:21:02.415928Z",
     "iopub.status.busy": "2024-01-22T14:21:02.415485Z",
     "iopub.status.idle": "2024-01-22T14:21:02.429735Z",
     "shell.execute_reply": "2024-01-22T14:21:02.428624Z"
    },
    "papermill": {
     "duration": 0.045198,
     "end_time": "2024-01-22T14:21:02.432430",
     "exception": false,
     "start_time": "2024-01-22T14:21:02.387232",
     "status": "completed"
    },
    "tags": []
   },
   "outputs": [
    {
     "data": {
      "text/html": [
       "<div>\n",
       "<style scoped>\n",
       "    .dataframe tbody tr th:only-of-type {\n",
       "        vertical-align: middle;\n",
       "    }\n",
       "\n",
       "    .dataframe tbody tr th {\n",
       "        vertical-align: top;\n",
       "    }\n",
       "\n",
       "    .dataframe thead th {\n",
       "        text-align: right;\n",
       "    }\n",
       "</style>\n",
       "<table border=\"1\" class=\"dataframe\">\n",
       "  <thead>\n",
       "    <tr style=\"text-align: right;\">\n",
       "      <th></th>\n",
       "      <th>Departman</th>\n",
       "      <th>Calisan</th>\n",
       "      <th>Maas</th>\n",
       "    </tr>\n",
       "  </thead>\n",
       "  <tbody>\n",
       "    <tr>\n",
       "      <th>0</th>\n",
       "      <td>Satis</td>\n",
       "      <td>Mehmet</td>\n",
       "      <td>15000</td>\n",
       "    </tr>\n",
       "    <tr>\n",
       "      <th>1</th>\n",
       "      <td>Satis</td>\n",
       "      <td>Asli</td>\n",
       "      <td>18000</td>\n",
       "    </tr>\n",
       "    <tr>\n",
       "      <th>2</th>\n",
       "      <td>Pazarlama</td>\n",
       "      <td>Burcu</td>\n",
       "      <td>21000</td>\n",
       "    </tr>\n",
       "    <tr>\n",
       "      <th>3</th>\n",
       "      <td>Pazarlama</td>\n",
       "      <td>Deniz</td>\n",
       "      <td>20000</td>\n",
       "    </tr>\n",
       "    <tr>\n",
       "      <th>4</th>\n",
       "      <td>Yazilim</td>\n",
       "      <td>Huseyin</td>\n",
       "      <td>24000</td>\n",
       "    </tr>\n",
       "    <tr>\n",
       "      <th>5</th>\n",
       "      <td>Yazilim</td>\n",
       "      <td>Duru</td>\n",
       "      <td>25000</td>\n",
       "    </tr>\n",
       "  </tbody>\n",
       "</table>\n",
       "</div>"
      ],
      "text/plain": [
       "   Departman  Calisan   Maas\n",
       "0      Satis   Mehmet  15000\n",
       "1      Satis     Asli  18000\n",
       "2  Pazarlama    Burcu  21000\n",
       "3  Pazarlama    Deniz  20000\n",
       "4    Yazilim  Huseyin  24000\n",
       "5    Yazilim     Duru  25000"
      ]
     },
     "execution_count": 36,
     "metadata": {},
     "output_type": "execute_result"
    }
   ],
   "source": [
    "salaryDict = {\"Departman\" : [\"Satis\", \"Satis\", \"Pazarlama\", \"Pazarlama\", \"Yazilim\", \"Yazilim\"], \n",
    "              \"Calisan\" : [\"Mehmet\", \"Asli\", \"Burcu\", \"Deniz\", \"Huseyin\", \"Duru\"],\n",
    "              \"Maas\" : [15000, 18000, 21000, 20000, 24000, 25000]\n",
    "             }\n",
    "salaryDataFrame = pd.DataFrame(salaryDict)\n",
    "salaryDataFrame"
   ]
  },
  {
   "cell_type": "code",
   "execution_count": 37,
   "id": "03da9a76",
   "metadata": {
    "execution": {
     "iopub.execute_input": "2024-01-22T14:21:02.488084Z",
     "iopub.status.busy": "2024-01-22T14:21:02.487697Z",
     "iopub.status.idle": "2024-01-22T14:21:02.499723Z",
     "shell.execute_reply": "2024-01-22T14:21:02.498407Z"
    },
    "papermill": {
     "duration": 0.042818,
     "end_time": "2024-01-22T14:21:02.502139",
     "exception": false,
     "start_time": "2024-01-22T14:21:02.459321",
     "status": "completed"
    },
    "tags": []
   },
   "outputs": [
    {
     "data": {
      "text/html": [
       "<div>\n",
       "<style scoped>\n",
       "    .dataframe tbody tr th:only-of-type {\n",
       "        vertical-align: middle;\n",
       "    }\n",
       "\n",
       "    .dataframe tbody tr th {\n",
       "        vertical-align: top;\n",
       "    }\n",
       "\n",
       "    .dataframe thead th {\n",
       "        text-align: right;\n",
       "    }\n",
       "</style>\n",
       "<table border=\"1\" class=\"dataframe\">\n",
       "  <thead>\n",
       "    <tr style=\"text-align: right;\">\n",
       "      <th></th>\n",
       "      <th>Calisan</th>\n",
       "      <th>Maas</th>\n",
       "    </tr>\n",
       "    <tr>\n",
       "      <th>Departman</th>\n",
       "      <th></th>\n",
       "      <th></th>\n",
       "    </tr>\n",
       "  </thead>\n",
       "  <tbody>\n",
       "    <tr>\n",
       "      <th>Pazarlama</th>\n",
       "      <td>2</td>\n",
       "      <td>2</td>\n",
       "    </tr>\n",
       "    <tr>\n",
       "      <th>Satis</th>\n",
       "      <td>2</td>\n",
       "      <td>2</td>\n",
       "    </tr>\n",
       "    <tr>\n",
       "      <th>Yazilim</th>\n",
       "      <td>2</td>\n",
       "      <td>2</td>\n",
       "    </tr>\n",
       "  </tbody>\n",
       "</table>\n",
       "</div>"
      ],
      "text/plain": [
       "           Calisan  Maas\n",
       "Departman               \n",
       "Pazarlama        2     2\n",
       "Satis            2     2\n",
       "Yazilim          2     2"
      ]
     },
     "execution_count": 37,
     "metadata": {},
     "output_type": "execute_result"
    }
   ],
   "source": [
    "resultData = salaryDataFrame.groupby(\"Departman\")\n",
    "resultData.count()"
   ]
  },
  {
   "cell_type": "code",
   "execution_count": 38,
   "id": "91eefde9",
   "metadata": {
    "execution": {
     "iopub.execute_input": "2024-01-22T14:21:02.560579Z",
     "iopub.status.busy": "2024-01-22T14:21:02.560198Z",
     "iopub.status.idle": "2024-01-22T14:21:02.575311Z",
     "shell.execute_reply": "2024-01-22T14:21:02.573993Z"
    },
    "papermill": {
     "duration": 0.047476,
     "end_time": "2024-01-22T14:21:02.577768",
     "exception": false,
     "start_time": "2024-01-22T14:21:02.530292",
     "status": "completed"
    },
    "tags": []
   },
   "outputs": [
    {
     "data": {
      "text/html": [
       "<div>\n",
       "<style scoped>\n",
       "    .dataframe tbody tr th:only-of-type {\n",
       "        vertical-align: middle;\n",
       "    }\n",
       "\n",
       "    .dataframe tbody tr th {\n",
       "        vertical-align: top;\n",
       "    }\n",
       "\n",
       "    .dataframe thead th {\n",
       "        text-align: right;\n",
       "    }\n",
       "</style>\n",
       "<table border=\"1\" class=\"dataframe\">\n",
       "  <thead>\n",
       "    <tr style=\"text-align: right;\">\n",
       "      <th></th>\n",
       "      <th>Maas</th>\n",
       "    </tr>\n",
       "    <tr>\n",
       "      <th>Departman</th>\n",
       "      <th></th>\n",
       "    </tr>\n",
       "  </thead>\n",
       "  <tbody>\n",
       "    <tr>\n",
       "      <th>Pazarlama</th>\n",
       "      <td>20500.0</td>\n",
       "    </tr>\n",
       "    <tr>\n",
       "      <th>Satis</th>\n",
       "      <td>16500.0</td>\n",
       "    </tr>\n",
       "    <tr>\n",
       "      <th>Yazilim</th>\n",
       "      <td>24500.0</td>\n",
       "    </tr>\n",
       "  </tbody>\n",
       "</table>\n",
       "</div>"
      ],
      "text/plain": [
       "              Maas\n",
       "Departman         \n",
       "Pazarlama  20500.0\n",
       "Satis      16500.0\n",
       "Yazilim    24500.0"
      ]
     },
     "execution_count": 38,
     "metadata": {},
     "output_type": "execute_result"
    }
   ],
   "source": [
    "resultData.mean(\"Maas\")"
   ]
  },
  {
   "cell_type": "code",
   "execution_count": 39,
   "id": "104d37f0",
   "metadata": {
    "execution": {
     "iopub.execute_input": "2024-01-22T14:21:02.635989Z",
     "iopub.status.busy": "2024-01-22T14:21:02.635554Z",
     "iopub.status.idle": "2024-01-22T14:21:02.649775Z",
     "shell.execute_reply": "2024-01-22T14:21:02.648963Z"
    },
    "papermill": {
     "duration": 0.045774,
     "end_time": "2024-01-22T14:21:02.652125",
     "exception": false,
     "start_time": "2024-01-22T14:21:02.606351",
     "status": "completed"
    },
    "tags": []
   },
   "outputs": [
    {
     "data": {
      "text/html": [
       "<div>\n",
       "<style scoped>\n",
       "    .dataframe tbody tr th:only-of-type {\n",
       "        vertical-align: middle;\n",
       "    }\n",
       "\n",
       "    .dataframe tbody tr th {\n",
       "        vertical-align: top;\n",
       "    }\n",
       "\n",
       "    .dataframe thead th {\n",
       "        text-align: right;\n",
       "    }\n",
       "</style>\n",
       "<table border=\"1\" class=\"dataframe\">\n",
       "  <thead>\n",
       "    <tr style=\"text-align: right;\">\n",
       "      <th></th>\n",
       "      <th>Calisan</th>\n",
       "      <th>Maas</th>\n",
       "    </tr>\n",
       "    <tr>\n",
       "      <th>Departman</th>\n",
       "      <th></th>\n",
       "      <th></th>\n",
       "    </tr>\n",
       "  </thead>\n",
       "  <tbody>\n",
       "    <tr>\n",
       "      <th>Pazarlama</th>\n",
       "      <td>Deniz</td>\n",
       "      <td>21000</td>\n",
       "    </tr>\n",
       "    <tr>\n",
       "      <th>Satis</th>\n",
       "      <td>Mehmet</td>\n",
       "      <td>18000</td>\n",
       "    </tr>\n",
       "    <tr>\n",
       "      <th>Yazilim</th>\n",
       "      <td>Huseyin</td>\n",
       "      <td>25000</td>\n",
       "    </tr>\n",
       "  </tbody>\n",
       "</table>\n",
       "</div>"
      ],
      "text/plain": [
       "           Calisan   Maas\n",
       "Departman                \n",
       "Pazarlama    Deniz  21000\n",
       "Satis       Mehmet  18000\n",
       "Yazilim    Huseyin  25000"
      ]
     },
     "execution_count": 39,
     "metadata": {},
     "output_type": "execute_result"
    }
   ],
   "source": [
    "# Departmandaki en yüksek maaşlar\n",
    "resultData.max()"
   ]
  },
  {
   "cell_type": "code",
   "execution_count": 40,
   "id": "062549f9",
   "metadata": {
    "execution": {
     "iopub.execute_input": "2024-01-22T14:21:02.710287Z",
     "iopub.status.busy": "2024-01-22T14:21:02.709726Z",
     "iopub.status.idle": "2024-01-22T14:21:02.722243Z",
     "shell.execute_reply": "2024-01-22T14:21:02.720970Z"
    },
    "papermill": {
     "duration": 0.044742,
     "end_time": "2024-01-22T14:21:02.724681",
     "exception": false,
     "start_time": "2024-01-22T14:21:02.679939",
     "status": "completed"
    },
    "tags": []
   },
   "outputs": [
    {
     "data": {
      "text/html": [
       "<div>\n",
       "<style scoped>\n",
       "    .dataframe tbody tr th:only-of-type {\n",
       "        vertical-align: middle;\n",
       "    }\n",
       "\n",
       "    .dataframe tbody tr th {\n",
       "        vertical-align: top;\n",
       "    }\n",
       "\n",
       "    .dataframe thead th {\n",
       "        text-align: right;\n",
       "    }\n",
       "</style>\n",
       "<table border=\"1\" class=\"dataframe\">\n",
       "  <thead>\n",
       "    <tr style=\"text-align: right;\">\n",
       "      <th></th>\n",
       "      <th>Calisan</th>\n",
       "      <th>Maas</th>\n",
       "    </tr>\n",
       "    <tr>\n",
       "      <th>Departman</th>\n",
       "      <th></th>\n",
       "      <th></th>\n",
       "    </tr>\n",
       "  </thead>\n",
       "  <tbody>\n",
       "    <tr>\n",
       "      <th>Pazarlama</th>\n",
       "      <td>Burcu</td>\n",
       "      <td>20000</td>\n",
       "    </tr>\n",
       "    <tr>\n",
       "      <th>Satis</th>\n",
       "      <td>Asli</td>\n",
       "      <td>15000</td>\n",
       "    </tr>\n",
       "    <tr>\n",
       "      <th>Yazilim</th>\n",
       "      <td>Duru</td>\n",
       "      <td>24000</td>\n",
       "    </tr>\n",
       "  </tbody>\n",
       "</table>\n",
       "</div>"
      ],
      "text/plain": [
       "          Calisan   Maas\n",
       "Departman               \n",
       "Pazarlama   Burcu  20000\n",
       "Satis        Asli  15000\n",
       "Yazilim      Duru  24000"
      ]
     },
     "execution_count": 40,
     "metadata": {},
     "output_type": "execute_result"
    }
   ],
   "source": [
    "# Departmandaki en düşük maaşlar\n",
    "resultData.min()"
   ]
  },
  {
   "cell_type": "code",
   "execution_count": 41,
   "id": "9af6af7a",
   "metadata": {
    "execution": {
     "iopub.execute_input": "2024-01-22T14:21:02.782877Z",
     "iopub.status.busy": "2024-01-22T14:21:02.782454Z",
     "iopub.status.idle": "2024-01-22T14:21:02.821213Z",
     "shell.execute_reply": "2024-01-22T14:21:02.819944Z"
    },
    "papermill": {
     "duration": 0.071099,
     "end_time": "2024-01-22T14:21:02.823928",
     "exception": false,
     "start_time": "2024-01-22T14:21:02.752829",
     "status": "completed"
    },
    "tags": []
   },
   "outputs": [
    {
     "data": {
      "text/html": [
       "<div>\n",
       "<style scoped>\n",
       "    .dataframe tbody tr th:only-of-type {\n",
       "        vertical-align: middle;\n",
       "    }\n",
       "\n",
       "    .dataframe tbody tr th {\n",
       "        vertical-align: top;\n",
       "    }\n",
       "\n",
       "    .dataframe thead tr th {\n",
       "        text-align: left;\n",
       "    }\n",
       "\n",
       "    .dataframe thead tr:last-of-type th {\n",
       "        text-align: right;\n",
       "    }\n",
       "</style>\n",
       "<table border=\"1\" class=\"dataframe\">\n",
       "  <thead>\n",
       "    <tr>\n",
       "      <th></th>\n",
       "      <th colspan=\"8\" halign=\"left\">Maas</th>\n",
       "    </tr>\n",
       "    <tr>\n",
       "      <th></th>\n",
       "      <th>count</th>\n",
       "      <th>mean</th>\n",
       "      <th>std</th>\n",
       "      <th>min</th>\n",
       "      <th>25%</th>\n",
       "      <th>50%</th>\n",
       "      <th>75%</th>\n",
       "      <th>max</th>\n",
       "    </tr>\n",
       "    <tr>\n",
       "      <th>Departman</th>\n",
       "      <th></th>\n",
       "      <th></th>\n",
       "      <th></th>\n",
       "      <th></th>\n",
       "      <th></th>\n",
       "      <th></th>\n",
       "      <th></th>\n",
       "      <th></th>\n",
       "    </tr>\n",
       "  </thead>\n",
       "  <tbody>\n",
       "    <tr>\n",
       "      <th>Pazarlama</th>\n",
       "      <td>2.0</td>\n",
       "      <td>20500.0</td>\n",
       "      <td>707.106781</td>\n",
       "      <td>20000.0</td>\n",
       "      <td>20250.0</td>\n",
       "      <td>20500.0</td>\n",
       "      <td>20750.0</td>\n",
       "      <td>21000.0</td>\n",
       "    </tr>\n",
       "    <tr>\n",
       "      <th>Satis</th>\n",
       "      <td>2.0</td>\n",
       "      <td>16500.0</td>\n",
       "      <td>2121.320344</td>\n",
       "      <td>15000.0</td>\n",
       "      <td>15750.0</td>\n",
       "      <td>16500.0</td>\n",
       "      <td>17250.0</td>\n",
       "      <td>18000.0</td>\n",
       "    </tr>\n",
       "    <tr>\n",
       "      <th>Yazilim</th>\n",
       "      <td>2.0</td>\n",
       "      <td>24500.0</td>\n",
       "      <td>707.106781</td>\n",
       "      <td>24000.0</td>\n",
       "      <td>24250.0</td>\n",
       "      <td>24500.0</td>\n",
       "      <td>24750.0</td>\n",
       "      <td>25000.0</td>\n",
       "    </tr>\n",
       "  </tbody>\n",
       "</table>\n",
       "</div>"
      ],
      "text/plain": [
       "           Maas                                                            \\\n",
       "          count     mean          std      min      25%      50%      75%   \n",
       "Departman                                                                   \n",
       "Pazarlama   2.0  20500.0   707.106781  20000.0  20250.0  20500.0  20750.0   \n",
       "Satis       2.0  16500.0  2121.320344  15000.0  15750.0  16500.0  17250.0   \n",
       "Yazilim     2.0  24500.0   707.106781  24000.0  24250.0  24500.0  24750.0   \n",
       "\n",
       "                    \n",
       "               max  \n",
       "Departman           \n",
       "Pazarlama  21000.0  \n",
       "Satis      18000.0  \n",
       "Yazilim    25000.0  "
      ]
     },
     "execution_count": 41,
     "metadata": {},
     "output_type": "execute_result"
    }
   ],
   "source": [
    "resultData.describe()"
   ]
  },
  {
   "cell_type": "markdown",
   "id": "5f66f694",
   "metadata": {
    "papermill": {
     "duration": 0.029197,
     "end_time": "2024-01-22T14:21:02.881717",
     "exception": false,
     "start_time": "2024-01-22T14:21:02.852520",
     "status": "completed"
    },
    "tags": []
   },
   "source": [
    "### concat"
   ]
  },
  {
   "cell_type": "code",
   "execution_count": 42,
   "id": "fbbd3f89",
   "metadata": {
    "execution": {
     "iopub.execute_input": "2024-01-22T14:21:02.940408Z",
     "iopub.status.busy": "2024-01-22T14:21:02.940000Z",
     "iopub.status.idle": "2024-01-22T14:21:02.953773Z",
     "shell.execute_reply": "2024-01-22T14:21:02.952483Z"
    },
    "papermill": {
     "duration": 0.046177,
     "end_time": "2024-01-22T14:21:02.956270",
     "exception": false,
     "start_time": "2024-01-22T14:21:02.910093",
     "status": "completed"
    },
    "tags": []
   },
   "outputs": [
    {
     "data": {
      "text/html": [
       "<div>\n",
       "<style scoped>\n",
       "    .dataframe tbody tr th:only-of-type {\n",
       "        vertical-align: middle;\n",
       "    }\n",
       "\n",
       "    .dataframe tbody tr th {\n",
       "        vertical-align: top;\n",
       "    }\n",
       "\n",
       "    .dataframe thead th {\n",
       "        text-align: right;\n",
       "    }\n",
       "</style>\n",
       "<table border=\"1\" class=\"dataframe\">\n",
       "  <thead>\n",
       "    <tr style=\"text-align: right;\">\n",
       "      <th></th>\n",
       "      <th>Isim</th>\n",
       "      <th>Spor</th>\n",
       "      <th>Kalori</th>\n",
       "    </tr>\n",
       "  </thead>\n",
       "  <tbody>\n",
       "    <tr>\n",
       "      <th>0</th>\n",
       "      <td>Ahmet</td>\n",
       "      <td>Koşu</td>\n",
       "      <td>100</td>\n",
       "    </tr>\n",
       "    <tr>\n",
       "      <th>1</th>\n",
       "      <td>Beren</td>\n",
       "      <td>Yüzme</td>\n",
       "      <td>200</td>\n",
       "    </tr>\n",
       "    <tr>\n",
       "      <th>2</th>\n",
       "      <td>Huseyin</td>\n",
       "      <td>Yüzme</td>\n",
       "      <td>300</td>\n",
       "    </tr>\n",
       "    <tr>\n",
       "      <th>3</th>\n",
       "      <td>Aslı</td>\n",
       "      <td>Basketbol</td>\n",
       "      <td>400</td>\n",
       "    </tr>\n",
       "  </tbody>\n",
       "</table>\n",
       "</div>"
      ],
      "text/plain": [
       "      Isim       Spor  Kalori\n",
       "0    Ahmet       Koşu     100\n",
       "1    Beren      Yüzme     200\n",
       "2  Huseyin      Yüzme     300\n",
       "3     Aslı  Basketbol     400"
      ]
     },
     "execution_count": 42,
     "metadata": {},
     "output_type": "execute_result"
    }
   ],
   "source": [
    "dictionary1 = {\"Isim\" : [\"Ahmet\",\"Beren\",\"Huseyin\",\"Aslı\"],\n",
    "               \"Spor\" : [\"Koşu\", \"Yüzme\", \"Yüzme\", \"Basketbol\"],\n",
    "               \"Kalori\" : [100,200,300,400]\n",
    "              }\n",
    "dataFrame1 = pd.DataFrame(dictionary1, index = [0,1,2,3])\n",
    "dataFrame1"
   ]
  },
  {
   "cell_type": "code",
   "execution_count": 43,
   "id": "a37be38d",
   "metadata": {
    "execution": {
     "iopub.execute_input": "2024-01-22T14:21:03.019422Z",
     "iopub.status.busy": "2024-01-22T14:21:03.019010Z",
     "iopub.status.idle": "2024-01-22T14:21:03.033031Z",
     "shell.execute_reply": "2024-01-22T14:21:03.031901Z"
    },
    "papermill": {
     "duration": 0.048833,
     "end_time": "2024-01-22T14:21:03.035442",
     "exception": false,
     "start_time": "2024-01-22T14:21:02.986609",
     "status": "completed"
    },
    "tags": []
   },
   "outputs": [
    {
     "data": {
      "text/html": [
       "<div>\n",
       "<style scoped>\n",
       "    .dataframe tbody tr th:only-of-type {\n",
       "        vertical-align: middle;\n",
       "    }\n",
       "\n",
       "    .dataframe tbody tr th {\n",
       "        vertical-align: top;\n",
       "    }\n",
       "\n",
       "    .dataframe thead th {\n",
       "        text-align: right;\n",
       "    }\n",
       "</style>\n",
       "<table border=\"1\" class=\"dataframe\">\n",
       "  <thead>\n",
       "    <tr style=\"text-align: right;\">\n",
       "      <th></th>\n",
       "      <th>Isim</th>\n",
       "      <th>Spor</th>\n",
       "      <th>Kalori</th>\n",
       "    </tr>\n",
       "  </thead>\n",
       "  <tbody>\n",
       "    <tr>\n",
       "      <th>4</th>\n",
       "      <td>Deniz</td>\n",
       "      <td>Yüzme</td>\n",
       "      <td>200</td>\n",
       "    </tr>\n",
       "    <tr>\n",
       "      <th>5</th>\n",
       "      <td>Yağmur</td>\n",
       "      <td>Basketbol</td>\n",
       "      <td>100</td>\n",
       "    </tr>\n",
       "    <tr>\n",
       "      <th>6</th>\n",
       "      <td>Nehir</td>\n",
       "      <td>Koşu</td>\n",
       "      <td>400</td>\n",
       "    </tr>\n",
       "    <tr>\n",
       "      <th>7</th>\n",
       "      <td>Dere</td>\n",
       "      <td>Basketbol</td>\n",
       "      <td>300</td>\n",
       "    </tr>\n",
       "  </tbody>\n",
       "</table>\n",
       "</div>"
      ],
      "text/plain": [
       "     Isim       Spor  Kalori\n",
       "4   Deniz      Yüzme     200\n",
       "5  Yağmur  Basketbol     100\n",
       "6   Nehir       Koşu     400\n",
       "7    Dere  Basketbol     300"
      ]
     },
     "execution_count": 43,
     "metadata": {},
     "output_type": "execute_result"
    }
   ],
   "source": [
    "dictionary2 = {\"Isim\" : [\"Deniz\",\"Yağmur\",\"Nehir\",\"Dere\"],\n",
    "               \"Spor\" : [\"Yüzme\", \"Basketbol\", \"Koşu\", \"Basketbol\"],\n",
    "               \"Kalori\" : [200,100,400,300]\n",
    "              }\n",
    "dataFrame2 = pd.DataFrame(dictionary2, index = [4,5,6,7])\n",
    "dataFrame2"
   ]
  },
  {
   "cell_type": "code",
   "execution_count": 44,
   "id": "54979c1a",
   "metadata": {
    "execution": {
     "iopub.execute_input": "2024-01-22T14:21:03.097258Z",
     "iopub.status.busy": "2024-01-22T14:21:03.096811Z",
     "iopub.status.idle": "2024-01-22T14:21:03.110793Z",
     "shell.execute_reply": "2024-01-22T14:21:03.109718Z"
    },
    "papermill": {
     "duration": 0.046961,
     "end_time": "2024-01-22T14:21:03.113062",
     "exception": false,
     "start_time": "2024-01-22T14:21:03.066101",
     "status": "completed"
    },
    "tags": []
   },
   "outputs": [
    {
     "data": {
      "text/html": [
       "<div>\n",
       "<style scoped>\n",
       "    .dataframe tbody tr th:only-of-type {\n",
       "        vertical-align: middle;\n",
       "    }\n",
       "\n",
       "    .dataframe tbody tr th {\n",
       "        vertical-align: top;\n",
       "    }\n",
       "\n",
       "    .dataframe thead th {\n",
       "        text-align: right;\n",
       "    }\n",
       "</style>\n",
       "<table border=\"1\" class=\"dataframe\">\n",
       "  <thead>\n",
       "    <tr style=\"text-align: right;\">\n",
       "      <th></th>\n",
       "      <th>Isim</th>\n",
       "      <th>Spor</th>\n",
       "      <th>Kalori</th>\n",
       "    </tr>\n",
       "  </thead>\n",
       "  <tbody>\n",
       "    <tr>\n",
       "      <th>8</th>\n",
       "      <td>Havva</td>\n",
       "      <td>Basketbol</td>\n",
       "      <td>400</td>\n",
       "    </tr>\n",
       "    <tr>\n",
       "      <th>9</th>\n",
       "      <td>Büşra</td>\n",
       "      <td>Koşu</td>\n",
       "      <td>300</td>\n",
       "    </tr>\n",
       "    <tr>\n",
       "      <th>10</th>\n",
       "      <td>Dilara</td>\n",
       "      <td>Koşu</td>\n",
       "      <td>200</td>\n",
       "    </tr>\n",
       "    <tr>\n",
       "      <th>11</th>\n",
       "      <td>Elif</td>\n",
       "      <td>Yüzme</td>\n",
       "      <td>100</td>\n",
       "    </tr>\n",
       "  </tbody>\n",
       "</table>\n",
       "</div>"
      ],
      "text/plain": [
       "      Isim       Spor  Kalori\n",
       "8    Havva  Basketbol     400\n",
       "9    Büşra       Koşu     300\n",
       "10  Dilara       Koşu     200\n",
       "11    Elif      Yüzme     100"
      ]
     },
     "execution_count": 44,
     "metadata": {},
     "output_type": "execute_result"
    }
   ],
   "source": [
    "dictionary3 = {\"Isim\" : [\"Havva\",\"Büşra\",\"Dilara\",\"Elif\"],\n",
    "               \"Spor\" : [\"Basketbol\", \"Koşu\", \"Koşu\", \"Yüzme\"],\n",
    "               \"Kalori\" : [400,300,200,100]\n",
    "              }\n",
    "dataFrame3 = pd.DataFrame(dictionary3, index = [8,9,10,11])\n",
    "dataFrame3"
   ]
  },
  {
   "cell_type": "code",
   "execution_count": 45,
   "id": "be8ec8f9",
   "metadata": {
    "execution": {
     "iopub.execute_input": "2024-01-22T14:21:03.173419Z",
     "iopub.status.busy": "2024-01-22T14:21:03.173042Z",
     "iopub.status.idle": "2024-01-22T14:21:03.185955Z",
     "shell.execute_reply": "2024-01-22T14:21:03.184695Z"
    },
    "papermill": {
     "duration": 0.046242,
     "end_time": "2024-01-22T14:21:03.188579",
     "exception": false,
     "start_time": "2024-01-22T14:21:03.142337",
     "status": "completed"
    },
    "tags": []
   },
   "outputs": [
    {
     "data": {
      "text/html": [
       "<div>\n",
       "<style scoped>\n",
       "    .dataframe tbody tr th:only-of-type {\n",
       "        vertical-align: middle;\n",
       "    }\n",
       "\n",
       "    .dataframe tbody tr th {\n",
       "        vertical-align: top;\n",
       "    }\n",
       "\n",
       "    .dataframe thead th {\n",
       "        text-align: right;\n",
       "    }\n",
       "</style>\n",
       "<table border=\"1\" class=\"dataframe\">\n",
       "  <thead>\n",
       "    <tr style=\"text-align: right;\">\n",
       "      <th></th>\n",
       "      <th>Isim</th>\n",
       "      <th>Spor</th>\n",
       "      <th>Kalori</th>\n",
       "    </tr>\n",
       "  </thead>\n",
       "  <tbody>\n",
       "    <tr>\n",
       "      <th>0</th>\n",
       "      <td>Ahmet</td>\n",
       "      <td>Koşu</td>\n",
       "      <td>100</td>\n",
       "    </tr>\n",
       "    <tr>\n",
       "      <th>1</th>\n",
       "      <td>Beren</td>\n",
       "      <td>Yüzme</td>\n",
       "      <td>200</td>\n",
       "    </tr>\n",
       "    <tr>\n",
       "      <th>2</th>\n",
       "      <td>Huseyin</td>\n",
       "      <td>Yüzme</td>\n",
       "      <td>300</td>\n",
       "    </tr>\n",
       "    <tr>\n",
       "      <th>3</th>\n",
       "      <td>Aslı</td>\n",
       "      <td>Basketbol</td>\n",
       "      <td>400</td>\n",
       "    </tr>\n",
       "    <tr>\n",
       "      <th>4</th>\n",
       "      <td>Deniz</td>\n",
       "      <td>Yüzme</td>\n",
       "      <td>200</td>\n",
       "    </tr>\n",
       "    <tr>\n",
       "      <th>5</th>\n",
       "      <td>Yağmur</td>\n",
       "      <td>Basketbol</td>\n",
       "      <td>100</td>\n",
       "    </tr>\n",
       "    <tr>\n",
       "      <th>6</th>\n",
       "      <td>Nehir</td>\n",
       "      <td>Koşu</td>\n",
       "      <td>400</td>\n",
       "    </tr>\n",
       "    <tr>\n",
       "      <th>7</th>\n",
       "      <td>Dere</td>\n",
       "      <td>Basketbol</td>\n",
       "      <td>300</td>\n",
       "    </tr>\n",
       "    <tr>\n",
       "      <th>8</th>\n",
       "      <td>Havva</td>\n",
       "      <td>Basketbol</td>\n",
       "      <td>400</td>\n",
       "    </tr>\n",
       "    <tr>\n",
       "      <th>9</th>\n",
       "      <td>Büşra</td>\n",
       "      <td>Koşu</td>\n",
       "      <td>300</td>\n",
       "    </tr>\n",
       "    <tr>\n",
       "      <th>10</th>\n",
       "      <td>Dilara</td>\n",
       "      <td>Koşu</td>\n",
       "      <td>200</td>\n",
       "    </tr>\n",
       "    <tr>\n",
       "      <th>11</th>\n",
       "      <td>Elif</td>\n",
       "      <td>Yüzme</td>\n",
       "      <td>100</td>\n",
       "    </tr>\n",
       "  </tbody>\n",
       "</table>\n",
       "</div>"
      ],
      "text/plain": [
       "       Isim       Spor  Kalori\n",
       "0     Ahmet       Koşu     100\n",
       "1     Beren      Yüzme     200\n",
       "2   Huseyin      Yüzme     300\n",
       "3      Aslı  Basketbol     400\n",
       "4     Deniz      Yüzme     200\n",
       "5    Yağmur  Basketbol     100\n",
       "6     Nehir       Koşu     400\n",
       "7      Dere  Basketbol     300\n",
       "8     Havva  Basketbol     400\n",
       "9     Büşra       Koşu     300\n",
       "10   Dilara       Koşu     200\n",
       "11     Elif      Yüzme     100"
      ]
     },
     "execution_count": 45,
     "metadata": {},
     "output_type": "execute_result"
    }
   ],
   "source": [
    "pd.concat([dataFrame1,dataFrame2,dataFrame3], axis = 0)    # axis = 0'a gerek yok."
   ]
  },
  {
   "cell_type": "markdown",
   "id": "ddf163dd",
   "metadata": {
    "papermill": {
     "duration": 0.030432,
     "end_time": "2024-01-22T14:21:03.249113",
     "exception": false,
     "start_time": "2024-01-22T14:21:03.218681",
     "status": "completed"
    },
    "tags": []
   },
   "source": [
    "### MERGING"
   ]
  },
  {
   "cell_type": "code",
   "execution_count": 46,
   "id": "ffa52968",
   "metadata": {
    "execution": {
     "iopub.execute_input": "2024-01-22T14:21:03.311551Z",
     "iopub.status.busy": "2024-01-22T14:21:03.311108Z",
     "iopub.status.idle": "2024-01-22T14:21:03.323547Z",
     "shell.execute_reply": "2024-01-22T14:21:03.322399Z"
    },
    "papermill": {
     "duration": 0.046567,
     "end_time": "2024-01-22T14:21:03.325889",
     "exception": false,
     "start_time": "2024-01-22T14:21:03.279322",
     "status": "completed"
    },
    "tags": []
   },
   "outputs": [
    {
     "data": {
      "text/html": [
       "<div>\n",
       "<style scoped>\n",
       "    .dataframe tbody tr th:only-of-type {\n",
       "        vertical-align: middle;\n",
       "    }\n",
       "\n",
       "    .dataframe tbody tr th {\n",
       "        vertical-align: top;\n",
       "    }\n",
       "\n",
       "    .dataframe thead th {\n",
       "        text-align: right;\n",
       "    }\n",
       "</style>\n",
       "<table border=\"1\" class=\"dataframe\">\n",
       "  <thead>\n",
       "    <tr style=\"text-align: right;\">\n",
       "      <th></th>\n",
       "      <th>Isim</th>\n",
       "      <th>Spor</th>\n",
       "    </tr>\n",
       "  </thead>\n",
       "  <tbody>\n",
       "    <tr>\n",
       "      <th>0</th>\n",
       "      <td>Havva</td>\n",
       "      <td>Basketbol</td>\n",
       "    </tr>\n",
       "    <tr>\n",
       "      <th>1</th>\n",
       "      <td>Büşra</td>\n",
       "      <td>Koşu</td>\n",
       "    </tr>\n",
       "    <tr>\n",
       "      <th>2</th>\n",
       "      <td>Dilara</td>\n",
       "      <td>Koşu</td>\n",
       "    </tr>\n",
       "    <tr>\n",
       "      <th>3</th>\n",
       "      <td>Elif</td>\n",
       "      <td>Yüzme</td>\n",
       "    </tr>\n",
       "  </tbody>\n",
       "</table>\n",
       "</div>"
      ],
      "text/plain": [
       "     Isim       Spor\n",
       "0   Havva  Basketbol\n",
       "1   Büşra       Koşu\n",
       "2  Dilara       Koşu\n",
       "3    Elif      Yüzme"
      ]
     },
     "execution_count": 46,
     "metadata": {},
     "output_type": "execute_result"
    }
   ],
   "source": [
    "mergeDict1 = {\"Isim\" : [\"Havva\",\"Büşra\",\"Dilara\",\"Elif\"],\n",
    "             \"Spor\" : [\"Basketbol\", \"Koşu\", \"Koşu\", \"Yüzme\"]\n",
    "            }\n",
    "mergeDataFrame1 = pd.DataFrame(mergeDict1)\n",
    "mergeDataFrame1\n"
   ]
  },
  {
   "cell_type": "code",
   "execution_count": 47,
   "id": "1fd96763",
   "metadata": {
    "execution": {
     "iopub.execute_input": "2024-01-22T14:21:03.389406Z",
     "iopub.status.busy": "2024-01-22T14:21:03.389020Z",
     "iopub.status.idle": "2024-01-22T14:21:03.400914Z",
     "shell.execute_reply": "2024-01-22T14:21:03.399749Z"
    },
    "papermill": {
     "duration": 0.046014,
     "end_time": "2024-01-22T14:21:03.403317",
     "exception": false,
     "start_time": "2024-01-22T14:21:03.357303",
     "status": "completed"
    },
    "tags": []
   },
   "outputs": [
    {
     "data": {
      "text/html": [
       "<div>\n",
       "<style scoped>\n",
       "    .dataframe tbody tr th:only-of-type {\n",
       "        vertical-align: middle;\n",
       "    }\n",
       "\n",
       "    .dataframe tbody tr th {\n",
       "        vertical-align: top;\n",
       "    }\n",
       "\n",
       "    .dataframe thead th {\n",
       "        text-align: right;\n",
       "    }\n",
       "</style>\n",
       "<table border=\"1\" class=\"dataframe\">\n",
       "  <thead>\n",
       "    <tr style=\"text-align: right;\">\n",
       "      <th></th>\n",
       "      <th>Isim</th>\n",
       "      <th>Kalori</th>\n",
       "    </tr>\n",
       "  </thead>\n",
       "  <tbody>\n",
       "    <tr>\n",
       "      <th>0</th>\n",
       "      <td>Havva</td>\n",
       "      <td>100</td>\n",
       "    </tr>\n",
       "    <tr>\n",
       "      <th>1</th>\n",
       "      <td>Büşra</td>\n",
       "      <td>150</td>\n",
       "    </tr>\n",
       "    <tr>\n",
       "      <th>2</th>\n",
       "      <td>Dilara</td>\n",
       "      <td>200</td>\n",
       "    </tr>\n",
       "    <tr>\n",
       "      <th>3</th>\n",
       "      <td>Elif</td>\n",
       "      <td>240</td>\n",
       "    </tr>\n",
       "  </tbody>\n",
       "</table>\n",
       "</div>"
      ],
      "text/plain": [
       "     Isim  Kalori\n",
       "0   Havva     100\n",
       "1   Büşra     150\n",
       "2  Dilara     200\n",
       "3    Elif     240"
      ]
     },
     "execution_count": 47,
     "metadata": {},
     "output_type": "execute_result"
    }
   ],
   "source": [
    "mergeDict2 = {\"Isim\" : [\"Havva\",\"Büşra\",\"Dilara\",\"Elif\"],\n",
    "             \"Kalori\" : [100,150,200,240]\n",
    "             }\n",
    "mergeDataFrame2 = pd.DataFrame(mergeDict2)\n",
    "mergeDataFrame2"
   ]
  },
  {
   "cell_type": "code",
   "execution_count": 48,
   "id": "10fadfae",
   "metadata": {
    "execution": {
     "iopub.execute_input": "2024-01-22T14:21:03.465066Z",
     "iopub.status.busy": "2024-01-22T14:21:03.464659Z",
     "iopub.status.idle": "2024-01-22T14:21:03.482734Z",
     "shell.execute_reply": "2024-01-22T14:21:03.481639Z"
    },
    "papermill": {
     "duration": 0.051959,
     "end_time": "2024-01-22T14:21:03.485531",
     "exception": false,
     "start_time": "2024-01-22T14:21:03.433572",
     "status": "completed"
    },
    "tags": []
   },
   "outputs": [
    {
     "data": {
      "text/html": [
       "<div>\n",
       "<style scoped>\n",
       "    .dataframe tbody tr th:only-of-type {\n",
       "        vertical-align: middle;\n",
       "    }\n",
       "\n",
       "    .dataframe tbody tr th {\n",
       "        vertical-align: top;\n",
       "    }\n",
       "\n",
       "    .dataframe thead th {\n",
       "        text-align: right;\n",
       "    }\n",
       "</style>\n",
       "<table border=\"1\" class=\"dataframe\">\n",
       "  <thead>\n",
       "    <tr style=\"text-align: right;\">\n",
       "      <th></th>\n",
       "      <th>Isim</th>\n",
       "      <th>Spor</th>\n",
       "      <th>Kalori</th>\n",
       "    </tr>\n",
       "  </thead>\n",
       "  <tbody>\n",
       "    <tr>\n",
       "      <th>0</th>\n",
       "      <td>Havva</td>\n",
       "      <td>Basketbol</td>\n",
       "      <td>100</td>\n",
       "    </tr>\n",
       "    <tr>\n",
       "      <th>1</th>\n",
       "      <td>Büşra</td>\n",
       "      <td>Koşu</td>\n",
       "      <td>150</td>\n",
       "    </tr>\n",
       "    <tr>\n",
       "      <th>2</th>\n",
       "      <td>Dilara</td>\n",
       "      <td>Koşu</td>\n",
       "      <td>200</td>\n",
       "    </tr>\n",
       "    <tr>\n",
       "      <th>3</th>\n",
       "      <td>Elif</td>\n",
       "      <td>Yüzme</td>\n",
       "      <td>240</td>\n",
       "    </tr>\n",
       "  </tbody>\n",
       "</table>\n",
       "</div>"
      ],
      "text/plain": [
       "     Isim       Spor  Kalori\n",
       "0   Havva  Basketbol     100\n",
       "1   Büşra       Koşu     150\n",
       "2  Dilara       Koşu     200\n",
       "3    Elif      Yüzme     240"
      ]
     },
     "execution_count": 48,
     "metadata": {},
     "output_type": "execute_result"
    }
   ],
   "source": [
    "pd.merge(mergeDataFrame1, mergeDataFrame2, on='Isim')"
   ]
  },
  {
   "cell_type": "markdown",
   "id": "065fcf8e",
   "metadata": {
    "papermill": {
     "duration": 0.029757,
     "end_time": "2024-01-22T14:21:03.546517",
     "exception": false,
     "start_time": "2024-01-22T14:21:03.516760",
     "status": "completed"
    },
    "tags": []
   },
   "source": [
    "### PANDAS İLERİ OPERASYONLAR"
   ]
  },
  {
   "cell_type": "code",
   "execution_count": 49,
   "id": "059218e8",
   "metadata": {
    "execution": {
     "iopub.execute_input": "2024-01-22T14:21:03.608353Z",
     "iopub.status.busy": "2024-01-22T14:21:03.607976Z",
     "iopub.status.idle": "2024-01-22T14:21:03.620552Z",
     "shell.execute_reply": "2024-01-22T14:21:03.619402Z"
    },
    "papermill": {
     "duration": 0.046129,
     "end_time": "2024-01-22T14:21:03.622847",
     "exception": false,
     "start_time": "2024-01-22T14:21:03.576718",
     "status": "completed"
    },
    "tags": []
   },
   "outputs": [
    {
     "data": {
      "text/html": [
       "<div>\n",
       "<style scoped>\n",
       "    .dataframe tbody tr th:only-of-type {\n",
       "        vertical-align: middle;\n",
       "    }\n",
       "\n",
       "    .dataframe tbody tr th {\n",
       "        vertical-align: top;\n",
       "    }\n",
       "\n",
       "    .dataframe thead th {\n",
       "        text-align: right;\n",
       "    }\n",
       "</style>\n",
       "<table border=\"1\" class=\"dataframe\">\n",
       "  <thead>\n",
       "    <tr style=\"text-align: right;\">\n",
       "      <th></th>\n",
       "      <th>Isim</th>\n",
       "      <th>Departman</th>\n",
       "      <th>Maas</th>\n",
       "    </tr>\n",
       "  </thead>\n",
       "  <tbody>\n",
       "    <tr>\n",
       "      <th>0</th>\n",
       "      <td>Deniz</td>\n",
       "      <td>Yazılım</td>\n",
       "      <td>200</td>\n",
       "    </tr>\n",
       "    <tr>\n",
       "      <th>1</th>\n",
       "      <td>Yağmur</td>\n",
       "      <td>Satış</td>\n",
       "      <td>100</td>\n",
       "    </tr>\n",
       "    <tr>\n",
       "      <th>2</th>\n",
       "      <td>Nehir</td>\n",
       "      <td>Pazarlama</td>\n",
       "      <td>400</td>\n",
       "    </tr>\n",
       "    <tr>\n",
       "      <th>3</th>\n",
       "      <td>Dere</td>\n",
       "      <td>Yazılım</td>\n",
       "      <td>300</td>\n",
       "    </tr>\n",
       "  </tbody>\n",
       "</table>\n",
       "</div>"
      ],
      "text/plain": [
       "     Isim  Departman  Maas\n",
       "0   Deniz    Yazılım   200\n",
       "1  Yağmur      Satış   100\n",
       "2   Nehir  Pazarlama   400\n",
       "3    Dere    Yazılım   300"
      ]
     },
     "execution_count": 49,
     "metadata": {},
     "output_type": "execute_result"
    }
   ],
   "source": [
    "salaryDC = {\"Isim\" : [\"Deniz\",\"Yağmur\",\"Nehir\",\"Dere\"],\n",
    "            \"Departman\" : [\"Yazılım\", \"Satış\", \"Pazarlama\", \"Yazılım\"],\n",
    "            \"Maas\" : [200,100,400,300]\n",
    "           }\n",
    "salaryDF = pd.DataFrame(salaryDC)\n",
    "salaryDF"
   ]
  },
  {
   "cell_type": "code",
   "execution_count": 50,
   "id": "2995aeca",
   "metadata": {
    "execution": {
     "iopub.execute_input": "2024-01-22T14:21:03.684830Z",
     "iopub.status.busy": "2024-01-22T14:21:03.684424Z",
     "iopub.status.idle": "2024-01-22T14:21:03.691478Z",
     "shell.execute_reply": "2024-01-22T14:21:03.690710Z"
    },
    "papermill": {
     "duration": 0.040589,
     "end_time": "2024-01-22T14:21:03.693601",
     "exception": false,
     "start_time": "2024-01-22T14:21:03.653012",
     "status": "completed"
    },
    "tags": []
   },
   "outputs": [
    {
     "data": {
      "text/plain": [
       "array(['Yazılım', 'Satış', 'Pazarlama'], dtype=object)"
      ]
     },
     "execution_count": 50,
     "metadata": {},
     "output_type": "execute_result"
    }
   ],
   "source": [
    "# bir sütundakibenzersiz dataları getir.\n",
    "salaryDF[\"Departman\"].unique()"
   ]
  },
  {
   "cell_type": "code",
   "execution_count": 51,
   "id": "2284d1d8",
   "metadata": {
    "execution": {
     "iopub.execute_input": "2024-01-22T14:21:03.758945Z",
     "iopub.status.busy": "2024-01-22T14:21:03.758504Z",
     "iopub.status.idle": "2024-01-22T14:21:03.765095Z",
     "shell.execute_reply": "2024-01-22T14:21:03.764313Z"
    },
    "papermill": {
     "duration": 0.041807,
     "end_time": "2024-01-22T14:21:03.767108",
     "exception": false,
     "start_time": "2024-01-22T14:21:03.725301",
     "status": "completed"
    },
    "tags": []
   },
   "outputs": [
    {
     "data": {
      "text/plain": [
       "3"
      ]
     },
     "execution_count": 51,
     "metadata": {},
     "output_type": "execute_result"
    }
   ],
   "source": [
    "# bir sütundaki benzersiz data sayısı.\n",
    "salaryDF[\"Departman\"].nunique()"
   ]
  },
  {
   "cell_type": "code",
   "execution_count": 52,
   "id": "86517558",
   "metadata": {
    "execution": {
     "iopub.execute_input": "2024-01-22T14:21:03.832106Z",
     "iopub.status.busy": "2024-01-22T14:21:03.831656Z",
     "iopub.status.idle": "2024-01-22T14:21:03.843321Z",
     "shell.execute_reply": "2024-01-22T14:21:03.842156Z"
    },
    "papermill": {
     "duration": 0.047381,
     "end_time": "2024-01-22T14:21:03.845823",
     "exception": false,
     "start_time": "2024-01-22T14:21:03.798442",
     "status": "completed"
    },
    "tags": []
   },
   "outputs": [
    {
     "data": {
      "text/plain": [
       "Departman\n",
       "Yazılım      2\n",
       "Satış        1\n",
       "Pazarlama    1\n",
       "Name: count, dtype: int64"
      ]
     },
     "execution_count": 52,
     "metadata": {},
     "output_type": "execute_result"
    }
   ],
   "source": [
    "# sütundaki dataların tekrar sayısı.\n",
    "salaryDF[\"Departman\"].value_counts()"
   ]
  },
  {
   "cell_type": "code",
   "execution_count": 53,
   "id": "f80eebb6",
   "metadata": {
    "execution": {
     "iopub.execute_input": "2024-01-22T14:21:03.911138Z",
     "iopub.status.busy": "2024-01-22T14:21:03.910722Z",
     "iopub.status.idle": "2024-01-22T14:21:03.920813Z",
     "shell.execute_reply": "2024-01-22T14:21:03.919683Z"
    },
    "papermill": {
     "duration": 0.046119,
     "end_time": "2024-01-22T14:21:03.923253",
     "exception": false,
     "start_time": "2024-01-22T14:21:03.877134",
     "status": "completed"
    },
    "tags": []
   },
   "outputs": [
    {
     "data": {
      "text/plain": [
       "0    174.0\n",
       "1     87.0\n",
       "2    348.0\n",
       "3    261.0\n",
       "Name: Maas, dtype: float64"
      ]
     },
     "execution_count": 53,
     "metadata": {},
     "output_type": "execute_result"
    }
   ],
   "source": [
    "# sütundaki değerleri fonksiyona sok.\n",
    "\n",
    "def totalSalary(salary):\n",
    "    return salary * 0.87\n",
    "\n",
    "salaryDF[\"Maas\"].apply(totalSalary)"
   ]
  },
  {
   "cell_type": "code",
   "execution_count": 54,
   "id": "d1eba542",
   "metadata": {
    "execution": {
     "iopub.execute_input": "2024-01-22T14:21:03.987836Z",
     "iopub.status.busy": "2024-01-22T14:21:03.987462Z",
     "iopub.status.idle": "2024-01-22T14:21:03.998225Z",
     "shell.execute_reply": "2024-01-22T14:21:03.997097Z"
    },
    "papermill": {
     "duration": 0.04615,
     "end_time": "2024-01-22T14:21:04.000738",
     "exception": false,
     "start_time": "2024-01-22T14:21:03.954588",
     "status": "completed"
    },
    "tags": []
   },
   "outputs": [
    {
     "data": {
      "text/html": [
       "<div>\n",
       "<style scoped>\n",
       "    .dataframe tbody tr th:only-of-type {\n",
       "        vertical-align: middle;\n",
       "    }\n",
       "\n",
       "    .dataframe tbody tr th {\n",
       "        vertical-align: top;\n",
       "    }\n",
       "\n",
       "    .dataframe thead th {\n",
       "        text-align: right;\n",
       "    }\n",
       "</style>\n",
       "<table border=\"1\" class=\"dataframe\">\n",
       "  <thead>\n",
       "    <tr style=\"text-align: right;\">\n",
       "      <th></th>\n",
       "      <th>Isim</th>\n",
       "      <th>Departman</th>\n",
       "      <th>Maas</th>\n",
       "    </tr>\n",
       "  </thead>\n",
       "  <tbody>\n",
       "    <tr>\n",
       "      <th>0</th>\n",
       "      <td>False</td>\n",
       "      <td>False</td>\n",
       "      <td>False</td>\n",
       "    </tr>\n",
       "    <tr>\n",
       "      <th>1</th>\n",
       "      <td>False</td>\n",
       "      <td>False</td>\n",
       "      <td>False</td>\n",
       "    </tr>\n",
       "    <tr>\n",
       "      <th>2</th>\n",
       "      <td>False</td>\n",
       "      <td>False</td>\n",
       "      <td>False</td>\n",
       "    </tr>\n",
       "    <tr>\n",
       "      <th>3</th>\n",
       "      <td>False</td>\n",
       "      <td>False</td>\n",
       "      <td>False</td>\n",
       "    </tr>\n",
       "  </tbody>\n",
       "</table>\n",
       "</div>"
      ],
      "text/plain": [
       "    Isim  Departman   Maas\n",
       "0  False      False  False\n",
       "1  False      False  False\n",
       "2  False      False  False\n",
       "3  False      False  False"
      ]
     },
     "execution_count": 54,
     "metadata": {},
     "output_type": "execute_result"
    }
   ],
   "source": [
    "# boş değerleri (NaN) bul\n",
    "salaryDF.isnull()"
   ]
  },
  {
   "cell_type": "code",
   "execution_count": 55,
   "id": "55109cb5",
   "metadata": {
    "execution": {
     "iopub.execute_input": "2024-01-22T14:21:04.067027Z",
     "iopub.status.busy": "2024-01-22T14:21:04.066641Z",
     "iopub.status.idle": "2024-01-22T14:21:04.079044Z",
     "shell.execute_reply": "2024-01-22T14:21:04.077943Z"
    },
    "papermill": {
     "duration": 0.048172,
     "end_time": "2024-01-22T14:21:04.081528",
     "exception": false,
     "start_time": "2024-01-22T14:21:04.033356",
     "status": "completed"
    },
    "tags": []
   },
   "outputs": [
    {
     "data": {
      "text/html": [
       "<div>\n",
       "<style scoped>\n",
       "    .dataframe tbody tr th:only-of-type {\n",
       "        vertical-align: middle;\n",
       "    }\n",
       "\n",
       "    .dataframe tbody tr th {\n",
       "        vertical-align: top;\n",
       "    }\n",
       "\n",
       "    .dataframe thead th {\n",
       "        text-align: right;\n",
       "    }\n",
       "</style>\n",
       "<table border=\"1\" class=\"dataframe\">\n",
       "  <thead>\n",
       "    <tr style=\"text-align: right;\">\n",
       "      <th></th>\n",
       "      <th>Karakter Sınıfı</th>\n",
       "      <th>Karakter Ismi</th>\n",
       "      <th>Karakter Yas</th>\n",
       "    </tr>\n",
       "  </thead>\n",
       "  <tbody>\n",
       "    <tr>\n",
       "      <th>0</th>\n",
       "      <td>South Park</td>\n",
       "      <td>Cartman</td>\n",
       "      <td>9</td>\n",
       "    </tr>\n",
       "    <tr>\n",
       "      <th>1</th>\n",
       "      <td>South Park</td>\n",
       "      <td>Kenny</td>\n",
       "      <td>10</td>\n",
       "    </tr>\n",
       "    <tr>\n",
       "      <th>2</th>\n",
       "      <td>Simpson</td>\n",
       "      <td>Homer</td>\n",
       "      <td>23</td>\n",
       "    </tr>\n",
       "    <tr>\n",
       "      <th>3</th>\n",
       "      <td>Simpson</td>\n",
       "      <td>Bart</td>\n",
       "      <td>39</td>\n",
       "    </tr>\n",
       "    <tr>\n",
       "      <th>4</th>\n",
       "      <td>Simpson</td>\n",
       "      <td>Bart</td>\n",
       "      <td>21</td>\n",
       "    </tr>\n",
       "  </tbody>\n",
       "</table>\n",
       "</div>"
      ],
      "text/plain": [
       "  Karakter Sınıfı Karakter Ismi  Karakter Yas\n",
       "0      South Park       Cartman             9\n",
       "1      South Park         Kenny            10\n",
       "2         Simpson         Homer            23\n",
       "3         Simpson          Bart            39\n",
       "4         Simpson          Bart            21"
      ]
     },
     "execution_count": 55,
     "metadata": {},
     "output_type": "execute_result"
    }
   ],
   "source": [
    "characterDC = {\"Karakter Sınıfı\" : [\"South Park\",\"South Park\",\"Simpson\",\"Simpson\", \"Simpson\"],\n",
    "               \"Karakter Ismi\" : [\"Cartman\", \"Kenny\", \"Homer\", \"Bart\", \"Bart\"],\n",
    "\n",
    "               \"Karakter Yas\" : [9,10,23,39, 21]\n",
    "              }\n",
    "characterDF = pd.DataFrame(characterDC)\n",
    "characterDF"
   ]
  },
  {
   "cell_type": "code",
   "execution_count": 56,
   "id": "c3256c4b",
   "metadata": {
    "execution": {
     "iopub.execute_input": "2024-01-22T14:21:04.147854Z",
     "iopub.status.busy": "2024-01-22T14:21:04.147109Z",
     "iopub.status.idle": "2024-01-22T14:21:04.170282Z",
     "shell.execute_reply": "2024-01-22T14:21:04.169473Z"
    },
    "papermill": {
     "duration": 0.058421,
     "end_time": "2024-01-22T14:21:04.172396",
     "exception": false,
     "start_time": "2024-01-22T14:21:04.113975",
     "status": "completed"
    },
    "tags": []
   },
   "outputs": [
    {
     "data": {
      "text/html": [
       "<div>\n",
       "<style scoped>\n",
       "    .dataframe tbody tr th:only-of-type {\n",
       "        vertical-align: middle;\n",
       "    }\n",
       "\n",
       "    .dataframe tbody tr th {\n",
       "        vertical-align: top;\n",
       "    }\n",
       "\n",
       "    .dataframe thead th {\n",
       "        text-align: right;\n",
       "    }\n",
       "</style>\n",
       "<table border=\"1\" class=\"dataframe\">\n",
       "  <thead>\n",
       "    <tr style=\"text-align: right;\">\n",
       "      <th></th>\n",
       "      <th></th>\n",
       "      <th>Karakter Yas</th>\n",
       "    </tr>\n",
       "    <tr>\n",
       "      <th>Karakter Sınıfı</th>\n",
       "      <th>Karakter Ismi</th>\n",
       "      <th></th>\n",
       "    </tr>\n",
       "  </thead>\n",
       "  <tbody>\n",
       "    <tr>\n",
       "      <th rowspan=\"2\" valign=\"top\">Simpson</th>\n",
       "      <th>Bart</th>\n",
       "      <td>60</td>\n",
       "    </tr>\n",
       "    <tr>\n",
       "      <th>Homer</th>\n",
       "      <td>23</td>\n",
       "    </tr>\n",
       "    <tr>\n",
       "      <th rowspan=\"2\" valign=\"top\">South Park</th>\n",
       "      <th>Cartman</th>\n",
       "      <td>9</td>\n",
       "    </tr>\n",
       "    <tr>\n",
       "      <th>Kenny</th>\n",
       "      <td>10</td>\n",
       "    </tr>\n",
       "  </tbody>\n",
       "</table>\n",
       "</div>"
      ],
      "text/plain": [
       "                               Karakter Yas\n",
       "Karakter Sınıfı Karakter Ismi              \n",
       "Simpson         Bart                     60\n",
       "                Homer                    23\n",
       "South Park      Cartman                   9\n",
       "                Kenny                    10"
      ]
     },
     "execution_count": 56,
     "metadata": {},
     "output_type": "execute_result"
    }
   ],
   "source": [
    "characterDF.pivot_table(values = 'Karakter Yas', index = [\"Karakter Sınıfı\", \"Karakter Ismi\"],)\n",
    "\n",
    "# tekrar eden veriler var ise ortalamayı alır.\n",
    "# ortalamayı alması yerine specific bir işlem yapabiliriz : \n",
    "\n",
    "characterDF.pivot_table(values = 'Karakter Yas', index = [\"Karakter Sınıfı\", \"Karakter Ismi\"] , aggfunc = np.sum)\n",
    "\n",
    "# aggfunc = np.sum  :  tekrar eden verileri toplar."
   ]
  },
  {
   "cell_type": "markdown",
   "id": "9bb7f3ce",
   "metadata": {
    "papermill": {
     "duration": 0.031394,
     "end_time": "2024-01-22T14:21:04.236104",
     "exception": false,
     "start_time": "2024-01-22T14:21:04.204710",
     "status": "completed"
    },
    "tags": []
   },
   "source": [
    "### READ CSV AND EXCEL FILES"
   ]
  },
  {
   "cell_type": "code",
   "execution_count": 57,
   "id": "d326e34c",
   "metadata": {
    "execution": {
     "iopub.execute_input": "2024-01-22T14:21:04.302237Z",
     "iopub.status.busy": "2024-01-22T14:21:04.301776Z",
     "iopub.status.idle": "2024-01-22T14:21:04.306259Z",
     "shell.execute_reply": "2024-01-22T14:21:04.305007Z"
    },
    "papermill": {
     "duration": 0.040926,
     "end_time": "2024-01-22T14:21:04.308755",
     "exception": false,
     "start_time": "2024-01-22T14:21:04.267829",
     "status": "completed"
    },
    "tags": []
   },
   "outputs": [],
   "source": [
    "# pd.read_excel(\"salary.xlsx\")\n",
    "# pd.read_csv(\"salary.csv\")"
   ]
  },
  {
   "cell_type": "code",
   "execution_count": null,
   "id": "be7d35c0",
   "metadata": {
    "papermill": {
     "duration": 0.033089,
     "end_time": "2024-01-22T14:21:04.374700",
     "exception": false,
     "start_time": "2024-01-22T14:21:04.341611",
     "status": "completed"
    },
    "tags": []
   },
   "outputs": [],
   "source": []
  }
 ],
 "metadata": {
  "kaggle": {
   "accelerator": "none",
   "dataSources": [],
   "isGpuEnabled": false,
   "isInternetEnabled": false,
   "language": "python",
   "sourceType": "notebook"
  },
  "kernelspec": {
   "display_name": "Python 3",
   "language": "python",
   "name": "python3"
  },
  "language_info": {
   "codemirror_mode": {
    "name": "ipython",
    "version": 3
   },
   "file_extension": ".py",
   "mimetype": "text/x-python",
   "name": "python",
   "nbconvert_exporter": "python",
   "pygments_lexer": "ipython3",
   "version": "3.10.12"
  },
  "papermill": {
   "default_parameters": {},
   "duration": 9.205302,
   "end_time": "2024-01-22T14:21:04.930883",
   "environment_variables": {},
   "exception": null,
   "input_path": "__notebook__.ipynb",
   "output_path": "__notebook__.ipynb",
   "parameters": {},
   "start_time": "2024-01-22T14:20:55.725581",
   "version": "2.4.0"
  }
 },
 "nbformat": 4,
 "nbformat_minor": 5
}
