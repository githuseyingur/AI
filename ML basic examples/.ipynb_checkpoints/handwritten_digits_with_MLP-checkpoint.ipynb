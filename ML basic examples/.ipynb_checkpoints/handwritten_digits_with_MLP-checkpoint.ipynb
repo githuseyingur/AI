{
 "cells": [
  {
   "cell_type": "code",
   "execution_count": 97,
   "id": "1ab18ff6-872a-4a1f-b4d0-fbca2bbbf5f7",
   "metadata": {},
   "outputs": [],
   "source": [
    "import numpy as np\n",
    "import matplotlib.pyplot as plt\n",
    "from sklearn import datasets, neural_network\n",
    "import sklearn as sk\n",
    "plt.rcParams['figure.figsize'] = [12, 4]\n",
    "# rcParams: Matplotlib ayarlarını depolar.\n",
    "# figure.figsize : Grafik boyutu parametresi\n",
    "# Tüm grafiğin boyutu (12 x 4) olarak ayarlanır. (Output alanı)"
   ]
  },
  {
   "cell_type": "code",
   "execution_count": 183,
   "id": "0a54407c-c711-4c1d-8964-a715a4db2ccb",
   "metadata": {},
   "outputs": [
    {
     "data": {
      "image/png": "[encoded data removed]",
      "text/plain": [
       "<Figure size 1200x400 with 8 Axes>"
      ]
     },
     "metadata": {},
     "output_type": "display_data"
    }
   ],
   "source": [
    "# https://scikit-learn.org/stable/auto_examples/classification/plot_digits_classification.html\n",
    "\n",
    "digits = datasets.load_digits()   # type = Bunch\n",
    "\n",
    "# The data that we are interested in is made of 8x8 images of digits, let's\n",
    "# have a look at the first 4 images.\n",
    "_, axes = plt.subplots(1, 8) # 1 satır ve 4 sütundan oluşan bir grafik düzeni oluştur. (tuple unpacking)\n",
    "# _ : kullanılmayacak figure objecti\n",
    "# axes : eksenler dizisi (grafikleri yerleştireceğimiz alanlar)\n",
    "images_and_labels = list(zip(digits.images, digits.target))\n",
    "for ax, (image, label) in zip(axes, images_and_labels[:8]): # buradaki zip, her bir ekseni bir image-etiket çifti ile eşleştirir.\n",
    "    # ax: her bir eksen.    axes: eksenler (yukarıda tanımlanan)\n",
    "    ax.set_axis_off()  # Ekseni gizler, temiz bir görünüm sağlar.\n",
    "    ax.imshow(image, cmap=plt.cm.gray_r, interpolation='nearest') # Görüntüyü gri tonlamalı olarak gösterir.\n",
    "    # interpolation='nearest'\n",
    "    # her pikselin rengini, en yakın komşusunun rengini alarak belirler. (nearest-neighbor interpolasyon yöntemi)\n",
    "    \n",
    "    ax.set_title('Label: %i' % label)"
   ]
  },
  {
   "cell_type": "code",
   "execution_count": 101,
   "id": "c9778fd8-bb6b-4aed-8327-26dccfcb79f2",
   "metadata": {},
   "outputs": [
    {
     "data": {
      "text/plain": [
       "[(<Axes: title={'center': 'Label: 0'}>,\n",
       "  (array([[ 0.,  0.,  5., 13.,  9.,  1.,  0.,  0.],\n",
       "          [ 0.,  0., 13., 15., 10., 15.,  5.,  0.],\n",
       "          [ 0.,  3., 15.,  2.,  0., 11.,  8.,  0.],\n",
       "          [ 0.,  4., 12.,  0.,  0.,  8.,  8.,  0.],\n",
       "          [ 0.,  5.,  8.,  0.,  0.,  9.,  8.,  0.],\n",
       "          [ 0.,  4., 11.,  0.,  1., 12.,  7.,  0.],\n",
       "          [ 0.,  2., 14.,  5., 10., 12.,  0.,  0.],\n",
       "          [ 0.,  0.,  6., 13., 10.,  0.,  0.,  0.]]),\n",
       "   0)),\n",
       " (<Axes: title={'center': 'Label: 1'}>,\n",
       "  (array([[ 0.,  0.,  0., 12., 13.,  5.,  0.,  0.],\n",
       "          [ 0.,  0.,  0., 11., 16.,  9.,  0.,  0.],\n",
       "          [ 0.,  0.,  3., 15., 16.,  6.,  0.,  0.],\n",
       "          [ 0.,  7., 15., 16., 16.,  2.,  0.,  0.],\n",
       "          [ 0.,  0.,  1., 16., 16.,  3.,  0.,  0.],\n",
       "          [ 0.,  0.,  1., 16., 16.,  6.,  0.,  0.],\n",
       "          [ 0.,  0.,  1., 16., 16.,  6.,  0.,  0.],\n",
       "          [ 0.,  0.,  0., 11., 16., 10.,  0.,  0.]]),\n",
       "   1)),\n",
       " (<Axes: title={'center': 'Label: 2'}>,\n",
       "  (array([[ 0.,  0.,  0.,  4., 15., 12.,  0.,  0.],\n",
       "          [ 0.,  0.,  3., 16., 15., 14.,  0.,  0.],\n",
       "          [ 0.,  0.,  8., 13.,  8., 16.,  0.,  0.],\n",
       "          [ 0.,  0.,  1.,  6., 15., 11.,  0.,  0.],\n",
       "          [ 0.,  1.,  8., 13., 15.,  1.,  0.,  0.],\n",
       "          [ 0.,  9., 16., 16.,  5.,  0.,  0.,  0.],\n",
       "          [ 0.,  3., 13., 16., 16., 11.,  5.,  0.],\n",
       "          [ 0.,  0.,  0.,  3., 11., 16.,  9.,  0.]]),\n",
       "   2)),\n",
       " (<Axes: title={'center': 'Label: 3'}>,\n",
       "  (array([[ 0.,  0.,  7., 15., 13.,  1.,  0.,  0.],\n",
       "          [ 0.,  8., 13.,  6., 15.,  4.,  0.,  0.],\n",
       "          [ 0.,  2.,  1., 13., 13.,  0.,  0.,  0.],\n",
       "          [ 0.,  0.,  2., 15., 11.,  1.,  0.,  0.],\n",
       "          [ 0.,  0.,  0.,  1., 12., 12.,  1.,  0.],\n",
       "          [ 0.,  0.,  0.,  0.,  1., 10.,  8.,  0.],\n",
       "          [ 0.,  0.,  8.,  4.,  5., 14.,  9.,  0.],\n",
       "          [ 0.,  0.,  7., 13., 13.,  9.,  0.,  0.]]),\n",
       "   3))]"
      ]
     },
     "execution_count": 101,
     "metadata": {},
     "output_type": "execute_result"
    }
   ],
   "source": [
    "digits\n",
    "list(zip(digits.images, digits.target))\n",
    "type(digits.images)\n",
    "digits.target\n",
    "list(zip(axes, images_and_labels[:4]))"
   ]
  },
  {
   "cell_type": "code",
   "execution_count": 137,
   "id": "89b460d3-2d18-4852-b640-14674ec2d8e3",
   "metadata": {},
   "outputs": [],
   "source": [
    "np.random.seed(0)\n",
    "# FLATTENING (DÜZLEŞTİRME)\n",
    "# turn the data in a (samples, feature) matrix:\n",
    "data = digits.images.reshape((len(digits.images), -1))  # her bir 8x8'lik görüntüyü 64 boyutlu bir vektöre dönüştürür.\n",
    "# Her bir image bir sample(örnek) ve her bir piksel bir feature(özellik) olur. (64 özellik)\n",
    "\n",
    "# create a small neural network classifier\n",
    "from sklearn.neural_network import MLPClassifier  # a classic neural network\n",
    "classifier = MLPClassifier(alpha=1e-3)\n",
    "\n",
    "# Split data into train and test subsets\n",
    "X_train, X_test, y_train, y_test = sk.model_selection.train_test_split(data, digits.target, test_size=0.5, shuffle=False)\n",
    "\n",
    "# We learn the digits on the first half of the digits\n",
    "classifier.fit(X_train, y_train)\n",
    "\n",
    "# Now predict the value of the digit on the second half:\n",
    "predicted = classifier.predict(X_test)\n",
    "\n"
   ]
  },
  {
   "cell_type": "code",
   "execution_count": 185,
   "id": "cfb4fc93-b5ef-4b28-9979-635139783645",
   "metadata": {},
   "outputs": [
    {
     "data": {
      "image/png": "[encoded data removed]",
      "text/plain": [
       "<Figure size 1200x400 with 16 Axes>"
      ]
     },
     "metadata": {},
     "output_type": "display_data"
    }
   ],
   "source": [
    "_, axes = plt.subplots(2, 8)  # 2 satır, 8 sütunlu grafik düzeni\n",
    "images_and_predictions = list(zip(digits.images[len(digits.images) // 2:], predicted))  \n",
    "images_and_labels = list(zip(digits.images[len(digits.images) // 2:], digits.target[len(digits.target) // 2:]))\n",
    "# test verisi için veri setini ikiye böldüğümüz için, veri setinin ikinci yarısı üzerinden test yapmalıyız. (// 2)\n",
    "\n",
    "\n",
    "\n",
    "# İlk satırda tahminleri göster\n",
    "for ax, (image, prediction) in zip(axes[0], images_and_predictions[:8]):\n",
    "    ax.set_axis_off()\n",
    "    ax.imshow(image, cmap=plt.cm.gray_r, interpolation='nearest')\n",
    "    ax.set_title('Prediction: %i' % prediction)\n",
    "\n",
    "# İkinci satırda gerçek etiketleri göster\n",
    "for ax, (image, label) in zip(axes[1], images_and_labels[:8]):\n",
    "    ax.set_axis_off()\n",
    "    ax.imshow(image, cmap=plt.cm.gray_r, interpolation='nearest')\n",
    "    ax.set_title('Target: %i' % label)"
   ]
  },
  {
   "cell_type": "code",
   "execution_count": null,
   "id": "5eb5cfdb-bdb4-461b-9e9b-ca914925f43d",
   "metadata": {},
   "outputs": [],
   "source": []
  }
 ],
 "metadata": {
  "kernelspec": {
   "display_name": "Python [conda env:base] *",
   "language": "python",
   "name": "conda-base-py"
  },
  "language_info": {
   "codemirror_mode": {
    "name": "ipython",
    "version": 3
   },
   "file_extension": ".py",
   "mimetype": "text/x-python",
   "name": "python",
   "nbconvert_exporter": "python",
   "pygments_lexer": "ipython3",
   "version": "3.12.7"
  }
 },
 "nbformat": 4,
 "nbformat_minor": 5
}
